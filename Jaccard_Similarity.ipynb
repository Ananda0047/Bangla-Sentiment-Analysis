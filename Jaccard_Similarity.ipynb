{
  "nbformat": 4,
  "nbformat_minor": 0,
  "metadata": {
    "colab": {
      "provenance": [],
      "authorship_tag": "ABX9TyNytInph6KBmudXe6Yw0cox",
      "include_colab_link": true
    },
    "kernelspec": {
      "name": "python3",
      "display_name": "Python 3"
    },
    "language_info": {
      "name": "python"
    }
  },
  "cells": [
    {
      "cell_type": "markdown",
      "metadata": {
        "id": "view-in-github",
        "colab_type": "text"
      },
      "source": [
        "<a href=\"https://colab.research.google.com/github/Ananda0047/Bangla-Sentiment-Analysis/blob/main/Jaccard_Similarity.ipynb\" target=\"_parent\"><img src=\"https://colab.research.google.com/assets/colab-badge.svg\" alt=\"Open In Colab\"/></a>"
      ]
    },
    {
      "cell_type": "code",
      "execution_count": null,
      "metadata": {
        "id": "KAODea38yOaC"
      },
      "outputs": [],
      "source": [
        "import numpy as np # linear algebra\n",
        "import pandas as pd # data processing, CSV file I/O (e.g. pd.read_csv)\n",
        "import itertools"
      ]
    },
    {
      "cell_type": "code",
      "source": [
        "from google.colab import files\n",
        "uploaded = files.upload()"
      ],
      "metadata": {
        "colab": {
          "base_uri": "https://localhost:8080/",
          "height": 74
        },
        "id": "-JYoKoQtyQgN",
        "outputId": "2041b32e-e9cf-4890-c6c6-f8a1fde468b1"
      },
      "execution_count": null,
      "outputs": [
        {
          "output_type": "display_data",
          "data": {
            "text/plain": [
              "<IPython.core.display.HTML object>"
            ],
            "text/html": [
              "\n",
              "     <input type=\"file\" id=\"files-d60f1af6-b9fb-4c47-81a5-d196905f2ee6\" name=\"files[]\" multiple disabled\n",
              "        style=\"border:none\" />\n",
              "     <output id=\"result-d60f1af6-b9fb-4c47-81a5-d196905f2ee6\">\n",
              "      Upload widget is only available when the cell has been executed in the\n",
              "      current browser session. Please rerun this cell to enable.\n",
              "      </output>\n",
              "      <script>// Copyright 2017 Google LLC\n",
              "//\n",
              "// Licensed under the Apache License, Version 2.0 (the \"License\");\n",
              "// you may not use this file except in compliance with the License.\n",
              "// You may obtain a copy of the License at\n",
              "//\n",
              "//      http://www.apache.org/licenses/LICENSE-2.0\n",
              "//\n",
              "// Unless required by applicable law or agreed to in writing, software\n",
              "// distributed under the License is distributed on an \"AS IS\" BASIS,\n",
              "// WITHOUT WARRANTIES OR CONDITIONS OF ANY KIND, either express or implied.\n",
              "// See the License for the specific language governing permissions and\n",
              "// limitations under the License.\n",
              "\n",
              "/**\n",
              " * @fileoverview Helpers for google.colab Python module.\n",
              " */\n",
              "(function(scope) {\n",
              "function span(text, styleAttributes = {}) {\n",
              "  const element = document.createElement('span');\n",
              "  element.textContent = text;\n",
              "  for (const key of Object.keys(styleAttributes)) {\n",
              "    element.style[key] = styleAttributes[key];\n",
              "  }\n",
              "  return element;\n",
              "}\n",
              "\n",
              "// Max number of bytes which will be uploaded at a time.\n",
              "const MAX_PAYLOAD_SIZE = 100 * 1024;\n",
              "\n",
              "function _uploadFiles(inputId, outputId) {\n",
              "  const steps = uploadFilesStep(inputId, outputId);\n",
              "  const outputElement = document.getElementById(outputId);\n",
              "  // Cache steps on the outputElement to make it available for the next call\n",
              "  // to uploadFilesContinue from Python.\n",
              "  outputElement.steps = steps;\n",
              "\n",
              "  return _uploadFilesContinue(outputId);\n",
              "}\n",
              "\n",
              "// This is roughly an async generator (not supported in the browser yet),\n",
              "// where there are multiple asynchronous steps and the Python side is going\n",
              "// to poll for completion of each step.\n",
              "// This uses a Promise to block the python side on completion of each step,\n",
              "// then passes the result of the previous step as the input to the next step.\n",
              "function _uploadFilesContinue(outputId) {\n",
              "  const outputElement = document.getElementById(outputId);\n",
              "  const steps = outputElement.steps;\n",
              "\n",
              "  const next = steps.next(outputElement.lastPromiseValue);\n",
              "  return Promise.resolve(next.value.promise).then((value) => {\n",
              "    // Cache the last promise value to make it available to the next\n",
              "    // step of the generator.\n",
              "    outputElement.lastPromiseValue = value;\n",
              "    return next.value.response;\n",
              "  });\n",
              "}\n",
              "\n",
              "/**\n",
              " * Generator function which is called between each async step of the upload\n",
              " * process.\n",
              " * @param {string} inputId Element ID of the input file picker element.\n",
              " * @param {string} outputId Element ID of the output display.\n",
              " * @return {!Iterable<!Object>} Iterable of next steps.\n",
              " */\n",
              "function* uploadFilesStep(inputId, outputId) {\n",
              "  const inputElement = document.getElementById(inputId);\n",
              "  inputElement.disabled = false;\n",
              "\n",
              "  const outputElement = document.getElementById(outputId);\n",
              "  outputElement.innerHTML = '';\n",
              "\n",
              "  const pickedPromise = new Promise((resolve) => {\n",
              "    inputElement.addEventListener('change', (e) => {\n",
              "      resolve(e.target.files);\n",
              "    });\n",
              "  });\n",
              "\n",
              "  const cancel = document.createElement('button');\n",
              "  inputElement.parentElement.appendChild(cancel);\n",
              "  cancel.textContent = 'Cancel upload';\n",
              "  const cancelPromise = new Promise((resolve) => {\n",
              "    cancel.onclick = () => {\n",
              "      resolve(null);\n",
              "    };\n",
              "  });\n",
              "\n",
              "  // Wait for the user to pick the files.\n",
              "  const files = yield {\n",
              "    promise: Promise.race([pickedPromise, cancelPromise]),\n",
              "    response: {\n",
              "      action: 'starting',\n",
              "    }\n",
              "  };\n",
              "\n",
              "  cancel.remove();\n",
              "\n",
              "  // Disable the input element since further picks are not allowed.\n",
              "  inputElement.disabled = true;\n",
              "\n",
              "  if (!files) {\n",
              "    return {\n",
              "      response: {\n",
              "        action: 'complete',\n",
              "      }\n",
              "    };\n",
              "  }\n",
              "\n",
              "  for (const file of files) {\n",
              "    const li = document.createElement('li');\n",
              "    li.append(span(file.name, {fontWeight: 'bold'}));\n",
              "    li.append(span(\n",
              "        `(${file.type || 'n/a'}) - ${file.size} bytes, ` +\n",
              "        `last modified: ${\n",
              "            file.lastModifiedDate ? file.lastModifiedDate.toLocaleDateString() :\n",
              "                                    'n/a'} - `));\n",
              "    const percent = span('0% done');\n",
              "    li.appendChild(percent);\n",
              "\n",
              "    outputElement.appendChild(li);\n",
              "\n",
              "    const fileDataPromise = new Promise((resolve) => {\n",
              "      const reader = new FileReader();\n",
              "      reader.onload = (e) => {\n",
              "        resolve(e.target.result);\n",
              "      };\n",
              "      reader.readAsArrayBuffer(file);\n",
              "    });\n",
              "    // Wait for the data to be ready.\n",
              "    let fileData = yield {\n",
              "      promise: fileDataPromise,\n",
              "      response: {\n",
              "        action: 'continue',\n",
              "      }\n",
              "    };\n",
              "\n",
              "    // Use a chunked sending to avoid message size limits. See b/62115660.\n",
              "    let position = 0;\n",
              "    do {\n",
              "      const length = Math.min(fileData.byteLength - position, MAX_PAYLOAD_SIZE);\n",
              "      const chunk = new Uint8Array(fileData, position, length);\n",
              "      position += length;\n",
              "\n",
              "      const base64 = btoa(String.fromCharCode.apply(null, chunk));\n",
              "      yield {\n",
              "        response: {\n",
              "          action: 'append',\n",
              "          file: file.name,\n",
              "          data: base64,\n",
              "        },\n",
              "      };\n",
              "\n",
              "      let percentDone = fileData.byteLength === 0 ?\n",
              "          100 :\n",
              "          Math.round((position / fileData.byteLength) * 100);\n",
              "      percent.textContent = `${percentDone}% done`;\n",
              "\n",
              "    } while (position < fileData.byteLength);\n",
              "  }\n",
              "\n",
              "  // All done.\n",
              "  yield {\n",
              "    response: {\n",
              "      action: 'complete',\n",
              "    }\n",
              "  };\n",
              "}\n",
              "\n",
              "scope.google = scope.google || {};\n",
              "scope.google.colab = scope.google.colab || {};\n",
              "scope.google.colab._files = {\n",
              "  _uploadFiles,\n",
              "  _uploadFilesContinue,\n",
              "};\n",
              "})(self);\n",
              "</script> "
            ]
          },
          "metadata": {}
        },
        {
          "output_type": "stream",
          "name": "stdout",
          "text": [
            "Saving Final_Data.xlsx to Final_Data (1).xlsx\n"
          ]
        }
      ]
    },
    {
      "cell_type": "code",
      "source": [
        "import io\n",
        "data = pd.read_excel(io.BytesIO(uploaded['Final_Data.xlsx']))\n",
        "# Dataset is now stored in a Pandas Dataframe"
      ],
      "metadata": {
        "id": "AQ47CTHWyQi3"
      },
      "execution_count": null,
      "outputs": []
    },
    {
      "cell_type": "code",
      "source": [
        "# Group the data by sentiment classes\n",
        "grouped_data = data.groupby(\"Sentiment\")[\"Text\"].apply(list)"
      ],
      "metadata": {
        "id": "uWpU_D4CyQlW"
      },
      "execution_count": null,
      "outputs": []
    },
    {
      "cell_type": "code",
      "source": [
        "# Print the grouped data\n",
        "print(grouped_data)"
      ],
      "metadata": {
        "colab": {
          "base_uri": "https://localhost:8080/"
        },
        "id": "JuVUxIxdyQnr",
        "outputId": "f1707a85-c1ef-4af9-d885-ca8057eb033c"
      },
      "execution_count": null,
      "outputs": [
        {
          "output_type": "stream",
          "name": "stdout",
          "text": [
            "Sentiment\n",
            "anger       [অনেক আগ্রহ নিয়ে গ্লাসে চুমুক দিয়ে দেখিশরবতে...\n",
            "disgust     [অই জায়গার ডাক্তাররা কি গু খায় কে পাগল কে সুস্...\n",
            "fear        [অটো রিস্কা বন্ধ করতে হবে তা না হলে আরো সংকট ব...\n",
            "joy         [অনেক অনেক ধন্যবাদ লেখাটি সংশোধন করার জন্য ভুল...\n",
            "sadness     [অনেকদিন হলো তাকে দেখিনা মাঝে মাঝে কান্না আসে,...\n",
            "surprise    [অনেক দেখি তো রাশিয়া থেকে তেল আমদানি করতেছে অ...\n",
            "Name: Text, dtype: object\n"
          ]
        }
      ]
    },
    {
      "cell_type": "markdown",
      "source": [
        "# **For all the words**"
      ],
      "metadata": {
        "id": "PSn-W5EYy8fj"
      }
    },
    {
      "cell_type": "code",
      "source": [
        "# Create a new DataFrame to store the grouped words\n",
        "grouped_words_data = pd.DataFrame(index=grouped_data.index, columns=[\"Words\"])\n",
        "\n",
        "# Extract and store the words for each sentiment class\n",
        "for sentiment, sentences in grouped_data.items():\n",
        "    words = [word.lower() for sentence in sentences for word in sentence.split()]\n",
        "    grouped_words_data.loc[sentiment, \"Words\"] = words\n",
        "\n",
        "# Print the dataset containing the grouped words\n",
        "print(grouped_words_data)"
      ],
      "metadata": {
        "colab": {
          "base_uri": "https://localhost:8080/"
        },
        "id": "9bFFWiXGyQqB",
        "outputId": "83f27499-5695-4b5a-95b6-7f82c8579546"
      },
      "execution_count": null,
      "outputs": [
        {
          "output_type": "stream",
          "name": "stdout",
          "text": [
            "                                                       Words\n",
            "Sentiment                                                   \n",
            "anger      [অনেক, আগ্রহ, নিয়ে, গ্লাসে, চুমুক, দিয়ে, দেখ...\n",
            "disgust    [অই, জায়গার, ডাক্তাররা, কি, গু, খায়, কে, পাগল,...\n",
            "fear       [অটো, রিস্কা, বন্ধ, করতে, হবে, তা, না, হলে, আর...\n",
            "joy        [অনেক, অনেক, ধন্যবাদ, লেখাটি, সংশোধন, করার, জন...\n",
            "sadness    [অনেকদিন, হলো, তাকে, দেখিনা, মাঝে, মাঝে, কান্ন...\n",
            "surprise   [অনেক, দেখি, তো, রাশিয়া, থেকে, তেল, আমদানি, ক...\n"
          ]
        }
      ]
    },
    {
      "cell_type": "code",
      "source": [
        "# Assuming you have the grouped_words_data DataFrame with sentiment classes and their respective words\n",
        "\n",
        "# Count the number of elements in each sentiment class\n",
        "num_elements = grouped_words_data['Words'].apply(len)\n",
        "\n",
        "# Print the number of elements for each sentiment class\n",
        "print(\"Number of Elements by Sentiment Class:\")\n",
        "print(num_elements)"
      ],
      "metadata": {
        "colab": {
          "base_uri": "https://localhost:8080/"
        },
        "id": "5exM2UREyQt7",
        "outputId": "be3a778c-35ea-4e7d-9136-f4d5e17d0111"
      },
      "execution_count": null,
      "outputs": [
        {
          "output_type": "stream",
          "name": "stdout",
          "text": [
            "Number of Elements by Sentiment Class:\n",
            "Sentiment\n",
            "anger       8132\n",
            "disgust     7779\n",
            "fear        6101\n",
            "joy         6875\n",
            "sadness     7619\n",
            "surprise    7696\n",
            "Name: Words, dtype: int64\n"
          ]
        }
      ]
    },
    {
      "cell_type": "code",
      "source": [
        "import pandas as pd\n",
        "\n",
        "# Assuming you have the grouped_words_data DataFrame with sentiment classes and their respective words\n",
        "\n",
        "# Calculate Jaccard similarity for each pair of sentiment classes\n",
        "similarity_matrix = pd.DataFrame(index=grouped_words_data.index, columns=grouped_words_data.index)\n",
        "for i in grouped_words_data.index:\n",
        "    for j in grouped_words_data.index:\n",
        "        if i == j:\n",
        "            similarity_matrix.loc[i, j] = 1.0  # Jaccard similarity of a class with itself is 1\n",
        "        else:\n",
        "            set_i = set(grouped_words_data.loc[i, \"Words\"])\n",
        "            set_j = set(grouped_words_data.loc[j, \"Words\"])\n",
        "            intersection = len(set_i.intersection(set_j))\n",
        "            union = len(set_i.union(set_j))\n",
        "            if union == 0:\n",
        "                similarity_matrix.loc[i, j] = 0.0  # If union is 0, set the similarity to 0 to avoid division by zero\n",
        "            else:\n",
        "                similarity = intersection / union\n",
        "                similarity_matrix.loc[i, j] = similarity\n",
        "\n",
        "# Print the similarity matrix\n",
        "print(similarity_matrix)\n"
      ],
      "metadata": {
        "colab": {
          "base_uri": "https://localhost:8080/"
        },
        "id": "SKGnH_dOyQwr",
        "outputId": "ff0ec2bd-d27a-450a-9485-0f5c78fe2aa6"
      },
      "execution_count": null,
      "outputs": [
        {
          "output_type": "stream",
          "name": "stdout",
          "text": [
            "Sentiment     anger   disgust      fear       joy   sadness  surprise\n",
            "Sentiment                                                            \n",
            "anger           1.0  0.218031  0.234684  0.177108  0.188099  0.168952\n",
            "disgust    0.218031       1.0  0.171363   0.17603  0.179986  0.167836\n",
            "fear       0.234684  0.171363       1.0  0.201581  0.220419   0.17087\n",
            "joy        0.177108   0.17603  0.201581       1.0    0.1801  0.162282\n",
            "sadness    0.188099  0.179986  0.220419    0.1801       1.0  0.161594\n",
            "surprise   0.168952  0.167836   0.17087  0.162282  0.161594       1.0\n"
          ]
        }
      ]
    },
    {
      "cell_type": "code",
      "source": [
        "similarity_matrix.to_excel(\"Jaccard Similarity of all words.xlsx\",index=True)"
      ],
      "metadata": {
        "id": "x887pekn9EDW"
      },
      "execution_count": null,
      "outputs": []
    },
    {
      "cell_type": "markdown",
      "source": [
        "# **For most frequent 200 words**"
      ],
      "metadata": {
        "id": "qK9i8nM2zQvx"
      }
    },
    {
      "cell_type": "code",
      "source": [
        "import pandas as pd\n",
        "\n",
        "# Assuming you have the grouped_words_data DataFrame with sentiment classes and their respective words\n",
        "\n",
        "# Define the number of most frequent words to extract\n",
        "num_most_frequent = 200\n",
        "\n",
        "# Create a new DataFrame to store the most frequent words\n",
        "most_frequent_words_data = pd.DataFrame(index=grouped_words_data.index, columns=[\"Words\"])\n",
        "\n",
        "# Iterate over each sentiment class\n",
        "for sentiment, words in grouped_words_data[\"Words\"].items():\n",
        "    # Calculate word frequency using Python's built-in collections.Counter\n",
        "    word_frequency = pd.Series(words).value_counts()\n",
        "\n",
        "    # Extract the most frequent words\n",
        "    most_frequent = word_frequency.head(num_most_frequent).index.tolist()\n",
        "\n",
        "    # Store the most frequent words for the sentiment class\n",
        "    most_frequent_words_data.loc[sentiment, \"Words\"] = most_frequent\n",
        "\n",
        "# Print the DataFrame\n",
        "print(most_frequent_words_data)\n"
      ],
      "metadata": {
        "colab": {
          "base_uri": "https://localhost:8080/"
        },
        "id": "afiTYK7tyQzB",
        "outputId": "66e9ddf2-e348-425b-9b92-5d01d543b572"
      },
      "execution_count": null,
      "outputs": [
        {
          "output_type": "stream",
          "name": "stdout",
          "text": [
            "                                                       Words\n",
            "Sentiment                                                   \n",
            "anger      [রাগ, না, আমার, তার, সে, করে, এই, আমি, তাই, আর...\n",
            "disgust    [বিরক্ত, ছিঃ, না, এই, করে, কি, বিরক্তিকর, আমি,...\n",
            "fear       [ভয়, না, সে, তার, আমি, হয়, তাকে, তাই, আমার, হচ...\n",
            "joy        [ধন্যবাদ, জন্য, আপনার, অনেক, ভাই, ভাল, আপনাদের...\n",
            "sadness    [কষ্ট, না, তার, আমার, আমি, সে, আমাকে, করে, দুঃ...\n",
            "surprise   [আমি, এই, আশ্চর্য, না, বিস্মিত, কি, একটি, এটা,...\n"
          ]
        }
      ]
    },
    {
      "cell_type": "code",
      "source": [
        "# Assuming you have the grouped_words_data DataFrame with sentiment classes and their respective words\n",
        "\n",
        "# Count the number of elements in each sentiment class\n",
        "num_elements = most_frequent_words_data['Words'].apply(len)\n",
        "\n",
        "# Print the number of elements for each sentiment class\n",
        "print(\"Number of Elements by Sentiment Class:\")\n",
        "print(num_elements)"
      ],
      "metadata": {
        "colab": {
          "base_uri": "https://localhost:8080/"
        },
        "id": "Gmewzg-yyQ10",
        "outputId": "2fbabb3a-f3a1-4c7d-f902-89d0f49e221e"
      },
      "execution_count": null,
      "outputs": [
        {
          "output_type": "stream",
          "name": "stdout",
          "text": [
            "Number of Elements by Sentiment Class:\n",
            "Sentiment\n",
            "anger       200\n",
            "disgust     200\n",
            "fear        200\n",
            "joy         200\n",
            "sadness     200\n",
            "surprise    200\n",
            "Name: Words, dtype: int64\n"
          ]
        }
      ]
    },
    {
      "cell_type": "code",
      "source": [
        "import pandas as pd\n",
        "\n",
        "# Assuming you have the most_frequent_words_data DataFrame with sentiment classes and their respective most frequent words\n",
        "\n",
        "# Calculate Jaccard similarity for each pair of sentiment classes\n",
        "similarity_matrix = pd.DataFrame(index=most_frequent_words_data.index, columns=most_frequent_words_data.index)\n",
        "for i in most_frequent_words_data.index:\n",
        "    for j in most_frequent_words_data.index:\n",
        "        if i == j:\n",
        "            similarity_matrix.loc[i, j] = 1.0  # Jaccard similarity of a class with itself is 1\n",
        "        else:\n",
        "            set_i = set(most_frequent_words_data.loc[i, \"Words\"])\n",
        "            set_j = set(most_frequent_words_data.loc[j, \"Words\"])\n",
        "            intersection = len(set_i.intersection(set_j))\n",
        "            union = len(set_i.union(set_j))\n",
        "            if union == 0:\n",
        "                similarity_matrix.loc[i, j] = 0.0  # If union is 0, set the similarity to 0 to avoid division by zero\n",
        "            else:\n",
        "                similarity = intersection / union\n",
        "                similarity_matrix.loc[i, j] = similarity\n",
        "\n",
        "# Print the similarity matrix\n",
        "print(similarity_matrix)\n"
      ],
      "metadata": {
        "colab": {
          "base_uri": "https://localhost:8080/"
        },
        "id": "oQyrsX5ZyQ4C",
        "outputId": "d07f17a9-1ac7-49d5-9082-d496e90cb28f"
      },
      "execution_count": null,
      "outputs": [
        {
          "output_type": "stream",
          "name": "stdout",
          "text": [
            "Sentiment     anger   disgust      fear       joy   sadness  surprise\n",
            "Sentiment                                                            \n",
            "anger           1.0  0.351351   0.37931  0.257862  0.342282  0.282051\n",
            "disgust    0.351351       1.0  0.294498  0.277955  0.342282  0.294498\n",
            "fear        0.37931  0.294498       1.0   0.26183  0.346801   0.26183\n",
            "joy        0.257862  0.277955   0.26183       1.0  0.273885  0.208459\n",
            "sadness    0.342282  0.342282  0.346801  0.273885       1.0      0.25\n",
            "surprise   0.282051  0.294498   0.26183  0.208459      0.25       1.0\n"
          ]
        }
      ]
    },
    {
      "cell_type": "code",
      "source": [
        "similarity_matrix.to_excel(\"Jaccard Similarity of frequent 200 words.xlsx\",index=True)"
      ],
      "metadata": {
        "id": "bRxnDe4t8s7D"
      },
      "execution_count": null,
      "outputs": []
    },
    {
      "cell_type": "markdown",
      "source": [
        "# **Plots**"
      ],
      "metadata": {
        "id": "4x4PQdFKAU3E"
      }
    },
    {
      "cell_type": "code",
      "source": [
        "import pandas as pd\n",
        "import matplotlib.pyplot as plt\n",
        "\n",
        "# Assuming you have the original dataset with columns \"Text\" and \"Sentiment\"\n",
        "# Assuming the dataset is stored in a DataFrame named \"data\"\n",
        "\n",
        "# Function to count the number of words in a sentence\n",
        "def count_words(sentence):\n",
        "    words = sentence.split()\n",
        "    return len(words)\n",
        "\n",
        "# Count the number of words in each sentence\n",
        "data['WordCount'] = data['Text'].apply(count_words)\n",
        "\n",
        "# Define the word count ranges\n",
        "word_count_ranges = [(3, 5), (6, 8), (9, 11), (12, 14), (15, 17), (18, 20), (21, 23)]\n",
        "\n",
        "# Initialize a dictionary to store the sentence counts for each sentiment class and word count range\n",
        "sentence_counts = {sentiment: [] for sentiment in data['Sentiment'].unique()}\n",
        "\n",
        "# Iterate over the sentiment classes\n",
        "for sentiment in sentence_counts.keys():\n",
        "    # Iterate over the word count ranges\n",
        "    for count_range in word_count_ranges:\n",
        "        # Count the sentences within the word count range and sentiment class\n",
        "        count = data[(data['Sentiment'] == sentiment) & (data['WordCount'].between(*count_range))].shape[0]\n",
        "        sentence_counts[sentiment].append(count)\n",
        "\n",
        "# Convert the sentence counts dictionary to a DataFrame\n",
        "df_sentence_counts = pd.DataFrame.from_dict(sentence_counts)\n",
        "\n",
        "# Set the x-axis labels as the word count ranges\n",
        "x_labels = [f\"{count_range[0]}-{count_range[1]}\" for count_range in word_count_ranges]\n",
        "\n",
        "# Plot the bar plot\n",
        "ax = df_sentence_counts.plot(kind='bar', figsize=(10, 6))\n",
        "ax.set_xticklabels(x_labels, rotation=45)\n",
        "ax.set_xlabel(\"Word Count Range\")\n",
        "ax.set_ylabel(\"Number of Sentences\")\n",
        "ax.set_title(\"Number of Sentences for Different Word Count Ranges and Sentiment Classes\")\n",
        "plt.legend(title=\"Sentiment\")\n",
        "plt.show()\n"
      ],
      "metadata": {
        "colab": {
          "base_uri": "https://localhost:8080/",
          "height": 588
        },
        "id": "hYZ4XM0ZATWq",
        "outputId": "8eb11c0a-f124-4ca9-d77d-f6be3634f39c"
      },
      "execution_count": null,
      "outputs": [
        {
          "output_type": "display_data",
          "data": {
            "text/plain": [
              "<Figure size 1000x600 with 1 Axes>"
            ],
            "image/png": "[encoded data removed]"
          },
          "metadata": {}
        }
      ]
    }
  ]
}