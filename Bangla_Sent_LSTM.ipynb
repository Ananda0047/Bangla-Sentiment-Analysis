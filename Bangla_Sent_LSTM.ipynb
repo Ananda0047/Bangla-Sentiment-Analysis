{
  "metadata": {
    "kernelspec": {
      "display_name": "Python 3",
      "name": "python3"
    },
    "language_info": {
      "name": "python",
      "version": "3.7.12",
      "mimetype": "text/x-python",
      "codemirror_mode": {
        "name": "ipython",
        "version": 3
      },
      "pygments_lexer": "ipython3",
      "nbconvert_exporter": "python",
      "file_extension": ".py"
    },
    "colab": {
      "provenance": [],
      "include_colab_link": true
    },
    "accelerator": "TPU"
  },
  "nbformat_minor": 0,
  "nbformat": 4,
  "cells": [
    {
      "cell_type": "markdown",
      "metadata": {
        "id": "view-in-github",
        "colab_type": "text"
      },
      "source": [
        "<a href=\"https://colab.research.google.com/github/Ananda0047/Bangla-Sentiment-Analysis/blob/main/Bangla_Sent_LSTM.ipynb\" target=\"_parent\"><img src=\"https://colab.research.google.com/assets/colab-badge.svg\" alt=\"Open In Colab\"/></a>"
      ]
    },
    {
      "cell_type": "code",
      "source": [
        "# This Python 3 environment comes with many helpful analytics libraries installed\n",
        "# It is defined by the kaggle/python Docker image: https://github.com/kaggle/docker-python\n",
        "# For example, here's several helpful packages to load\n",
        "\n",
        "import numpy as np # linear algebra\n",
        "import pandas as pd # data processing, CSV file I/O (e.g. pd.read_csv)\n",
        "\n",
        "# Input data files are available in the read-only \"../input/\" directory\n",
        "# For example, running this (by clicking run or pressing Shift+Enter) will list all files under the input directory\n",
        "\n",
        "#import os\n",
        "#for dirname, _, filenames in os.walk('/kaggle/input'):\n",
        "    #for filename in filenames:\n",
        "       # print(os.path.join(dirname, filename))\n",
        "\n",
        "# You can write up to 20GB to the current directory (/kaggle/working/) that gets preserved as output when you create a version using \"Save & Run All\"\n",
        "# You can also write temporary files to /kaggle/temp/, but they won't be saved outside of the current session"
      ],
      "metadata": {
        "_uuid": "8f2839f25d086af736a60e9eeb907d3b93b6e0e5",
        "_cell_guid": "b1076dfc-b9ad-4769-8c92-a6c4dae69d19",
        "execution": {
          "iopub.status.busy": "2023-03-13T10:46:55.749656Z",
          "iopub.execute_input": "2023-03-13T10:46:55.750119Z",
          "iopub.status.idle": "2023-03-13T10:46:55.762392Z",
          "shell.execute_reply.started": "2023-03-13T10:46:55.750079Z",
          "shell.execute_reply": "2023-03-13T10:46:55.761383Z"
        },
        "trusted": true,
        "id": "NKy7qrIKGjPD"
      },
      "execution_count": 1,
      "outputs": []
    },
    {
      "cell_type": "code",
      "source": [
        "# Import pandas\n",
        "import pandas as pd\n",
        "\n",
        "from google.colab import files\n",
        "uploaded = files.upload()"
      ],
      "metadata": {
        "execution": {
          "iopub.status.busy": "2023-03-13T10:46:55.764749Z",
          "iopub.execute_input": "2023-03-13T10:46:55.765096Z",
          "iopub.status.idle": "2023-03-13T10:46:56.169888Z",
          "shell.execute_reply.started": "2023-03-13T10:46:55.765062Z",
          "shell.execute_reply": "2023-03-13T10:46:56.168693Z"
        },
        "trusted": true,
        "colab": {
          "base_uri": "https://localhost:8080/",
          "height": 74
        },
        "id": "OX33bXY9GjPG",
        "outputId": "60520cb7-e37d-41a3-896c-93f1c614795b"
      },
      "execution_count": 2,
      "outputs": [
        {
          "output_type": "display_data",
          "data": {
            "text/plain": [
              "<IPython.core.display.HTML object>"
            ],
            "text/html": [
              "\n",
              "     <input type=\"file\" id=\"files-6e0310e5-48f2-4c30-92e7-55b606e155c5\" name=\"files[]\" multiple disabled\n",
              "        style=\"border:none\" />\n",
              "     <output id=\"result-6e0310e5-48f2-4c30-92e7-55b606e155c5\">\n",
              "      Upload widget is only available when the cell has been executed in the\n",
              "      current browser session. Please rerun this cell to enable.\n",
              "      </output>\n",
              "      <script>// Copyright 2017 Google LLC\n",
              "//\n",
              "// Licensed under the Apache License, Version 2.0 (the \"License\");\n",
              "// you may not use this file except in compliance with the License.\n",
              "// You may obtain a copy of the License at\n",
              "//\n",
              "//      http://www.apache.org/licenses/LICENSE-2.0\n",
              "//\n",
              "// Unless required by applicable law or agreed to in writing, software\n",
              "// distributed under the License is distributed on an \"AS IS\" BASIS,\n",
              "// WITHOUT WARRANTIES OR CONDITIONS OF ANY KIND, either express or implied.\n",
              "// See the License for the specific language governing permissions and\n",
              "// limitations under the License.\n",
              "\n",
              "/**\n",
              " * @fileoverview Helpers for google.colab Python module.\n",
              " */\n",
              "(function(scope) {\n",
              "function span(text, styleAttributes = {}) {\n",
              "  const element = document.createElement('span');\n",
              "  element.textContent = text;\n",
              "  for (const key of Object.keys(styleAttributes)) {\n",
              "    element.style[key] = styleAttributes[key];\n",
              "  }\n",
              "  return element;\n",
              "}\n",
              "\n",
              "// Max number of bytes which will be uploaded at a time.\n",
              "const MAX_PAYLOAD_SIZE = 100 * 1024;\n",
              "\n",
              "function _uploadFiles(inputId, outputId) {\n",
              "  const steps = uploadFilesStep(inputId, outputId);\n",
              "  const outputElement = document.getElementById(outputId);\n",
              "  // Cache steps on the outputElement to make it available for the next call\n",
              "  // to uploadFilesContinue from Python.\n",
              "  outputElement.steps = steps;\n",
              "\n",
              "  return _uploadFilesContinue(outputId);\n",
              "}\n",
              "\n",
              "// This is roughly an async generator (not supported in the browser yet),\n",
              "// where there are multiple asynchronous steps and the Python side is going\n",
              "// to poll for completion of each step.\n",
              "// This uses a Promise to block the python side on completion of each step,\n",
              "// then passes the result of the previous step as the input to the next step.\n",
              "function _uploadFilesContinue(outputId) {\n",
              "  const outputElement = document.getElementById(outputId);\n",
              "  const steps = outputElement.steps;\n",
              "\n",
              "  const next = steps.next(outputElement.lastPromiseValue);\n",
              "  return Promise.resolve(next.value.promise).then((value) => {\n",
              "    // Cache the last promise value to make it available to the next\n",
              "    // step of the generator.\n",
              "    outputElement.lastPromiseValue = value;\n",
              "    return next.value.response;\n",
              "  });\n",
              "}\n",
              "\n",
              "/**\n",
              " * Generator function which is called between each async step of the upload\n",
              " * process.\n",
              " * @param {string} inputId Element ID of the input file picker element.\n",
              " * @param {string} outputId Element ID of the output display.\n",
              " * @return {!Iterable<!Object>} Iterable of next steps.\n",
              " */\n",
              "function* uploadFilesStep(inputId, outputId) {\n",
              "  const inputElement = document.getElementById(inputId);\n",
              "  inputElement.disabled = false;\n",
              "\n",
              "  const outputElement = document.getElementById(outputId);\n",
              "  outputElement.innerHTML = '';\n",
              "\n",
              "  const pickedPromise = new Promise((resolve) => {\n",
              "    inputElement.addEventListener('change', (e) => {\n",
              "      resolve(e.target.files);\n",
              "    });\n",
              "  });\n",
              "\n",
              "  const cancel = document.createElement('button');\n",
              "  inputElement.parentElement.appendChild(cancel);\n",
              "  cancel.textContent = 'Cancel upload';\n",
              "  const cancelPromise = new Promise((resolve) => {\n",
              "    cancel.onclick = () => {\n",
              "      resolve(null);\n",
              "    };\n",
              "  });\n",
              "\n",
              "  // Wait for the user to pick the files.\n",
              "  const files = yield {\n",
              "    promise: Promise.race([pickedPromise, cancelPromise]),\n",
              "    response: {\n",
              "      action: 'starting',\n",
              "    }\n",
              "  };\n",
              "\n",
              "  cancel.remove();\n",
              "\n",
              "  // Disable the input element since further picks are not allowed.\n",
              "  inputElement.disabled = true;\n",
              "\n",
              "  if (!files) {\n",
              "    return {\n",
              "      response: {\n",
              "        action: 'complete',\n",
              "      }\n",
              "    };\n",
              "  }\n",
              "\n",
              "  for (const file of files) {\n",
              "    const li = document.createElement('li');\n",
              "    li.append(span(file.name, {fontWeight: 'bold'}));\n",
              "    li.append(span(\n",
              "        `(${file.type || 'n/a'}) - ${file.size} bytes, ` +\n",
              "        `last modified: ${\n",
              "            file.lastModifiedDate ? file.lastModifiedDate.toLocaleDateString() :\n",
              "                                    'n/a'} - `));\n",
              "    const percent = span('0% done');\n",
              "    li.appendChild(percent);\n",
              "\n",
              "    outputElement.appendChild(li);\n",
              "\n",
              "    const fileDataPromise = new Promise((resolve) => {\n",
              "      const reader = new FileReader();\n",
              "      reader.onload = (e) => {\n",
              "        resolve(e.target.result);\n",
              "      };\n",
              "      reader.readAsArrayBuffer(file);\n",
              "    });\n",
              "    // Wait for the data to be ready.\n",
              "    let fileData = yield {\n",
              "      promise: fileDataPromise,\n",
              "      response: {\n",
              "        action: 'continue',\n",
              "      }\n",
              "    };\n",
              "\n",
              "    // Use a chunked sending to avoid message size limits. See b/62115660.\n",
              "    let position = 0;\n",
              "    do {\n",
              "      const length = Math.min(fileData.byteLength - position, MAX_PAYLOAD_SIZE);\n",
              "      const chunk = new Uint8Array(fileData, position, length);\n",
              "      position += length;\n",
              "\n",
              "      const base64 = btoa(String.fromCharCode.apply(null, chunk));\n",
              "      yield {\n",
              "        response: {\n",
              "          action: 'append',\n",
              "          file: file.name,\n",
              "          data: base64,\n",
              "        },\n",
              "      };\n",
              "\n",
              "      let percentDone = fileData.byteLength === 0 ?\n",
              "          100 :\n",
              "          Math.round((position / fileData.byteLength) * 100);\n",
              "      percent.textContent = `${percentDone}% done`;\n",
              "\n",
              "    } while (position < fileData.byteLength);\n",
              "  }\n",
              "\n",
              "  // All done.\n",
              "  yield {\n",
              "    response: {\n",
              "      action: 'complete',\n",
              "    }\n",
              "  };\n",
              "}\n",
              "\n",
              "scope.google = scope.google || {};\n",
              "scope.google.colab = scope.google.colab || {};\n",
              "scope.google.colab._files = {\n",
              "  _uploadFiles,\n",
              "  _uploadFilesContinue,\n",
              "};\n",
              "})(self);\n",
              "</script> "
            ]
          },
          "metadata": {}
        },
        {
          "output_type": "stream",
          "name": "stdout",
          "text": [
            "Saving Bangla_Sent.xlsx to Bangla_Sent.xlsx\n"
          ]
        }
      ]
    },
    {
      "cell_type": "code",
      "source": [
        "import io\n",
        "train = pd.read_excel(io.BytesIO(uploaded['Bangla_Sent.xlsx']))\n",
        "# Dataset is now stored in a Pandas Dataframe"
      ],
      "metadata": {
        "id": "wTgwZWwiGnpI"
      },
      "execution_count": 3,
      "outputs": []
    },
    {
      "cell_type": "code",
      "source": [
        "import numpy as np\n",
        "import pandas as pd\n",
        "from plotly.offline import iplot\n",
        "import matplotlib.pyplot as plt\n",
        "import seaborn as sns\n",
        "from tensorflow.keras.preprocessing.text import Tokenizer\n",
        "from tensorflow.keras.preprocessing.sequence import pad_sequences\n",
        "from tensorflow.keras.models import Sequential\n",
        "from tensorflow.keras.layers import Dense, Embedding, LSTM, SpatialDropout1D\n",
        "from sklearn.model_selection import train_test_split\n",
        "from keras.utils.np_utils import to_categorical\n",
        "from tensorflow.keras.callbacks import EarlyStopping\n",
        "from tensorflow.keras.layers import Dropout\n",
        "import re\n",
        "\n",
        "from nltk import word_tokenize\n"
      ],
      "metadata": {
        "execution": {
          "iopub.status.busy": "2023-03-13T10:46:56.171892Z",
          "iopub.execute_input": "2023-03-13T10:46:56.172255Z",
          "iopub.status.idle": "2023-03-13T10:46:56.180268Z",
          "shell.execute_reply.started": "2023-03-13T10:46:56.172219Z",
          "shell.execute_reply": "2023-03-13T10:46:56.178943Z"
        },
        "trusted": true,
        "id": "K6WVZEEhGjPG"
      },
      "execution_count": 4,
      "outputs": []
    },
    {
      "cell_type": "code",
      "source": [
        "train.head()"
      ],
      "metadata": {
        "execution": {
          "iopub.status.busy": "2023-03-13T10:46:56.181679Z",
          "iopub.execute_input": "2023-03-13T10:46:56.182285Z",
          "iopub.status.idle": "2023-03-13T10:46:56.199991Z",
          "shell.execute_reply.started": "2023-03-13T10:46:56.182246Z",
          "shell.execute_reply": "2023-03-13T10:46:56.198779Z"
        },
        "trusted": true,
        "colab": {
          "base_uri": "https://localhost:8080/",
          "height": 206
        },
        "id": "Mj9AqO-zGjPH",
        "outputId": "6f10e376-441b-4e0d-ac8d-159fc53a56fb"
      },
      "execution_count": 5,
      "outputs": [
        {
          "output_type": "execute_result",
          "data": {
            "text/plain": [
              "                                                Text Sentiment\n",
              "0  অই জায়গার ডাক্তাররা কি গু খায় কে পাগল কে সুস্থ...   disgust\n",
              "1       অনেকদিন হলো তাকে দেখিনা মাঝে মাঝে কান্না আসে   sadness\n",
              "2             অগণতান্ত্রিক একটি জঘন্য দেশে আমার বাস    disgust\n",
              "3  অটো রিস্কা বন্ধ করতে হবে তা না হলে আরো সংকট বে...      fear\n",
              "4       অটোরিকশা বন্ধ না করলে আরও সংকট হবে মনে হচ্ছে      fear"
            ],
            "text/html": [
              "\n",
              "  <div id=\"df-fe59aa43-eace-4986-b804-a59353fc1f42\" class=\"colab-df-container\">\n",
              "    <div>\n",
              "<style scoped>\n",
              "    .dataframe tbody tr th:only-of-type {\n",
              "        vertical-align: middle;\n",
              "    }\n",
              "\n",
              "    .dataframe tbody tr th {\n",
              "        vertical-align: top;\n",
              "    }\n",
              "\n",
              "    .dataframe thead th {\n",
              "        text-align: right;\n",
              "    }\n",
              "</style>\n",
              "<table border=\"1\" class=\"dataframe\">\n",
              "  <thead>\n",
              "    <tr style=\"text-align: right;\">\n",
              "      <th></th>\n",
              "      <th>Text</th>\n",
              "      <th>Sentiment</th>\n",
              "    </tr>\n",
              "  </thead>\n",
              "  <tbody>\n",
              "    <tr>\n",
              "      <th>0</th>\n",
              "      <td>অই জায়গার ডাক্তাররা কি গু খায় কে পাগল কে সুস্থ...</td>\n",
              "      <td>disgust</td>\n",
              "    </tr>\n",
              "    <tr>\n",
              "      <th>1</th>\n",
              "      <td>অনেকদিন হলো তাকে দেখিনা মাঝে মাঝে কান্না আসে</td>\n",
              "      <td>sadness</td>\n",
              "    </tr>\n",
              "    <tr>\n",
              "      <th>2</th>\n",
              "      <td>অগণতান্ত্রিক একটি জঘন্য দেশে আমার বাস</td>\n",
              "      <td>disgust</td>\n",
              "    </tr>\n",
              "    <tr>\n",
              "      <th>3</th>\n",
              "      <td>অটো রিস্কা বন্ধ করতে হবে তা না হলে আরো সংকট বে...</td>\n",
              "      <td>fear</td>\n",
              "    </tr>\n",
              "    <tr>\n",
              "      <th>4</th>\n",
              "      <td>অটোরিকশা বন্ধ না করলে আরও সংকট হবে মনে হচ্ছে</td>\n",
              "      <td>fear</td>\n",
              "    </tr>\n",
              "  </tbody>\n",
              "</table>\n",
              "</div>\n",
              "    <div class=\"colab-df-buttons\">\n",
              "\n",
              "  <div class=\"colab-df-container\">\n",
              "    <button class=\"colab-df-convert\" onclick=\"convertToInteractive('df-fe59aa43-eace-4986-b804-a59353fc1f42')\"\n",
              "            title=\"Convert this dataframe to an interactive table.\"\n",
              "            style=\"display:none;\">\n",
              "\n",
              "  <svg xmlns=\"http://www.w3.org/2000/svg\" height=\"24px\" viewBox=\"0 -960 960 960\">\n",
              "    <path d=\"M120-120v-720h720v720H120Zm60-500h600v-160H180v160Zm220 220h160v-160H400v160Zm0 220h160v-160H400v160ZM180-400h160v-160H180v160Zm440 0h160v-160H620v160ZM180-180h160v-160H180v160Zm440 0h160v-160H620v160Z\"/>\n",
              "  </svg>\n",
              "    </button>\n",
              "\n",
              "  <style>\n",
              "    .colab-df-container {\n",
              "      display:flex;\n",
              "      gap: 12px;\n",
              "    }\n",
              "\n",
              "    .colab-df-convert {\n",
              "      background-color: #E8F0FE;\n",
              "      border: none;\n",
              "      border-radius: 50%;\n",
              "      cursor: pointer;\n",
              "      display: none;\n",
              "      fill: #1967D2;\n",
              "      height: 32px;\n",
              "      padding: 0 0 0 0;\n",
              "      width: 32px;\n",
              "    }\n",
              "\n",
              "    .colab-df-convert:hover {\n",
              "      background-color: #E2EBFA;\n",
              "      box-shadow: 0px 1px 2px rgba(60, 64, 67, 0.3), 0px 1px 3px 1px rgba(60, 64, 67, 0.15);\n",
              "      fill: #174EA6;\n",
              "    }\n",
              "\n",
              "    .colab-df-buttons div {\n",
              "      margin-bottom: 4px;\n",
              "    }\n",
              "\n",
              "    [theme=dark] .colab-df-convert {\n",
              "      background-color: #3B4455;\n",
              "      fill: #D2E3FC;\n",
              "    }\n",
              "\n",
              "    [theme=dark] .colab-df-convert:hover {\n",
              "      background-color: #434B5C;\n",
              "      box-shadow: 0px 1px 3px 1px rgba(0, 0, 0, 0.15);\n",
              "      filter: drop-shadow(0px 1px 2px rgba(0, 0, 0, 0.3));\n",
              "      fill: #FFFFFF;\n",
              "    }\n",
              "  </style>\n",
              "\n",
              "    <script>\n",
              "      const buttonEl =\n",
              "        document.querySelector('#df-fe59aa43-eace-4986-b804-a59353fc1f42 button.colab-df-convert');\n",
              "      buttonEl.style.display =\n",
              "        google.colab.kernel.accessAllowed ? 'block' : 'none';\n",
              "\n",
              "      async function convertToInteractive(key) {\n",
              "        const element = document.querySelector('#df-fe59aa43-eace-4986-b804-a59353fc1f42');\n",
              "        const dataTable =\n",
              "          await google.colab.kernel.invokeFunction('convertToInteractive',\n",
              "                                                    [key], {});\n",
              "        if (!dataTable) return;\n",
              "\n",
              "        const docLinkHtml = 'Like what you see? Visit the ' +\n",
              "          '<a target=\"_blank\" href=https://colab.research.google.com/notebooks/data_table.ipynb>data table notebook</a>'\n",
              "          + ' to learn more about interactive tables.';\n",
              "        element.innerHTML = '';\n",
              "        dataTable['output_type'] = 'display_data';\n",
              "        await google.colab.output.renderOutput(dataTable, element);\n",
              "        const docLink = document.createElement('div');\n",
              "        docLink.innerHTML = docLinkHtml;\n",
              "        element.appendChild(docLink);\n",
              "      }\n",
              "    </script>\n",
              "  </div>\n",
              "\n",
              "\n",
              "<div id=\"df-e93b31c4-63ca-4ae0-98eb-9563e342e999\">\n",
              "  <button class=\"colab-df-quickchart\" onclick=\"quickchart('df-e93b31c4-63ca-4ae0-98eb-9563e342e999')\"\n",
              "            title=\"Suggest charts.\"\n",
              "            style=\"display:none;\">\n",
              "\n",
              "<svg xmlns=\"http://www.w3.org/2000/svg\" height=\"24px\"viewBox=\"0 0 24 24\"\n",
              "     width=\"24px\">\n",
              "    <g>\n",
              "        <path d=\"M19 3H5c-1.1 0-2 .9-2 2v14c0 1.1.9 2 2 2h14c1.1 0 2-.9 2-2V5c0-1.1-.9-2-2-2zM9 17H7v-7h2v7zm4 0h-2V7h2v10zm4 0h-2v-4h2v4z\"/>\n",
              "    </g>\n",
              "</svg>\n",
              "  </button>\n",
              "\n",
              "<style>\n",
              "  .colab-df-quickchart {\n",
              "      --bg-color: #E8F0FE;\n",
              "      --fill-color: #1967D2;\n",
              "      --hover-bg-color: #E2EBFA;\n",
              "      --hover-fill-color: #174EA6;\n",
              "      --disabled-fill-color: #AAA;\n",
              "      --disabled-bg-color: #DDD;\n",
              "  }\n",
              "\n",
              "  [theme=dark] .colab-df-quickchart {\n",
              "      --bg-color: #3B4455;\n",
              "      --fill-color: #D2E3FC;\n",
              "      --hover-bg-color: #434B5C;\n",
              "      --hover-fill-color: #FFFFFF;\n",
              "      --disabled-bg-color: #3B4455;\n",
              "      --disabled-fill-color: #666;\n",
              "  }\n",
              "\n",
              "  .colab-df-quickchart {\n",
              "    background-color: var(--bg-color);\n",
              "    border: none;\n",
              "    border-radius: 50%;\n",
              "    cursor: pointer;\n",
              "    display: none;\n",
              "    fill: var(--fill-color);\n",
              "    height: 32px;\n",
              "    padding: 0;\n",
              "    width: 32px;\n",
              "  }\n",
              "\n",
              "  .colab-df-quickchart:hover {\n",
              "    background-color: var(--hover-bg-color);\n",
              "    box-shadow: 0 1px 2px rgba(60, 64, 67, 0.3), 0 1px 3px 1px rgba(60, 64, 67, 0.15);\n",
              "    fill: var(--button-hover-fill-color);\n",
              "  }\n",
              "\n",
              "  .colab-df-quickchart-complete:disabled,\n",
              "  .colab-df-quickchart-complete:disabled:hover {\n",
              "    background-color: var(--disabled-bg-color);\n",
              "    fill: var(--disabled-fill-color);\n",
              "    box-shadow: none;\n",
              "  }\n",
              "\n",
              "  .colab-df-spinner {\n",
              "    border: 2px solid var(--fill-color);\n",
              "    border-color: transparent;\n",
              "    border-bottom-color: var(--fill-color);\n",
              "    animation:\n",
              "      spin 1s steps(1) infinite;\n",
              "  }\n",
              "\n",
              "  @keyframes spin {\n",
              "    0% {\n",
              "      border-color: transparent;\n",
              "      border-bottom-color: var(--fill-color);\n",
              "      border-left-color: var(--fill-color);\n",
              "    }\n",
              "    20% {\n",
              "      border-color: transparent;\n",
              "      border-left-color: var(--fill-color);\n",
              "      border-top-color: var(--fill-color);\n",
              "    }\n",
              "    30% {\n",
              "      border-color: transparent;\n",
              "      border-left-color: var(--fill-color);\n",
              "      border-top-color: var(--fill-color);\n",
              "      border-right-color: var(--fill-color);\n",
              "    }\n",
              "    40% {\n",
              "      border-color: transparent;\n",
              "      border-right-color: var(--fill-color);\n",
              "      border-top-color: var(--fill-color);\n",
              "    }\n",
              "    60% {\n",
              "      border-color: transparent;\n",
              "      border-right-color: var(--fill-color);\n",
              "    }\n",
              "    80% {\n",
              "      border-color: transparent;\n",
              "      border-right-color: var(--fill-color);\n",
              "      border-bottom-color: var(--fill-color);\n",
              "    }\n",
              "    90% {\n",
              "      border-color: transparent;\n",
              "      border-bottom-color: var(--fill-color);\n",
              "    }\n",
              "  }\n",
              "</style>\n",
              "\n",
              "  <script>\n",
              "    async function quickchart(key) {\n",
              "      const quickchartButtonEl =\n",
              "        document.querySelector('#' + key + ' button');\n",
              "      quickchartButtonEl.disabled = true;  // To prevent multiple clicks.\n",
              "      quickchartButtonEl.classList.add('colab-df-spinner');\n",
              "      try {\n",
              "        const charts = await google.colab.kernel.invokeFunction(\n",
              "            'suggestCharts', [key], {});\n",
              "      } catch (error) {\n",
              "        console.error('Error during call to suggestCharts:', error);\n",
              "      }\n",
              "      quickchartButtonEl.classList.remove('colab-df-spinner');\n",
              "      quickchartButtonEl.classList.add('colab-df-quickchart-complete');\n",
              "    }\n",
              "    (() => {\n",
              "      let quickchartButtonEl =\n",
              "        document.querySelector('#df-e93b31c4-63ca-4ae0-98eb-9563e342e999 button');\n",
              "      quickchartButtonEl.style.display =\n",
              "        google.colab.kernel.accessAllowed ? 'block' : 'none';\n",
              "    })();\n",
              "  </script>\n",
              "</div>\n",
              "    </div>\n",
              "  </div>\n"
            ]
          },
          "metadata": {},
          "execution_count": 5
        }
      ]
    },
    {
      "cell_type": "code",
      "source": [
        "train = train.dropna()"
      ],
      "metadata": {
        "execution": {
          "iopub.status.busy": "2023-03-13T10:46:56.202420Z",
          "iopub.execute_input": "2023-03-13T10:46:56.202887Z",
          "iopub.status.idle": "2023-03-13T10:46:56.210790Z",
          "shell.execute_reply.started": "2023-03-13T10:46:56.202851Z",
          "shell.execute_reply": "2023-03-13T10:46:56.209773Z"
        },
        "trusted": true,
        "id": "cEN9H86pGjPH"
      },
      "execution_count": 6,
      "outputs": []
    },
    {
      "cell_type": "code",
      "source": [
        "X_train,X_test,y_train,y_test=train_test_split(train[\"Text\"],train[\"Sentiment\"],test_size=0.2,shuffle=True,stratify=train[\"Sentiment\"],random_state=42)"
      ],
      "metadata": {
        "execution": {
          "iopub.status.busy": "2023-03-13T10:46:56.212244Z",
          "iopub.execute_input": "2023-03-13T10:46:56.212560Z",
          "iopub.status.idle": "2023-03-13T10:46:56.230416Z",
          "shell.execute_reply.started": "2023-03-13T10:46:56.212530Z",
          "shell.execute_reply": "2023-03-13T10:46:56.229243Z"
        },
        "trusted": true,
        "id": "B4t1Bc13GjPH"
      },
      "execution_count": 7,
      "outputs": []
    },
    {
      "cell_type": "code",
      "source": [
        "train_index=X_train.index\n",
        "test_index=X_test.index"
      ],
      "metadata": {
        "execution": {
          "iopub.status.busy": "2023-03-13T10:46:56.232057Z",
          "iopub.execute_input": "2023-03-13T10:46:56.233044Z",
          "iopub.status.idle": "2023-03-13T10:46:56.238029Z",
          "shell.execute_reply.started": "2023-03-13T10:46:56.233004Z",
          "shell.execute_reply": "2023-03-13T10:46:56.236657Z"
        },
        "trusted": true,
        "id": "BJpBcQ_eGjPH"
      },
      "execution_count": 8,
      "outputs": []
    },
    {
      "cell_type": "code",
      "source": [
        "# train_index=train.iloc[X_test.index][\"Text\"].values"
      ],
      "metadata": {
        "execution": {
          "iopub.status.busy": "2023-03-13T10:46:56.239299Z",
          "iopub.execute_input": "2023-03-13T10:46:56.239662Z",
          "iopub.status.idle": "2023-03-13T10:46:56.251474Z",
          "shell.execute_reply.started": "2023-03-13T10:46:56.239629Z",
          "shell.execute_reply": "2023-03-13T10:46:56.250001Z"
        },
        "trusted": true,
        "id": "1vKBpV9JGjPH"
      },
      "execution_count": 9,
      "outputs": []
    },
    {
      "cell_type": "code",
      "source": [
        "# X_test"
      ],
      "metadata": {
        "execution": {
          "iopub.status.busy": "2023-03-13T10:46:56.253340Z",
          "iopub.execute_input": "2023-03-13T10:46:56.254107Z",
          "iopub.status.idle": "2023-03-13T10:46:56.262491Z",
          "shell.execute_reply.started": "2023-03-13T10:46:56.254053Z",
          "shell.execute_reply": "2023-03-13T10:46:56.261569Z"
        },
        "trusted": true,
        "id": "mRCbngiMGjPI"
      },
      "execution_count": 10,
      "outputs": []
    },
    {
      "cell_type": "code",
      "source": [
        "# train = train.dropna()\n",
        "\n",
        "# train = train.reset_index(drop=True)\n",
        "# test = test.reset_index(drop=True)\n",
        "\n",
        "# X_train = train['cleanText']\n",
        "# y_train = train['category']\n",
        "\n",
        "# X_test = test['cleanText']\n",
        "# y_test = test['category']\n",
        "\n",
        "# X_test.head()"
      ],
      "metadata": {
        "execution": {
          "iopub.status.busy": "2023-03-13T10:46:56.264065Z",
          "iopub.execute_input": "2023-03-13T10:46:56.264803Z",
          "iopub.status.idle": "2023-03-13T10:46:56.276391Z",
          "shell.execute_reply.started": "2023-03-13T10:46:56.264755Z",
          "shell.execute_reply": "2023-03-13T10:46:56.275234Z"
        },
        "trusted": true,
        "id": "n1bGcoX8GjPI"
      },
      "execution_count": 11,
      "outputs": []
    },
    {
      "cell_type": "code",
      "source": [
        "def example_fn(index):\n",
        "    example = train[train.index == index][['Sentiment', 'Text']].values[0]\n",
        "    if len(example) > 0:\n",
        "        print(example[1])\n",
        "        print()\n",
        "        print('Sentiment:', example[0])\n"
      ],
      "metadata": {
        "execution": {
          "iopub.status.busy": "2023-03-13T10:46:56.281043Z",
          "iopub.execute_input": "2023-03-13T10:46:56.282089Z",
          "iopub.status.idle": "2023-03-13T10:46:56.293178Z",
          "shell.execute_reply.started": "2023-03-13T10:46:56.282047Z",
          "shell.execute_reply": "2023-03-13T10:46:56.292225Z"
        },
        "trusted": true,
        "id": "VZj9Lia7GjPI"
      },
      "execution_count": 12,
      "outputs": []
    },
    {
      "cell_type": "code",
      "source": [
        "example_fn(10)"
      ],
      "metadata": {
        "execution": {
          "iopub.status.busy": "2023-03-13T10:46:56.294501Z",
          "iopub.execute_input": "2023-03-13T10:46:56.295302Z",
          "iopub.status.idle": "2023-03-13T10:46:56.308316Z",
          "shell.execute_reply.started": "2023-03-13T10:46:56.295265Z",
          "shell.execute_reply": "2023-03-13T10:46:56.307289Z"
        },
        "trusted": true,
        "colab": {
          "base_uri": "https://localhost:8080/"
        },
        "id": "yswsp67NGjPI",
        "outputId": "ea1d5dea-fadb-4fdc-a317-cc5c3443f04d"
      },
      "execution_count": 13,
      "outputs": [
        {
          "output_type": "stream",
          "name": "stdout",
          "text": [
            "অথচ দিনশেষে যারা আমাদের আইডল হওয়ার কথা সেই ডাক্তাররা সেবা দিয়ে মাগনা গালি খায় \n",
            "\n",
            "Sentiment: disgust\n"
          ]
        }
      ]
    },
    {
      "cell_type": "code",
      "source": [
        "# The maximum number of words to be used. (most frequent)\n",
        "MAX_NB_WORDS = 50000\n",
        "# Max number of words in each text.\n",
        "MAX_SEQUENCE_LENGTH = 250\n",
        "# This is fixed.\n",
        "EMBEDDING_DIM = 100\n",
        "\n",
        "tokenizer = Tokenizer(num_words=MAX_NB_WORDS, filters='!\"#$%&()*+,-./:;<=>?@[\\]^_`{|}~', lower=True)\n",
        "tokenizer.fit_on_texts(train['Text'].values)\n",
        "word_index = tokenizer.word_index\n",
        "print('Found %s unique tokens.' % len(word_index))"
      ],
      "metadata": {
        "execution": {
          "iopub.status.busy": "2023-03-13T10:46:56.309759Z",
          "iopub.execute_input": "2023-03-13T10:46:56.310534Z",
          "iopub.status.idle": "2023-03-13T10:46:56.440059Z",
          "shell.execute_reply.started": "2023-03-13T10:46:56.310498Z",
          "shell.execute_reply": "2023-03-13T10:46:56.438964Z"
        },
        "trusted": true,
        "colab": {
          "base_uri": "https://localhost:8080/"
        },
        "id": "9ib0LNfCGjPI",
        "outputId": "cb46fef8-40b2-47b7-f703-f587c20958be"
      },
      "execution_count": 14,
      "outputs": [
        {
          "output_type": "stream",
          "name": "stdout",
          "text": [
            "Found 7763 unique tokens.\n"
          ]
        }
      ]
    },
    {
      "cell_type": "code",
      "source": [
        "X_train = tokenizer.texts_to_sequences(train.iloc[train_index][\"Text\"].values)\n",
        "X_train = pad_sequences(X_train, maxlen=MAX_SEQUENCE_LENGTH)\n",
        "print('Shape of train data tensor:', X_train.shape)"
      ],
      "metadata": {
        "execution": {
          "iopub.status.busy": "2023-03-13T10:46:56.441530Z",
          "iopub.execute_input": "2023-03-13T10:46:56.441883Z",
          "iopub.status.idle": "2023-03-13T10:46:56.555908Z",
          "shell.execute_reply.started": "2023-03-13T10:46:56.441849Z",
          "shell.execute_reply": "2023-03-13T10:46:56.554493Z"
        },
        "trusted": true,
        "colab": {
          "base_uri": "https://localhost:8080/"
        },
        "id": "keS5SBHzGjPJ",
        "outputId": "24908a70-386b-4c28-adaf-be626ec1d201"
      },
      "execution_count": 15,
      "outputs": [
        {
          "output_type": "stream",
          "name": "stdout",
          "text": [
            "Shape of train data tensor: (3855, 250)\n"
          ]
        }
      ]
    },
    {
      "cell_type": "code",
      "source": [
        "y_train = pd.get_dummies(train.iloc[train_index][\"Sentiment\"]).values\n",
        "print('Shape of train label tensor:', y_train.shape)"
      ],
      "metadata": {
        "execution": {
          "iopub.status.busy": "2023-03-13T10:46:56.557963Z",
          "iopub.execute_input": "2023-03-13T10:46:56.558670Z",
          "iopub.status.idle": "2023-03-13T10:46:56.568663Z",
          "shell.execute_reply.started": "2023-03-13T10:46:56.558631Z",
          "shell.execute_reply": "2023-03-13T10:46:56.566681Z"
        },
        "trusted": true,
        "colab": {
          "base_uri": "https://localhost:8080/"
        },
        "id": "QEhphBGaGjPJ",
        "outputId": "00ab1cea-6a84-48ee-f0fe-31cd7cb2a6a9"
      },
      "execution_count": 16,
      "outputs": [
        {
          "output_type": "stream",
          "name": "stdout",
          "text": [
            "Shape of train label tensor: (3855, 6)\n"
          ]
        }
      ]
    },
    {
      "cell_type": "code",
      "source": [
        "# pd.get_dummies(train.iloc[train_index][\"Sentiment\"])\n"
      ],
      "metadata": {
        "execution": {
          "iopub.status.busy": "2023-03-13T10:46:56.570435Z",
          "iopub.execute_input": "2023-03-13T10:46:56.570946Z",
          "iopub.status.idle": "2023-03-13T10:46:56.577625Z",
          "shell.execute_reply.started": "2023-03-13T10:46:56.570847Z",
          "shell.execute_reply": "2023-03-13T10:46:56.576294Z"
        },
        "trusted": true,
        "id": "DtELl91fGjPJ"
      },
      "execution_count": 17,
      "outputs": []
    },
    {
      "cell_type": "code",
      "source": [
        "# y_train"
      ],
      "metadata": {
        "execution": {
          "iopub.status.busy": "2023-03-13T10:46:56.579214Z",
          "iopub.execute_input": "2023-03-13T10:46:56.579678Z",
          "iopub.status.idle": "2023-03-13T10:46:56.591481Z",
          "shell.execute_reply.started": "2023-03-13T10:46:56.579644Z",
          "shell.execute_reply": "2023-03-13T10:46:56.590099Z"
        },
        "trusted": true,
        "id": "NhhndN5YGjPJ"
      },
      "execution_count": 18,
      "outputs": []
    },
    {
      "cell_type": "code",
      "source": [
        "X_test = tokenizer.texts_to_sequences(train.iloc[test_index][\"Text\"].values)\n",
        "X_test = pad_sequences(X_test, maxlen=MAX_SEQUENCE_LENGTH)\n",
        "print('Shape of test data tensor:', X_test.shape)"
      ],
      "metadata": {
        "execution": {
          "iopub.status.busy": "2023-03-13T10:46:56.593134Z",
          "iopub.execute_input": "2023-03-13T10:46:56.593531Z",
          "iopub.status.idle": "2023-03-13T10:46:56.618990Z",
          "shell.execute_reply.started": "2023-03-13T10:46:56.593496Z",
          "shell.execute_reply": "2023-03-13T10:46:56.617420Z"
        },
        "trusted": true,
        "colab": {
          "base_uri": "https://localhost:8080/"
        },
        "id": "wlrIBksKGjPJ",
        "outputId": "9c7f7978-5b7f-48b5-d3d0-ca75c6f4564b"
      },
      "execution_count": 19,
      "outputs": [
        {
          "output_type": "stream",
          "name": "stdout",
          "text": [
            "Shape of test data tensor: (964, 250)\n"
          ]
        }
      ]
    },
    {
      "cell_type": "code",
      "source": [
        "y_test = pd.get_dummies(train.iloc[test_index][\"Sentiment\"]).values\n",
        "print('Shape of test label tensor:', y_test.shape)"
      ],
      "metadata": {
        "execution": {
          "iopub.status.busy": "2023-03-13T10:46:56.622327Z",
          "iopub.execute_input": "2023-03-13T10:46:56.622936Z",
          "iopub.status.idle": "2023-03-13T10:46:56.632163Z",
          "shell.execute_reply.started": "2023-03-13T10:46:56.622883Z",
          "shell.execute_reply": "2023-03-13T10:46:56.630805Z"
        },
        "trusted": true,
        "colab": {
          "base_uri": "https://localhost:8080/"
        },
        "id": "HSY2jKwdGjPK",
        "outputId": "f56554b4-be2d-442b-e13f-e03da482648e"
      },
      "execution_count": 20,
      "outputs": [
        {
          "output_type": "stream",
          "name": "stdout",
          "text": [
            "Shape of test label tensor: (964, 6)\n"
          ]
        }
      ]
    },
    {
      "cell_type": "code",
      "source": [
        "print(X_train.shape,y_train.shape)\n",
        "print(X_test.shape,y_test.shape)"
      ],
      "metadata": {
        "execution": {
          "iopub.status.busy": "2023-03-13T10:46:56.634414Z",
          "iopub.execute_input": "2023-03-13T10:46:56.634947Z",
          "iopub.status.idle": "2023-03-13T10:46:56.643381Z",
          "shell.execute_reply.started": "2023-03-13T10:46:56.634899Z",
          "shell.execute_reply": "2023-03-13T10:46:56.642084Z"
        },
        "trusted": true,
        "colab": {
          "base_uri": "https://localhost:8080/"
        },
        "id": "WEJDhiVeGjPK",
        "outputId": "0cb1ddba-9303-41a1-f58d-8a48010a9485"
      },
      "execution_count": 21,
      "outputs": [
        {
          "output_type": "stream",
          "name": "stdout",
          "text": [
            "(3855, 250) (3855, 6)\n",
            "(964, 250) (964, 6)\n"
          ]
        }
      ]
    },
    {
      "cell_type": "code",
      "source": [
        "X_train.shape[1]"
      ],
      "metadata": {
        "execution": {
          "iopub.status.busy": "2023-03-13T10:46:56.644924Z",
          "iopub.execute_input": "2023-03-13T10:46:56.645789Z",
          "iopub.status.idle": "2023-03-13T10:46:56.657671Z",
          "shell.execute_reply.started": "2023-03-13T10:46:56.645733Z",
          "shell.execute_reply": "2023-03-13T10:46:56.656518Z"
        },
        "trusted": true,
        "colab": {
          "base_uri": "https://localhost:8080/"
        },
        "id": "N0EpLv4cGjPK",
        "outputId": "b1400f79-ed4e-49d2-ba10-25d2d439721f"
      },
      "execution_count": 22,
      "outputs": [
        {
          "output_type": "execute_result",
          "data": {
            "text/plain": [
              "250"
            ]
          },
          "metadata": {},
          "execution_count": 22
        }
      ]
    },
    {
      "cell_type": "code",
      "source": [
        "import tensorflow as tf\n",
        "tf.keras.backend.clear_session()"
      ],
      "metadata": {
        "id": "YI2fKOeVoY0n"
      },
      "execution_count": 23,
      "outputs": []
    },
    {
      "cell_type": "code",
      "source": [
        "model = tf.keras.Sequential()\n",
        "model.add(Embedding(MAX_NB_WORDS, EMBEDDING_DIM, input_length=X_train.shape[1]))\n",
        "model.add(SpatialDropout1D(0.2))\n",
        "model.add(LSTM(100, dropout=0.2, recurrent_dropout=0.2))\n",
        "model.add(Dense(6, activation='softmax'))\n",
        "model.compile(loss='categorical_crossentropy', optimizer='adam', metrics=['accuracy'])\n",
        "print(model.summary())"
      ],
      "metadata": {
        "execution": {
          "iopub.status.busy": "2023-03-13T10:46:56.658651Z",
          "iopub.execute_input": "2023-03-13T10:46:56.658973Z",
          "iopub.status.idle": "2023-03-13T10:46:56.903645Z",
          "shell.execute_reply.started": "2023-03-13T10:46:56.658943Z",
          "shell.execute_reply": "2023-03-13T10:46:56.902323Z"
        },
        "trusted": true,
        "colab": {
          "base_uri": "https://localhost:8080/"
        },
        "id": "Fqs9zIRwGjPK",
        "outputId": "a56bedc0-8501-4cee-fb33-6acc9d02a386"
      },
      "execution_count": 24,
      "outputs": [
        {
          "output_type": "stream",
          "name": "stdout",
          "text": [
            "Model: \"sequential\"\n",
            "_________________________________________________________________\n",
            " Layer (type)                Output Shape              Param #   \n",
            "=================================================================\n",
            " embedding (Embedding)       (None, 250, 100)          5000000   \n",
            "                                                                 \n",
            " spatial_dropout1d (SpatialD  (None, 250, 100)         0         \n",
            " ropout1D)                                                       \n",
            "                                                                 \n",
            " lstm (LSTM)                 (None, 100)               80400     \n",
            "                                                                 \n",
            " dense (Dense)               (None, 6)                 606       \n",
            "                                                                 \n",
            "=================================================================\n",
            "Total params: 5,081,006\n",
            "Trainable params: 5,081,006\n",
            "Non-trainable params: 0\n",
            "_________________________________________________________________\n",
            "None\n"
          ]
        }
      ]
    },
    {
      "cell_type": "code",
      "source": [
        "epochs = 30\n",
        "batch_size = 100\n",
        "\n",
        "history = model.fit(X_train, y_train, epochs=epochs, batch_size=batch_size,validation_split=0.1,callbacks=[EarlyStopping(monitor='val_accuracy', patience=10, min_delta=0.0001,mode=\"max\")])\n"
      ],
      "metadata": {
        "execution": {
          "iopub.status.busy": "2023-03-13T10:46:56.905246Z",
          "iopub.execute_input": "2023-03-13T10:46:56.905605Z",
          "iopub.status.idle": "2023-03-13T10:54:18.104371Z",
          "shell.execute_reply.started": "2023-03-13T10:46:56.905568Z",
          "shell.execute_reply": "2023-03-13T10:54:18.102948Z"
        },
        "trusted": true,
        "colab": {
          "base_uri": "https://localhost:8080/"
        },
        "id": "pL8fmNH8GjPK",
        "outputId": "659e49c6-5527-4c20-b271-c3592ddf494c"
      },
      "execution_count": 25,
      "outputs": [
        {
          "output_type": "stream",
          "name": "stdout",
          "text": [
            "Epoch 1/30\n",
            "35/35 [==============================] - 54s 1s/step - loss: 1.7525 - accuracy: 0.3220 - val_loss: 1.6683 - val_accuracy: 0.5285\n",
            "Epoch 2/30\n",
            "35/35 [==============================] - 42s 1s/step - loss: 1.3475 - accuracy: 0.5987 - val_loss: 1.0967 - val_accuracy: 0.6788\n",
            "Epoch 3/30\n",
            "35/35 [==============================] - 44s 1s/step - loss: 0.6583 - accuracy: 0.8282 - val_loss: 0.6669 - val_accuracy: 0.7746\n",
            "Epoch 4/30\n",
            "35/35 [==============================] - 46s 1s/step - loss: 0.2598 - accuracy: 0.9369 - val_loss: 0.6195 - val_accuracy: 0.7902\n",
            "Epoch 5/30\n",
            "35/35 [==============================] - 41s 1s/step - loss: 0.1213 - accuracy: 0.9732 - val_loss: 0.5713 - val_accuracy: 0.8238\n",
            "Epoch 6/30\n",
            "35/35 [==============================] - 41s 1s/step - loss: 0.0691 - accuracy: 0.9873 - val_loss: 0.5663 - val_accuracy: 0.8187\n",
            "Epoch 7/30\n",
            "35/35 [==============================] - 42s 1s/step - loss: 0.0391 - accuracy: 0.9928 - val_loss: 0.6092 - val_accuracy: 0.8083\n",
            "Epoch 8/30\n",
            "35/35 [==============================] - 41s 1s/step - loss: 0.0258 - accuracy: 0.9960 - val_loss: 0.5820 - val_accuracy: 0.8083\n",
            "Epoch 9/30\n",
            "35/35 [==============================] - 41s 1s/step - loss: 0.0177 - accuracy: 0.9977 - val_loss: 0.6752 - val_accuracy: 0.8005\n",
            "Epoch 10/30\n",
            "35/35 [==============================] - 42s 1s/step - loss: 0.0136 - accuracy: 0.9983 - val_loss: 0.7084 - val_accuracy: 0.7953\n",
            "Epoch 11/30\n",
            "35/35 [==============================] - 42s 1s/step - loss: 0.0148 - accuracy: 0.9980 - val_loss: 0.7001 - val_accuracy: 0.8109\n",
            "Epoch 12/30\n",
            "35/35 [==============================] - 41s 1s/step - loss: 0.0095 - accuracy: 0.9988 - val_loss: 0.7259 - val_accuracy: 0.8057\n",
            "Epoch 13/30\n",
            "35/35 [==============================] - 42s 1s/step - loss: 0.0080 - accuracy: 0.9991 - val_loss: 0.7801 - val_accuracy: 0.8083\n",
            "Epoch 14/30\n",
            "35/35 [==============================] - 41s 1s/step - loss: 0.0054 - accuracy: 0.9997 - val_loss: 0.7525 - val_accuracy: 0.8083\n",
            "Epoch 15/30\n",
            "35/35 [==============================] - 41s 1s/step - loss: 0.0041 - accuracy: 1.0000 - val_loss: 0.7678 - val_accuracy: 0.8005\n"
          ]
        }
      ]
    },
    {
      "cell_type": "code",
      "source": [
        "\n",
        "accr = model.evaluate(X_test,y_test)\n",
        "print('Test set\\n  Loss: {:0.3f}\\n  Accuracy: {:0.3f}'.format(accr[0],accr[1]))"
      ],
      "metadata": {
        "execution": {
          "iopub.status.busy": "2023-03-13T10:54:18.106316Z",
          "iopub.execute_input": "2023-03-13T10:54:18.106728Z",
          "iopub.status.idle": "2023-03-13T10:54:19.049258Z",
          "shell.execute_reply.started": "2023-03-13T10:54:18.106676Z",
          "shell.execute_reply": "2023-03-13T10:54:19.047797Z"
        },
        "trusted": true,
        "colab": {
          "base_uri": "https://localhost:8080/"
        },
        "id": "0wkY-pMIGjPK",
        "outputId": "ab898259-3c4f-403e-b206-a1a5fbf75127"
      },
      "execution_count": 26,
      "outputs": [
        {
          "output_type": "stream",
          "name": "stdout",
          "text": [
            "31/31 [==============================] - 4s 143ms/step - loss: 0.6608 - accuracy: 0.8361\n",
            "Test set\n",
            "  Loss: 0.661\n",
            "  Accuracy: 0.836\n"
          ]
        }
      ]
    },
    {
      "cell_type": "code",
      "source": [
        " tf.keras.utils.plot_model(model, show_shapes=True)"
      ],
      "metadata": {
        "id": "dAQ9LXERkJ18",
        "colab": {
          "base_uri": "https://localhost:8080/",
          "height": 533
        },
        "outputId": "02def56e-f4c7-4aa5-c16b-52d74731fc8a"
      },
      "execution_count": 27,
      "outputs": [
        {
          "output_type": "execute_result",
          "data": {
            "image/png": "[encoded data removed]",
            "text/plain": [
              "<IPython.core.display.Image object>"
            ]
          },
          "metadata": {},
          "execution_count": 27
        }
      ]
    },
    {
      "cell_type": "code",
      "source": [
        "from sklearn.metrics import classification_report\n",
        "from keras.utils import np_utils\n",
        "from sklearn.preprocessing import LabelEncoder\n",
        "from sklearn.preprocessing import OneHotEncoder\n",
        "encoder = LabelEncoder()\n",
        "encoder.fit(y_train)\n",
        "encoded_y_train = encoder.transform(y_train)\n",
        "dummy_y_train = np_utils.to_categorical(encoded_y_train) # convert integer\n",
        "\n",
        "encoded_y_test = encoder.transform(y_test)\n",
        "dummy_y_test = np_utils.to_categorical(encoded_y_test) # convert integer\n",
        "\n",
        "target_names = encoder.classes_\n",
        "print(classification_report(encoded_y_test, y_pred, target_names=target_names))"
      ],
      "metadata": {
        "colab": {
          "base_uri": "https://localhost:8080/",
          "height": 404
        },
        "id": "Hcyai2Pt72TG",
        "outputId": "360897f0-f230-4cf6-e2f7-bbff20063bda"
      },
      "execution_count": 28,
      "outputs": [
        {
          "output_type": "error",
          "ename": "ValueError",
          "evalue": "ignored",
          "traceback": [
            "\u001b[0;31m---------------------------------------------------------------------------\u001b[0m",
            "\u001b[0;31mValueError\u001b[0m                                Traceback (most recent call last)",
            "\u001b[0;32m<ipython-input-28-d3af360dc76e>\u001b[0m in \u001b[0;36m<cell line: 6>\u001b[0;34m()\u001b[0m\n\u001b[1;32m      4\u001b[0m \u001b[0;32mfrom\u001b[0m \u001b[0msklearn\u001b[0m\u001b[0;34m.\u001b[0m\u001b[0mpreprocessing\u001b[0m \u001b[0;32mimport\u001b[0m \u001b[0mOneHotEncoder\u001b[0m\u001b[0;34m\u001b[0m\u001b[0;34m\u001b[0m\u001b[0m\n\u001b[1;32m      5\u001b[0m \u001b[0mencoder\u001b[0m \u001b[0;34m=\u001b[0m \u001b[0mLabelEncoder\u001b[0m\u001b[0;34m(\u001b[0m\u001b[0;34m)\u001b[0m\u001b[0;34m\u001b[0m\u001b[0;34m\u001b[0m\u001b[0m\n\u001b[0;32m----> 6\u001b[0;31m \u001b[0mencoder\u001b[0m\u001b[0;34m.\u001b[0m\u001b[0mfit\u001b[0m\u001b[0;34m(\u001b[0m\u001b[0my_train\u001b[0m\u001b[0;34m)\u001b[0m\u001b[0;34m\u001b[0m\u001b[0;34m\u001b[0m\u001b[0m\n\u001b[0m\u001b[1;32m      7\u001b[0m \u001b[0mencoded_y_train\u001b[0m \u001b[0;34m=\u001b[0m \u001b[0mencoder\u001b[0m\u001b[0;34m.\u001b[0m\u001b[0mtransform\u001b[0m\u001b[0;34m(\u001b[0m\u001b[0my_train\u001b[0m\u001b[0;34m)\u001b[0m\u001b[0;34m\u001b[0m\u001b[0;34m\u001b[0m\u001b[0m\n\u001b[1;32m      8\u001b[0m \u001b[0mdummy_y_train\u001b[0m \u001b[0;34m=\u001b[0m \u001b[0mnp_utils\u001b[0m\u001b[0;34m.\u001b[0m\u001b[0mto_categorical\u001b[0m\u001b[0;34m(\u001b[0m\u001b[0mencoded_y_train\u001b[0m\u001b[0;34m)\u001b[0m \u001b[0;31m# convert integer\u001b[0m\u001b[0;34m\u001b[0m\u001b[0;34m\u001b[0m\u001b[0m\n",
            "\u001b[0;32m/usr/local/lib/python3.10/dist-packages/sklearn/preprocessing/_label.py\u001b[0m in \u001b[0;36mfit\u001b[0;34m(self, y)\u001b[0m\n\u001b[1;32m     97\u001b[0m             \u001b[0mFitted\u001b[0m \u001b[0mlabel\u001b[0m \u001b[0mencoder\u001b[0m\u001b[0;34m.\u001b[0m\u001b[0;34m\u001b[0m\u001b[0;34m\u001b[0m\u001b[0m\n\u001b[1;32m     98\u001b[0m         \"\"\"\n\u001b[0;32m---> 99\u001b[0;31m         \u001b[0my\u001b[0m \u001b[0;34m=\u001b[0m \u001b[0mcolumn_or_1d\u001b[0m\u001b[0;34m(\u001b[0m\u001b[0my\u001b[0m\u001b[0;34m,\u001b[0m \u001b[0mwarn\u001b[0m\u001b[0;34m=\u001b[0m\u001b[0;32mTrue\u001b[0m\u001b[0;34m)\u001b[0m\u001b[0;34m\u001b[0m\u001b[0;34m\u001b[0m\u001b[0m\n\u001b[0m\u001b[1;32m    100\u001b[0m         \u001b[0mself\u001b[0m\u001b[0;34m.\u001b[0m\u001b[0mclasses_\u001b[0m \u001b[0;34m=\u001b[0m \u001b[0m_unique\u001b[0m\u001b[0;34m(\u001b[0m\u001b[0my\u001b[0m\u001b[0;34m)\u001b[0m\u001b[0;34m\u001b[0m\u001b[0;34m\u001b[0m\u001b[0m\n\u001b[1;32m    101\u001b[0m         \u001b[0;32mreturn\u001b[0m \u001b[0mself\u001b[0m\u001b[0;34m\u001b[0m\u001b[0;34m\u001b[0m\u001b[0m\n",
            "\u001b[0;32m/usr/local/lib/python3.10/dist-packages/sklearn/utils/validation.py\u001b[0m in \u001b[0;36mcolumn_or_1d\u001b[0;34m(y, dtype, warn)\u001b[0m\n\u001b[1;32m   1200\u001b[0m         \u001b[0;32mreturn\u001b[0m \u001b[0m_asarray_with_order\u001b[0m\u001b[0;34m(\u001b[0m\u001b[0mxp\u001b[0m\u001b[0;34m.\u001b[0m\u001b[0mreshape\u001b[0m\u001b[0;34m(\u001b[0m\u001b[0my\u001b[0m\u001b[0;34m,\u001b[0m \u001b[0;34m-\u001b[0m\u001b[0;36m1\u001b[0m\u001b[0;34m)\u001b[0m\u001b[0;34m,\u001b[0m \u001b[0morder\u001b[0m\u001b[0;34m=\u001b[0m\u001b[0;34m\"C\"\u001b[0m\u001b[0;34m,\u001b[0m \u001b[0mxp\u001b[0m\u001b[0;34m=\u001b[0m\u001b[0mxp\u001b[0m\u001b[0;34m)\u001b[0m\u001b[0;34m\u001b[0m\u001b[0;34m\u001b[0m\u001b[0m\n\u001b[1;32m   1201\u001b[0m \u001b[0;34m\u001b[0m\u001b[0m\n\u001b[0;32m-> 1202\u001b[0;31m     raise ValueError(\n\u001b[0m\u001b[1;32m   1203\u001b[0m         \u001b[0;34m\"y should be a 1d array, got an array of shape {} instead.\"\u001b[0m\u001b[0;34m.\u001b[0m\u001b[0mformat\u001b[0m\u001b[0;34m(\u001b[0m\u001b[0mshape\u001b[0m\u001b[0;34m)\u001b[0m\u001b[0;34m\u001b[0m\u001b[0;34m\u001b[0m\u001b[0m\n\u001b[1;32m   1204\u001b[0m     )\n",
            "\u001b[0;31mValueError\u001b[0m: y should be a 1d array, got an array of shape (3855, 6) instead."
          ]
        }
      ]
    },
    {
      "cell_type": "code",
      "source": [
        "import matplotlib.pyplot as plt\n",
        "plt.title('Model Loss')\n",
        "plt.plot(history.history['loss'], label='Training Loss')\n",
        "plt.plot(history.history['val_loss'], label='Validation Loss')\n",
        "plt.legend()\n",
        "plt.xlabel('Epochs')\n",
        "plt.ylabel(\"Loss\")\n",
        "\n",
        "plt.show();"
      ],
      "metadata": {
        "execution": {
          "iopub.status.busy": "2023-03-13T10:54:19.050936Z",
          "iopub.execute_input": "2023-03-13T10:54:19.051445Z",
          "iopub.status.idle": "2023-03-13T10:54:19.292924Z",
          "shell.execute_reply.started": "2023-03-13T10:54:19.051394Z",
          "shell.execute_reply": "2023-03-13T10:54:19.291450Z"
        },
        "trusted": true,
        "id": "F8ICXqxFGjPL",
        "colab": {
          "base_uri": "https://localhost:8080/",
          "height": 472
        },
        "outputId": "d266ae7d-72a5-48fd-dc2e-fb36de58d529"
      },
      "execution_count": 29,
      "outputs": [
        {
          "output_type": "display_data",
          "data": {
            "text/plain": [
              "<Figure size 640x480 with 1 Axes>"
            ],
            "image/png": "[encoded data removed]"
          },
          "metadata": {}
        }
      ]
    },
    {
      "cell_type": "code",
      "source": [
        "plt.title('Model Accuracy')\n",
        "plt.plot(history.history['accuracy'], label='Training')\n",
        "plt.plot(history.history['val_accuracy'], label='Validation')\n",
        "plt.legend()\n",
        "plt.xlabel('Epochs',fontsize=12)\n",
        "plt.ylabel('Accuracy',fontsize=12)\n",
        "plt.show();\n"
      ],
      "metadata": {
        "execution": {
          "iopub.status.busy": "2023-03-13T10:54:19.296336Z",
          "iopub.execute_input": "2023-03-13T10:54:19.296878Z",
          "iopub.status.idle": "2023-03-13T10:54:19.542846Z",
          "shell.execute_reply.started": "2023-03-13T10:54:19.296822Z",
          "shell.execute_reply": "2023-03-13T10:54:19.541908Z"
        },
        "trusted": true,
        "id": "g1NvF8AqGjPL",
        "colab": {
          "base_uri": "https://localhost:8080/",
          "height": 476
        },
        "outputId": "da125041-1db2-481c-9156-1c26d09a39b4"
      },
      "execution_count": 30,
      "outputs": [
        {
          "output_type": "display_data",
          "data": {
            "text/plain": [
              "<Figure size 640x480 with 1 Axes>"
            ],
            "image/png": "[encoded data removed]"
          },
          "metadata": {}
        }
      ]
    },
    {
      "cell_type": "code",
      "source": [
        "def check_sentiment(text):\n",
        "    new_text = [text]\n",
        "    seq = tokenizer.texts_to_sequences(new_text)\n",
        "    padded = pad_sequences(seq, maxlen=MAX_SEQUENCE_LENGTH)\n",
        "    pred = model.predict(padded)\n",
        "    labels = [\"anger\",\"disgust\",\"fear\",\"joy\",\"sadness\",\"surprise\"]\n",
        "    return labels[np.argmax(pred)]\n"
      ],
      "metadata": {
        "execution": {
          "iopub.status.busy": "2023-03-13T10:57:14.401141Z",
          "iopub.execute_input": "2023-03-13T10:57:14.401992Z",
          "iopub.status.idle": "2023-03-13T10:57:14.409644Z",
          "shell.execute_reply.started": "2023-03-13T10:57:14.401944Z",
          "shell.execute_reply": "2023-03-13T10:57:14.408286Z"
        },
        "trusted": true,
        "id": "zlX83IocGjPL"
      },
      "execution_count": 31,
      "outputs": []
    },
    {
      "cell_type": "code",
      "source": [
        "check_sentiment('চার ঘণ্টা ধরে কারেন্ট নাই। ছেলেটা গরমে ছোটফট করছে')"
      ],
      "metadata": {
        "execution": {
          "iopub.status.busy": "2023-03-13T10:57:15.493044Z",
          "iopub.execute_input": "2023-03-13T10:57:15.493463Z",
          "iopub.status.idle": "2023-03-13T10:57:15.600636Z",
          "shell.execute_reply.started": "2023-03-13T10:57:15.493428Z",
          "shell.execute_reply": "2023-03-13T10:57:15.599237Z"
        },
        "trusted": true,
        "id": "wEgsTtb0GjPL",
        "colab": {
          "base_uri": "https://localhost:8080/",
          "height": 54
        },
        "outputId": "617c13bb-96f0-4c39-b3f0-1aa467d53754"
      },
      "execution_count": 32,
      "outputs": [
        {
          "output_type": "stream",
          "name": "stdout",
          "text": [
            "1/1 [==============================] - 0s 361ms/step\n"
          ]
        },
        {
          "output_type": "execute_result",
          "data": {
            "text/plain": [
              "'sadness'"
            ],
            "application/vnd.google.colaboratory.intrinsic+json": {
              "type": "string"
            }
          },
          "metadata": {},
          "execution_count": 32
        }
      ]
    },
    {
      "cell_type": "code",
      "source": [
        "check_sentiment('পাশে আছি ভাই। আপনার এক ডাকে হাজার লোক দাড়ায় যাবেে')"
      ],
      "metadata": {
        "execution": {
          "iopub.status.busy": "2023-03-13T10:57:30.330353Z",
          "iopub.execute_input": "2023-03-13T10:57:30.331397Z",
          "iopub.status.idle": "2023-03-13T10:57:30.436422Z",
          "shell.execute_reply.started": "2023-03-13T10:57:30.331346Z",
          "shell.execute_reply": "2023-03-13T10:57:30.435476Z"
        },
        "trusted": true,
        "id": "dDTP2v0oGjPL",
        "colab": {
          "base_uri": "https://localhost:8080/",
          "height": 54
        },
        "outputId": "1c4bca2a-7664-42a3-cf5a-9cc1832b4b12"
      },
      "execution_count": 33,
      "outputs": [
        {
          "output_type": "stream",
          "name": "stdout",
          "text": [
            "1/1 [==============================] - 0s 78ms/step\n"
          ]
        },
        {
          "output_type": "execute_result",
          "data": {
            "text/plain": [
              "'joy'"
            ],
            "application/vnd.google.colaboratory.intrinsic+json": {
              "type": "string"
            }
          },
          "metadata": {},
          "execution_count": 33
        }
      ]
    },
    {
      "cell_type": "code",
      "source": [
        "check_sentiment('এই হলো আমাদের ডিজিটাল বাংলাদেশ এর দশা')"
      ],
      "metadata": {
        "execution": {
          "iopub.status.busy": "2023-03-13T10:57:59.867336Z",
          "iopub.execute_input": "2023-03-13T10:57:59.867885Z",
          "iopub.status.idle": "2023-03-13T10:57:59.979182Z",
          "shell.execute_reply.started": "2023-03-13T10:57:59.867841Z",
          "shell.execute_reply": "2023-03-13T10:57:59.977893Z"
        },
        "trusted": true,
        "id": "4nbPg_4VGjPM",
        "colab": {
          "base_uri": "https://localhost:8080/",
          "height": 54
        },
        "outputId": "4b208eea-e45d-47fc-c629-ed847197194c"
      },
      "execution_count": 34,
      "outputs": [
        {
          "output_type": "stream",
          "name": "stdout",
          "text": [
            "1/1 [==============================] - 0s 60ms/step\n"
          ]
        },
        {
          "output_type": "execute_result",
          "data": {
            "text/plain": [
              "'surprise'"
            ],
            "application/vnd.google.colaboratory.intrinsic+json": {
              "type": "string"
            }
          },
          "metadata": {},
          "execution_count": 34
        }
      ]
    },
    {
      "cell_type": "code",
      "source": [
        "check_sentiment('সরকারি এমপি মন্ত্রীদের লাইন কাইটা দেওয়া হোক')"
      ],
      "metadata": {
        "execution": {
          "iopub.status.busy": "2023-03-13T10:58:17.496407Z",
          "iopub.execute_input": "2023-03-13T10:58:17.496888Z",
          "iopub.status.idle": "2023-03-13T10:58:17.607139Z",
          "shell.execute_reply.started": "2023-03-13T10:58:17.496847Z",
          "shell.execute_reply": "2023-03-13T10:58:17.606192Z"
        },
        "trusted": true,
        "id": "LjMkOEYqGjPM",
        "colab": {
          "base_uri": "https://localhost:8080/",
          "height": 54
        },
        "outputId": "b20933fc-b965-40ef-ebc6-5be248ab65a4"
      },
      "execution_count": 35,
      "outputs": [
        {
          "output_type": "stream",
          "name": "stdout",
          "text": [
            "1/1 [==============================] - 0s 54ms/step\n"
          ]
        },
        {
          "output_type": "execute_result",
          "data": {
            "text/plain": [
              "'anger'"
            ],
            "application/vnd.google.colaboratory.intrinsic+json": {
              "type": "string"
            }
          },
          "metadata": {},
          "execution_count": 35
        }
      ]
    },
    {
      "cell_type": "code",
      "source": [
        "check_sentiment('সব তেল দিয়ে দে ইন্ডিয়া রে')"
      ],
      "metadata": {
        "execution": {
          "iopub.status.busy": "2023-03-13T10:58:29.682984Z",
          "iopub.execute_input": "2023-03-13T10:58:29.683399Z",
          "iopub.status.idle": "2023-03-13T10:58:29.788166Z",
          "shell.execute_reply.started": "2023-03-13T10:58:29.683365Z",
          "shell.execute_reply": "2023-03-13T10:58:29.786944Z"
        },
        "trusted": true,
        "id": "6TrJM5ZbGjPM",
        "colab": {
          "base_uri": "https://localhost:8080/",
          "height": 54
        },
        "outputId": "22495825-d37c-4e25-93a8-49d2bd9edc74"
      },
      "execution_count": 36,
      "outputs": [
        {
          "output_type": "stream",
          "name": "stdout",
          "text": [
            "1/1 [==============================] - 0s 57ms/step\n"
          ]
        },
        {
          "output_type": "execute_result",
          "data": {
            "text/plain": [
              "'anger'"
            ],
            "application/vnd.google.colaboratory.intrinsic+json": {
              "type": "string"
            }
          },
          "metadata": {},
          "execution_count": 36
        }
      ]
    },
    {
      "cell_type": "code",
      "source": [
        "check_sentiment('আমার ভয় করছে না জানে কি হয়')"
      ],
      "metadata": {
        "execution": {
          "iopub.status.busy": "2023-03-13T10:58:41.147254Z",
          "iopub.execute_input": "2023-03-13T10:58:41.147746Z",
          "iopub.status.idle": "2023-03-13T10:58:41.253499Z",
          "shell.execute_reply.started": "2023-03-13T10:58:41.147691Z",
          "shell.execute_reply": "2023-03-13T10:58:41.252145Z"
        },
        "trusted": true,
        "id": "en8QUadvGjPM",
        "colab": {
          "base_uri": "https://localhost:8080/",
          "height": 54
        },
        "outputId": "3b35a951-c79b-4898-c3fc-6ef59a94ee93"
      },
      "execution_count": 37,
      "outputs": [
        {
          "output_type": "stream",
          "name": "stdout",
          "text": [
            "1/1 [==============================] - 0s 64ms/step\n"
          ]
        },
        {
          "output_type": "execute_result",
          "data": {
            "text/plain": [
              "'fear'"
            ],
            "application/vnd.google.colaboratory.intrinsic+json": {
              "type": "string"
            }
          },
          "metadata": {},
          "execution_count": 37
        }
      ]
    },
    {
      "cell_type": "code",
      "source": [
        "check_sentiment('')"
      ],
      "metadata": {
        "execution": {
          "iopub.status.busy": "2023-03-13T10:58:53.237029Z",
          "iopub.execute_input": "2023-03-13T10:58:53.237480Z",
          "iopub.status.idle": "2023-03-13T10:58:53.341350Z",
          "shell.execute_reply.started": "2023-03-13T10:58:53.237440Z",
          "shell.execute_reply": "2023-03-13T10:58:53.340033Z"
        },
        "trusted": true,
        "id": "_JVQ4HDEGjPM",
        "colab": {
          "base_uri": "https://localhost:8080/",
          "height": 54
        },
        "outputId": "b5858999-9f03-42e2-f60d-e3b1dd16d686"
      },
      "execution_count": 38,
      "outputs": [
        {
          "output_type": "stream",
          "name": "stdout",
          "text": [
            "1/1 [==============================] - 0s 55ms/step\n"
          ]
        },
        {
          "output_type": "execute_result",
          "data": {
            "text/plain": [
              "'fear'"
            ],
            "application/vnd.google.colaboratory.intrinsic+json": {
              "type": "string"
            }
          },
          "metadata": {},
          "execution_count": 38
        }
      ]
    },
    {
      "cell_type": "code",
      "source": [
        "check_sentiment('নতুন বিদ্যুৎকেন্দ্র স্থাপন করা হয়েছে')"
      ],
      "metadata": {
        "id": "R9KB8l6ZGjPM",
        "colab": {
          "base_uri": "https://localhost:8080/",
          "height": 54
        },
        "outputId": "c183b0b2-1222-477a-e09b-d64cf2e138bd"
      },
      "execution_count": 39,
      "outputs": [
        {
          "output_type": "stream",
          "name": "stdout",
          "text": [
            "1/1 [==============================] - 0s 72ms/step\n"
          ]
        },
        {
          "output_type": "execute_result",
          "data": {
            "text/plain": [
              "'joy'"
            ],
            "application/vnd.google.colaboratory.intrinsic+json": {
              "type": "string"
            }
          },
          "metadata": {},
          "execution_count": 39
        }
      ]
    },
    {
      "cell_type": "code",
      "source": [
        "model.save(\"LSTM.h5\")"
      ],
      "metadata": {
        "id": "Qv29-KGVPeal"
      },
      "execution_count": 40,
      "outputs": []
    }
  ]
}