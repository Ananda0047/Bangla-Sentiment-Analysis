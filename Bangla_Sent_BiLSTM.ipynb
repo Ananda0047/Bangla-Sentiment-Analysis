{
  "metadata": {
    "kernelspec": {
      "display_name": "Python 3",
      "name": "python3"
    },
    "language_info": {
      "name": "python",
      "version": "3.7.12",
      "mimetype": "text/x-python",
      "codemirror_mode": {
        "name": "ipython",
        "version": 3
      },
      "pygments_lexer": "ipython3",
      "nbconvert_exporter": "python",
      "file_extension": ".py"
    },
    "colab": {
      "provenance": [],
      "include_colab_link": true
    },
    "accelerator": "TPU"
  },
  "nbformat_minor": 0,
  "nbformat": 4,
  "cells": [
    {
      "cell_type": "markdown",
      "metadata": {
        "id": "view-in-github",
        "colab_type": "text"
      },
      "source": [
        "<a href=\"https://colab.research.google.com/github/Ananda0047/Bangla-Sentiment-Analysis/blob/main/Bangla_Sent_BiLSTM.ipynb\" target=\"_parent\"><img src=\"https://colab.research.google.com/assets/colab-badge.svg\" alt=\"Open In Colab\"/></a>"
      ]
    },
    {
      "cell_type": "code",
      "source": [
        "import numpy as np\n",
        "import matplotlib.pyplot as plt\n",
        "%matplotlib inline\n",
        "import pandas as pd\n",
        "import seaborn as sns\n",
        "import re,nltk,json\n",
        "import tensorflow as tf\n",
        "from tensorflow import keras\n",
        "from tensorflow.keras import regularizers\n",
        "from tensorflow.keras.preprocessing.sequence import pad_sequences\n",
        "from keras.layers import Input, Dense, Activation, Dropout,Flatten,Embedding\n",
        "from keras.layers import Conv1D,MaxPooling1D,GlobalAveragePooling1D, Bidirectional, LSTM, GRU\n",
        "from keras.models import Model\n",
        "from tensorflow.keras.optimizers import Adam,SGD,Nadam,RMSprop\n",
        "from tensorflow.keras.models import load_model\n",
        "from tensorflow.keras.models import load_model\n",
        "from sklearn.metrics import confusion_matrix,classification_report\n",
        "from sklearn.model_selection import train_test_split\n",
        "from sklearn.metrics import accuracy_score,precision_score,recall_score,f1_score,roc_auc_score\n",
        "from tensorflow.keras.preprocessing.text import Tokenizer\n",
        "from keras.utils.vis_utils import plot_model\n",
        "import pickle\n",
        "# Warnings\n",
        "import warnings\n",
        "warnings.simplefilter(action='ignore', category=FutureWarning)"
      ],
      "metadata": {
        "_cell_guid": "b1076dfc-b9ad-4769-8c92-a6c4dae69d19",
        "_uuid": "8f2839f25d086af736a60e9eeb907d3b93b6e0e5",
        "papermill": {
          "duration": 6.95098,
          "end_time": "2022-10-21T18:40:09.352157",
          "exception": false,
          "start_time": "2022-10-21T18:40:02.401177",
          "status": "completed"
        },
        "tags": [],
        "execution": {
          "iopub.status.busy": "2023-03-14T07:42:23.377316Z",
          "iopub.execute_input": "2023-03-14T07:42:23.377804Z",
          "iopub.status.idle": "2023-03-14T07:42:23.394721Z",
          "shell.execute_reply.started": "2023-03-14T07:42:23.377769Z",
          "shell.execute_reply": "2023-03-14T07:42:23.393095Z"
        },
        "trusted": true,
        "id": "H1bo1PSsso8j"
      },
      "execution_count": 1,
      "outputs": []
    },
    {
      "cell_type": "code",
      "source": [
        "from tensorflow.keras.layers import Dropout,Input, Embedding, Conv1D, MaxPooling1D, Flatten, Dense,MaxPooling3D, GlobalMaxPooling3D, GlobalAveragePooling3D,Conv1D, Conv2D, Convolution1D, MaxPooling1D, SeparableConv1D, SpatialDropout1D, \\\n",
        "    GlobalAvgPool1D, GlobalMaxPool1D, GlobalMaxPooling1D,BatchNormalization, Dropout, Flatten"
      ],
      "metadata": {
        "execution": {
          "iopub.status.busy": "2023-03-14T07:52:51.581750Z",
          "iopub.execute_input": "2023-03-14T07:52:51.582596Z",
          "iopub.status.idle": "2023-03-14T07:52:51.589798Z",
          "shell.execute_reply.started": "2023-03-14T07:52:51.582547Z",
          "shell.execute_reply": "2023-03-14T07:52:51.588713Z"
        },
        "trusted": true,
        "id": "Ihw74qgWso8m"
      },
      "execution_count": 2,
      "outputs": []
    },
    {
      "cell_type": "markdown",
      "source": [
        "### Dataset Loading"
      ],
      "metadata": {
        "papermill": {
          "duration": 0.009507,
          "end_time": "2022-10-21T18:40:09.372124",
          "exception": false,
          "start_time": "2022-10-21T18:40:09.362617",
          "status": "completed"
        },
        "tags": [],
        "id": "nNQmgRexso8n"
      }
    },
    {
      "cell_type": "code",
      "source": [
        "from google.colab import files\n",
        "uploaded = files.upload()"
      ],
      "metadata": {
        "papermill": {
          "duration": 0.270642,
          "end_time": "2022-10-21T18:40:09.652738",
          "exception": false,
          "start_time": "2022-10-21T18:40:09.382096",
          "status": "completed"
        },
        "tags": [],
        "execution": {
          "iopub.status.busy": "2023-03-14T07:42:23.429786Z",
          "iopub.execute_input": "2023-03-14T07:42:23.430531Z",
          "iopub.status.idle": "2023-03-14T07:42:23.825322Z",
          "shell.execute_reply.started": "2023-03-14T07:42:23.430485Z",
          "shell.execute_reply": "2023-03-14T07:42:23.824237Z"
        },
        "trusted": true,
        "id": "_JI3bB3qso8o",
        "colab": {
          "base_uri": "https://localhost:8080/",
          "height": 74
        },
        "outputId": "35dc6d38-e006-45dc-94eb-07cab20a2a6c"
      },
      "execution_count": 3,
      "outputs": [
        {
          "output_type": "display_data",
          "data": {
            "text/plain": [
              "<IPython.core.display.HTML object>"
            ],
            "text/html": [
              "\n",
              "     <input type=\"file\" id=\"files-127873c3-f571-4ad9-aa2e-5fd51ec1ae55\" name=\"files[]\" multiple disabled\n",
              "        style=\"border:none\" />\n",
              "     <output id=\"result-127873c3-f571-4ad9-aa2e-5fd51ec1ae55\">\n",
              "      Upload widget is only available when the cell has been executed in the\n",
              "      current browser session. Please rerun this cell to enable.\n",
              "      </output>\n",
              "      <script>// Copyright 2017 Google LLC\n",
              "//\n",
              "// Licensed under the Apache License, Version 2.0 (the \"License\");\n",
              "// you may not use this file except in compliance with the License.\n",
              "// You may obtain a copy of the License at\n",
              "//\n",
              "//      http://www.apache.org/licenses/LICENSE-2.0\n",
              "//\n",
              "// Unless required by applicable law or agreed to in writing, software\n",
              "// distributed under the License is distributed on an \"AS IS\" BASIS,\n",
              "// WITHOUT WARRANTIES OR CONDITIONS OF ANY KIND, either express or implied.\n",
              "// See the License for the specific language governing permissions and\n",
              "// limitations under the License.\n",
              "\n",
              "/**\n",
              " * @fileoverview Helpers for google.colab Python module.\n",
              " */\n",
              "(function(scope) {\n",
              "function span(text, styleAttributes = {}) {\n",
              "  const element = document.createElement('span');\n",
              "  element.textContent = text;\n",
              "  for (const key of Object.keys(styleAttributes)) {\n",
              "    element.style[key] = styleAttributes[key];\n",
              "  }\n",
              "  return element;\n",
              "}\n",
              "\n",
              "// Max number of bytes which will be uploaded at a time.\n",
              "const MAX_PAYLOAD_SIZE = 100 * 1024;\n",
              "\n",
              "function _uploadFiles(inputId, outputId) {\n",
              "  const steps = uploadFilesStep(inputId, outputId);\n",
              "  const outputElement = document.getElementById(outputId);\n",
              "  // Cache steps on the outputElement to make it available for the next call\n",
              "  // to uploadFilesContinue from Python.\n",
              "  outputElement.steps = steps;\n",
              "\n",
              "  return _uploadFilesContinue(outputId);\n",
              "}\n",
              "\n",
              "// This is roughly an async generator (not supported in the browser yet),\n",
              "// where there are multiple asynchronous steps and the Python side is going\n",
              "// to poll for completion of each step.\n",
              "// This uses a Promise to block the python side on completion of each step,\n",
              "// then passes the result of the previous step as the input to the next step.\n",
              "function _uploadFilesContinue(outputId) {\n",
              "  const outputElement = document.getElementById(outputId);\n",
              "  const steps = outputElement.steps;\n",
              "\n",
              "  const next = steps.next(outputElement.lastPromiseValue);\n",
              "  return Promise.resolve(next.value.promise).then((value) => {\n",
              "    // Cache the last promise value to make it available to the next\n",
              "    // step of the generator.\n",
              "    outputElement.lastPromiseValue = value;\n",
              "    return next.value.response;\n",
              "  });\n",
              "}\n",
              "\n",
              "/**\n",
              " * Generator function which is called between each async step of the upload\n",
              " * process.\n",
              " * @param {string} inputId Element ID of the input file picker element.\n",
              " * @param {string} outputId Element ID of the output display.\n",
              " * @return {!Iterable<!Object>} Iterable of next steps.\n",
              " */\n",
              "function* uploadFilesStep(inputId, outputId) {\n",
              "  const inputElement = document.getElementById(inputId);\n",
              "  inputElement.disabled = false;\n",
              "\n",
              "  const outputElement = document.getElementById(outputId);\n",
              "  outputElement.innerHTML = '';\n",
              "\n",
              "  const pickedPromise = new Promise((resolve) => {\n",
              "    inputElement.addEventListener('change', (e) => {\n",
              "      resolve(e.target.files);\n",
              "    });\n",
              "  });\n",
              "\n",
              "  const cancel = document.createElement('button');\n",
              "  inputElement.parentElement.appendChild(cancel);\n",
              "  cancel.textContent = 'Cancel upload';\n",
              "  const cancelPromise = new Promise((resolve) => {\n",
              "    cancel.onclick = () => {\n",
              "      resolve(null);\n",
              "    };\n",
              "  });\n",
              "\n",
              "  // Wait for the user to pick the files.\n",
              "  const files = yield {\n",
              "    promise: Promise.race([pickedPromise, cancelPromise]),\n",
              "    response: {\n",
              "      action: 'starting',\n",
              "    }\n",
              "  };\n",
              "\n",
              "  cancel.remove();\n",
              "\n",
              "  // Disable the input element since further picks are not allowed.\n",
              "  inputElement.disabled = true;\n",
              "\n",
              "  if (!files) {\n",
              "    return {\n",
              "      response: {\n",
              "        action: 'complete',\n",
              "      }\n",
              "    };\n",
              "  }\n",
              "\n",
              "  for (const file of files) {\n",
              "    const li = document.createElement('li');\n",
              "    li.append(span(file.name, {fontWeight: 'bold'}));\n",
              "    li.append(span(\n",
              "        `(${file.type || 'n/a'}) - ${file.size} bytes, ` +\n",
              "        `last modified: ${\n",
              "            file.lastModifiedDate ? file.lastModifiedDate.toLocaleDateString() :\n",
              "                                    'n/a'} - `));\n",
              "    const percent = span('0% done');\n",
              "    li.appendChild(percent);\n",
              "\n",
              "    outputElement.appendChild(li);\n",
              "\n",
              "    const fileDataPromise = new Promise((resolve) => {\n",
              "      const reader = new FileReader();\n",
              "      reader.onload = (e) => {\n",
              "        resolve(e.target.result);\n",
              "      };\n",
              "      reader.readAsArrayBuffer(file);\n",
              "    });\n",
              "    // Wait for the data to be ready.\n",
              "    let fileData = yield {\n",
              "      promise: fileDataPromise,\n",
              "      response: {\n",
              "        action: 'continue',\n",
              "      }\n",
              "    };\n",
              "\n",
              "    // Use a chunked sending to avoid message size limits. See b/62115660.\n",
              "    let position = 0;\n",
              "    do {\n",
              "      const length = Math.min(fileData.byteLength - position, MAX_PAYLOAD_SIZE);\n",
              "      const chunk = new Uint8Array(fileData, position, length);\n",
              "      position += length;\n",
              "\n",
              "      const base64 = btoa(String.fromCharCode.apply(null, chunk));\n",
              "      yield {\n",
              "        response: {\n",
              "          action: 'append',\n",
              "          file: file.name,\n",
              "          data: base64,\n",
              "        },\n",
              "      };\n",
              "\n",
              "      let percentDone = fileData.byteLength === 0 ?\n",
              "          100 :\n",
              "          Math.round((position / fileData.byteLength) * 100);\n",
              "      percent.textContent = `${percentDone}% done`;\n",
              "\n",
              "    } while (position < fileData.byteLength);\n",
              "  }\n",
              "\n",
              "  // All done.\n",
              "  yield {\n",
              "    response: {\n",
              "      action: 'complete',\n",
              "    }\n",
              "  };\n",
              "}\n",
              "\n",
              "scope.google = scope.google || {};\n",
              "scope.google.colab = scope.google.colab || {};\n",
              "scope.google.colab._files = {\n",
              "  _uploadFiles,\n",
              "  _uploadFilesContinue,\n",
              "};\n",
              "})(self);\n",
              "</script> "
            ]
          },
          "metadata": {}
        },
        {
          "output_type": "stream",
          "name": "stdout",
          "text": [
            "Saving Bangla_Sent.xlsx to Bangla_Sent.xlsx\n"
          ]
        }
      ]
    },
    {
      "cell_type": "code",
      "source": [
        "import io\n",
        "df_train = pd.read_excel(io.BytesIO(uploaded['Bangla_Sent.xlsx']))\n",
        "# Dataset is now stored in a Pandas Dataframe"
      ],
      "metadata": {
        "id": "tJrIlV1dtdD4"
      },
      "execution_count": 4,
      "outputs": []
    },
    {
      "cell_type": "code",
      "source": [
        "df_train.head()"
      ],
      "metadata": {
        "execution": {
          "iopub.status.busy": "2023-03-14T07:42:23.827366Z",
          "iopub.execute_input": "2023-03-14T07:42:23.827769Z",
          "iopub.status.idle": "2023-03-14T07:42:23.840147Z",
          "shell.execute_reply.started": "2023-03-14T07:42:23.827737Z",
          "shell.execute_reply": "2023-03-14T07:42:23.838657Z"
        },
        "trusted": true,
        "id": "17RzYWhaso8o",
        "outputId": "1e806ac1-6179-49fe-895f-c09d83f65c02",
        "colab": {
          "base_uri": "https://localhost:8080/",
          "height": 206
        }
      },
      "execution_count": 5,
      "outputs": [
        {
          "output_type": "execute_result",
          "data": {
            "text/plain": [
              "                                                Text Sentiment\n",
              "0  অই জায়গার ডাক্তাররা কি গু খায় কে পাগল কে সুস্থ...   disgust\n",
              "1       অনেকদিন হলো তাকে দেখিনা মাঝে মাঝে কান্না আসে   sadness\n",
              "2             অগণতান্ত্রিক একটি জঘন্য দেশে আমার বাস    disgust\n",
              "3  অটো রিস্কা বন্ধ করতে হবে তা না হলে আরো সংকট বে...      fear\n",
              "4       অটোরিকশা বন্ধ না করলে আরও সংকট হবে মনে হচ্ছে      fear"
            ],
            "text/html": [
              "\n",
              "  <div id=\"df-1d26c433-3fbc-46b6-a682-4e240e7309cc\" class=\"colab-df-container\">\n",
              "    <div>\n",
              "<style scoped>\n",
              "    .dataframe tbody tr th:only-of-type {\n",
              "        vertical-align: middle;\n",
              "    }\n",
              "\n",
              "    .dataframe tbody tr th {\n",
              "        vertical-align: top;\n",
              "    }\n",
              "\n",
              "    .dataframe thead th {\n",
              "        text-align: right;\n",
              "    }\n",
              "</style>\n",
              "<table border=\"1\" class=\"dataframe\">\n",
              "  <thead>\n",
              "    <tr style=\"text-align: right;\">\n",
              "      <th></th>\n",
              "      <th>Text</th>\n",
              "      <th>Sentiment</th>\n",
              "    </tr>\n",
              "  </thead>\n",
              "  <tbody>\n",
              "    <tr>\n",
              "      <th>0</th>\n",
              "      <td>অই জায়গার ডাক্তাররা কি গু খায় কে পাগল কে সুস্থ...</td>\n",
              "      <td>disgust</td>\n",
              "    </tr>\n",
              "    <tr>\n",
              "      <th>1</th>\n",
              "      <td>অনেকদিন হলো তাকে দেখিনা মাঝে মাঝে কান্না আসে</td>\n",
              "      <td>sadness</td>\n",
              "    </tr>\n",
              "    <tr>\n",
              "      <th>2</th>\n",
              "      <td>অগণতান্ত্রিক একটি জঘন্য দেশে আমার বাস</td>\n",
              "      <td>disgust</td>\n",
              "    </tr>\n",
              "    <tr>\n",
              "      <th>3</th>\n",
              "      <td>অটো রিস্কা বন্ধ করতে হবে তা না হলে আরো সংকট বে...</td>\n",
              "      <td>fear</td>\n",
              "    </tr>\n",
              "    <tr>\n",
              "      <th>4</th>\n",
              "      <td>অটোরিকশা বন্ধ না করলে আরও সংকট হবে মনে হচ্ছে</td>\n",
              "      <td>fear</td>\n",
              "    </tr>\n",
              "  </tbody>\n",
              "</table>\n",
              "</div>\n",
              "    <div class=\"colab-df-buttons\">\n",
              "\n",
              "  <div class=\"colab-df-container\">\n",
              "    <button class=\"colab-df-convert\" onclick=\"convertToInteractive('df-1d26c433-3fbc-46b6-a682-4e240e7309cc')\"\n",
              "            title=\"Convert this dataframe to an interactive table.\"\n",
              "            style=\"display:none;\">\n",
              "\n",
              "  <svg xmlns=\"http://www.w3.org/2000/svg\" height=\"24px\" viewBox=\"0 -960 960 960\">\n",
              "    <path d=\"M120-120v-720h720v720H120Zm60-500h600v-160H180v160Zm220 220h160v-160H400v160Zm0 220h160v-160H400v160ZM180-400h160v-160H180v160Zm440 0h160v-160H620v160ZM180-180h160v-160H180v160Zm440 0h160v-160H620v160Z\"/>\n",
              "  </svg>\n",
              "    </button>\n",
              "\n",
              "  <style>\n",
              "    .colab-df-container {\n",
              "      display:flex;\n",
              "      gap: 12px;\n",
              "    }\n",
              "\n",
              "    .colab-df-convert {\n",
              "      background-color: #E8F0FE;\n",
              "      border: none;\n",
              "      border-radius: 50%;\n",
              "      cursor: pointer;\n",
              "      display: none;\n",
              "      fill: #1967D2;\n",
              "      height: 32px;\n",
              "      padding: 0 0 0 0;\n",
              "      width: 32px;\n",
              "    }\n",
              "\n",
              "    .colab-df-convert:hover {\n",
              "      background-color: #E2EBFA;\n",
              "      box-shadow: 0px 1px 2px rgba(60, 64, 67, 0.3), 0px 1px 3px 1px rgba(60, 64, 67, 0.15);\n",
              "      fill: #174EA6;\n",
              "    }\n",
              "\n",
              "    .colab-df-buttons div {\n",
              "      margin-bottom: 4px;\n",
              "    }\n",
              "\n",
              "    [theme=dark] .colab-df-convert {\n",
              "      background-color: #3B4455;\n",
              "      fill: #D2E3FC;\n",
              "    }\n",
              "\n",
              "    [theme=dark] .colab-df-convert:hover {\n",
              "      background-color: #434B5C;\n",
              "      box-shadow: 0px 1px 3px 1px rgba(0, 0, 0, 0.15);\n",
              "      filter: drop-shadow(0px 1px 2px rgba(0, 0, 0, 0.3));\n",
              "      fill: #FFFFFF;\n",
              "    }\n",
              "  </style>\n",
              "\n",
              "    <script>\n",
              "      const buttonEl =\n",
              "        document.querySelector('#df-1d26c433-3fbc-46b6-a682-4e240e7309cc button.colab-df-convert');\n",
              "      buttonEl.style.display =\n",
              "        google.colab.kernel.accessAllowed ? 'block' : 'none';\n",
              "\n",
              "      async function convertToInteractive(key) {\n",
              "        const element = document.querySelector('#df-1d26c433-3fbc-46b6-a682-4e240e7309cc');\n",
              "        const dataTable =\n",
              "          await google.colab.kernel.invokeFunction('convertToInteractive',\n",
              "                                                    [key], {});\n",
              "        if (!dataTable) return;\n",
              "\n",
              "        const docLinkHtml = 'Like what you see? Visit the ' +\n",
              "          '<a target=\"_blank\" href=https://colab.research.google.com/notebooks/data_table.ipynb>data table notebook</a>'\n",
              "          + ' to learn more about interactive tables.';\n",
              "        element.innerHTML = '';\n",
              "        dataTable['output_type'] = 'display_data';\n",
              "        await google.colab.output.renderOutput(dataTable, element);\n",
              "        const docLink = document.createElement('div');\n",
              "        docLink.innerHTML = docLinkHtml;\n",
              "        element.appendChild(docLink);\n",
              "      }\n",
              "    </script>\n",
              "  </div>\n",
              "\n",
              "\n",
              "<div id=\"df-33263091-c126-47ef-8fe8-a7c5af34e75d\">\n",
              "  <button class=\"colab-df-quickchart\" onclick=\"quickchart('df-33263091-c126-47ef-8fe8-a7c5af34e75d')\"\n",
              "            title=\"Suggest charts.\"\n",
              "            style=\"display:none;\">\n",
              "\n",
              "<svg xmlns=\"http://www.w3.org/2000/svg\" height=\"24px\"viewBox=\"0 0 24 24\"\n",
              "     width=\"24px\">\n",
              "    <g>\n",
              "        <path d=\"M19 3H5c-1.1 0-2 .9-2 2v14c0 1.1.9 2 2 2h14c1.1 0 2-.9 2-2V5c0-1.1-.9-2-2-2zM9 17H7v-7h2v7zm4 0h-2V7h2v10zm4 0h-2v-4h2v4z\"/>\n",
              "    </g>\n",
              "</svg>\n",
              "  </button>\n",
              "\n",
              "<style>\n",
              "  .colab-df-quickchart {\n",
              "      --bg-color: #E8F0FE;\n",
              "      --fill-color: #1967D2;\n",
              "      --hover-bg-color: #E2EBFA;\n",
              "      --hover-fill-color: #174EA6;\n",
              "      --disabled-fill-color: #AAA;\n",
              "      --disabled-bg-color: #DDD;\n",
              "  }\n",
              "\n",
              "  [theme=dark] .colab-df-quickchart {\n",
              "      --bg-color: #3B4455;\n",
              "      --fill-color: #D2E3FC;\n",
              "      --hover-bg-color: #434B5C;\n",
              "      --hover-fill-color: #FFFFFF;\n",
              "      --disabled-bg-color: #3B4455;\n",
              "      --disabled-fill-color: #666;\n",
              "  }\n",
              "\n",
              "  .colab-df-quickchart {\n",
              "    background-color: var(--bg-color);\n",
              "    border: none;\n",
              "    border-radius: 50%;\n",
              "    cursor: pointer;\n",
              "    display: none;\n",
              "    fill: var(--fill-color);\n",
              "    height: 32px;\n",
              "    padding: 0;\n",
              "    width: 32px;\n",
              "  }\n",
              "\n",
              "  .colab-df-quickchart:hover {\n",
              "    background-color: var(--hover-bg-color);\n",
              "    box-shadow: 0 1px 2px rgba(60, 64, 67, 0.3), 0 1px 3px 1px rgba(60, 64, 67, 0.15);\n",
              "    fill: var(--button-hover-fill-color);\n",
              "  }\n",
              "\n",
              "  .colab-df-quickchart-complete:disabled,\n",
              "  .colab-df-quickchart-complete:disabled:hover {\n",
              "    background-color: var(--disabled-bg-color);\n",
              "    fill: var(--disabled-fill-color);\n",
              "    box-shadow: none;\n",
              "  }\n",
              "\n",
              "  .colab-df-spinner {\n",
              "    border: 2px solid var(--fill-color);\n",
              "    border-color: transparent;\n",
              "    border-bottom-color: var(--fill-color);\n",
              "    animation:\n",
              "      spin 1s steps(1) infinite;\n",
              "  }\n",
              "\n",
              "  @keyframes spin {\n",
              "    0% {\n",
              "      border-color: transparent;\n",
              "      border-bottom-color: var(--fill-color);\n",
              "      border-left-color: var(--fill-color);\n",
              "    }\n",
              "    20% {\n",
              "      border-color: transparent;\n",
              "      border-left-color: var(--fill-color);\n",
              "      border-top-color: var(--fill-color);\n",
              "    }\n",
              "    30% {\n",
              "      border-color: transparent;\n",
              "      border-left-color: var(--fill-color);\n",
              "      border-top-color: var(--fill-color);\n",
              "      border-right-color: var(--fill-color);\n",
              "    }\n",
              "    40% {\n",
              "      border-color: transparent;\n",
              "      border-right-color: var(--fill-color);\n",
              "      border-top-color: var(--fill-color);\n",
              "    }\n",
              "    60% {\n",
              "      border-color: transparent;\n",
              "      border-right-color: var(--fill-color);\n",
              "    }\n",
              "    80% {\n",
              "      border-color: transparent;\n",
              "      border-right-color: var(--fill-color);\n",
              "      border-bottom-color: var(--fill-color);\n",
              "    }\n",
              "    90% {\n",
              "      border-color: transparent;\n",
              "      border-bottom-color: var(--fill-color);\n",
              "    }\n",
              "  }\n",
              "</style>\n",
              "\n",
              "  <script>\n",
              "    async function quickchart(key) {\n",
              "      const quickchartButtonEl =\n",
              "        document.querySelector('#' + key + ' button');\n",
              "      quickchartButtonEl.disabled = true;  // To prevent multiple clicks.\n",
              "      quickchartButtonEl.classList.add('colab-df-spinner');\n",
              "      try {\n",
              "        const charts = await google.colab.kernel.invokeFunction(\n",
              "            'suggestCharts', [key], {});\n",
              "      } catch (error) {\n",
              "        console.error('Error during call to suggestCharts:', error);\n",
              "      }\n",
              "      quickchartButtonEl.classList.remove('colab-df-spinner');\n",
              "      quickchartButtonEl.classList.add('colab-df-quickchart-complete');\n",
              "    }\n",
              "    (() => {\n",
              "      let quickchartButtonEl =\n",
              "        document.querySelector('#df-33263091-c126-47ef-8fe8-a7c5af34e75d button');\n",
              "      quickchartButtonEl.style.display =\n",
              "        google.colab.kernel.accessAllowed ? 'block' : 'none';\n",
              "    })();\n",
              "  </script>\n",
              "</div>\n",
              "    </div>\n",
              "  </div>\n"
            ]
          },
          "metadata": {},
          "execution_count": 5
        }
      ]
    },
    {
      "cell_type": "code",
      "source": [
        "df_train=df_train[[\"Text\",\"Sentiment\"]]"
      ],
      "metadata": {
        "execution": {
          "iopub.status.busy": "2023-03-14T07:42:23.842143Z",
          "iopub.execute_input": "2023-03-14T07:42:23.843215Z",
          "iopub.status.idle": "2023-03-14T07:42:23.851850Z",
          "shell.execute_reply.started": "2023-03-14T07:42:23.843164Z",
          "shell.execute_reply": "2023-03-14T07:42:23.850038Z"
        },
        "trusted": true,
        "id": "gdEnXJ48so8p"
      },
      "execution_count": 6,
      "outputs": []
    },
    {
      "cell_type": "code",
      "source": [
        "df_train.columns=[\"headlines\",\"category\"]"
      ],
      "metadata": {
        "execution": {
          "iopub.status.busy": "2023-03-14T07:42:23.854252Z",
          "iopub.execute_input": "2023-03-14T07:42:23.854777Z",
          "iopub.status.idle": "2023-03-14T07:42:23.863437Z",
          "shell.execute_reply.started": "2023-03-14T07:42:23.854729Z",
          "shell.execute_reply": "2023-03-14T07:42:23.862375Z"
        },
        "trusted": true,
        "id": "NLPsRtaaso8p"
      },
      "execution_count": 7,
      "outputs": []
    },
    {
      "cell_type": "markdown",
      "source": [
        "### Train Dataset Processing"
      ],
      "metadata": {
        "papermill": {
          "duration": 0.010248,
          "end_time": "2022-10-21T18:40:09.67364",
          "exception": false,
          "start_time": "2022-10-21T18:40:09.663392",
          "status": "completed"
        },
        "tags": [],
        "id": "JQK8tACdso8p"
      }
    },
    {
      "cell_type": "code",
      "source": [
        "df_train.head()"
      ],
      "metadata": {
        "papermill": {
          "duration": 0.032033,
          "end_time": "2022-10-21T18:40:09.716105",
          "exception": false,
          "start_time": "2022-10-21T18:40:09.684072",
          "status": "completed"
        },
        "tags": [],
        "execution": {
          "iopub.status.busy": "2023-03-14T07:42:23.867469Z",
          "iopub.execute_input": "2023-03-14T07:42:23.868468Z",
          "iopub.status.idle": "2023-03-14T07:42:23.880535Z",
          "shell.execute_reply.started": "2023-03-14T07:42:23.868426Z",
          "shell.execute_reply": "2023-03-14T07:42:23.879449Z"
        },
        "trusted": true,
        "id": "OvuzMIuCso8p",
        "outputId": "337c1421-cf6f-4f12-b09a-360f51c12df7",
        "colab": {
          "base_uri": "https://localhost:8080/",
          "height": 206
        }
      },
      "execution_count": 8,
      "outputs": [
        {
          "output_type": "execute_result",
          "data": {
            "text/plain": [
              "                                           headlines category\n",
              "0  অই জায়গার ডাক্তাররা কি গু খায় কে পাগল কে সুস্থ...  disgust\n",
              "1       অনেকদিন হলো তাকে দেখিনা মাঝে মাঝে কান্না আসে  sadness\n",
              "2             অগণতান্ত্রিক একটি জঘন্য দেশে আমার বাস   disgust\n",
              "3  অটো রিস্কা বন্ধ করতে হবে তা না হলে আরো সংকট বে...     fear\n",
              "4       অটোরিকশা বন্ধ না করলে আরও সংকট হবে মনে হচ্ছে     fear"
            ],
            "text/html": [
              "\n",
              "  <div id=\"df-2beeb62d-09e4-4913-ab42-029e79179c42\" class=\"colab-df-container\">\n",
              "    <div>\n",
              "<style scoped>\n",
              "    .dataframe tbody tr th:only-of-type {\n",
              "        vertical-align: middle;\n",
              "    }\n",
              "\n",
              "    .dataframe tbody tr th {\n",
              "        vertical-align: top;\n",
              "    }\n",
              "\n",
              "    .dataframe thead th {\n",
              "        text-align: right;\n",
              "    }\n",
              "</style>\n",
              "<table border=\"1\" class=\"dataframe\">\n",
              "  <thead>\n",
              "    <tr style=\"text-align: right;\">\n",
              "      <th></th>\n",
              "      <th>headlines</th>\n",
              "      <th>category</th>\n",
              "    </tr>\n",
              "  </thead>\n",
              "  <tbody>\n",
              "    <tr>\n",
              "      <th>0</th>\n",
              "      <td>অই জায়গার ডাক্তাররা কি গু খায় কে পাগল কে সুস্থ...</td>\n",
              "      <td>disgust</td>\n",
              "    </tr>\n",
              "    <tr>\n",
              "      <th>1</th>\n",
              "      <td>অনেকদিন হলো তাকে দেখিনা মাঝে মাঝে কান্না আসে</td>\n",
              "      <td>sadness</td>\n",
              "    </tr>\n",
              "    <tr>\n",
              "      <th>2</th>\n",
              "      <td>অগণতান্ত্রিক একটি জঘন্য দেশে আমার বাস</td>\n",
              "      <td>disgust</td>\n",
              "    </tr>\n",
              "    <tr>\n",
              "      <th>3</th>\n",
              "      <td>অটো রিস্কা বন্ধ করতে হবে তা না হলে আরো সংকট বে...</td>\n",
              "      <td>fear</td>\n",
              "    </tr>\n",
              "    <tr>\n",
              "      <th>4</th>\n",
              "      <td>অটোরিকশা বন্ধ না করলে আরও সংকট হবে মনে হচ্ছে</td>\n",
              "      <td>fear</td>\n",
              "    </tr>\n",
              "  </tbody>\n",
              "</table>\n",
              "</div>\n",
              "    <div class=\"colab-df-buttons\">\n",
              "\n",
              "  <div class=\"colab-df-container\">\n",
              "    <button class=\"colab-df-convert\" onclick=\"convertToInteractive('df-2beeb62d-09e4-4913-ab42-029e79179c42')\"\n",
              "            title=\"Convert this dataframe to an interactive table.\"\n",
              "            style=\"display:none;\">\n",
              "\n",
              "  <svg xmlns=\"http://www.w3.org/2000/svg\" height=\"24px\" viewBox=\"0 -960 960 960\">\n",
              "    <path d=\"M120-120v-720h720v720H120Zm60-500h600v-160H180v160Zm220 220h160v-160H400v160Zm0 220h160v-160H400v160ZM180-400h160v-160H180v160Zm440 0h160v-160H620v160ZM180-180h160v-160H180v160Zm440 0h160v-160H620v160Z\"/>\n",
              "  </svg>\n",
              "    </button>\n",
              "\n",
              "  <style>\n",
              "    .colab-df-container {\n",
              "      display:flex;\n",
              "      gap: 12px;\n",
              "    }\n",
              "\n",
              "    .colab-df-convert {\n",
              "      background-color: #E8F0FE;\n",
              "      border: none;\n",
              "      border-radius: 50%;\n",
              "      cursor: pointer;\n",
              "      display: none;\n",
              "      fill: #1967D2;\n",
              "      height: 32px;\n",
              "      padding: 0 0 0 0;\n",
              "      width: 32px;\n",
              "    }\n",
              "\n",
              "    .colab-df-convert:hover {\n",
              "      background-color: #E2EBFA;\n",
              "      box-shadow: 0px 1px 2px rgba(60, 64, 67, 0.3), 0px 1px 3px 1px rgba(60, 64, 67, 0.15);\n",
              "      fill: #174EA6;\n",
              "    }\n",
              "\n",
              "    .colab-df-buttons div {\n",
              "      margin-bottom: 4px;\n",
              "    }\n",
              "\n",
              "    [theme=dark] .colab-df-convert {\n",
              "      background-color: #3B4455;\n",
              "      fill: #D2E3FC;\n",
              "    }\n",
              "\n",
              "    [theme=dark] .colab-df-convert:hover {\n",
              "      background-color: #434B5C;\n",
              "      box-shadow: 0px 1px 3px 1px rgba(0, 0, 0, 0.15);\n",
              "      filter: drop-shadow(0px 1px 2px rgba(0, 0, 0, 0.3));\n",
              "      fill: #FFFFFF;\n",
              "    }\n",
              "  </style>\n",
              "\n",
              "    <script>\n",
              "      const buttonEl =\n",
              "        document.querySelector('#df-2beeb62d-09e4-4913-ab42-029e79179c42 button.colab-df-convert');\n",
              "      buttonEl.style.display =\n",
              "        google.colab.kernel.accessAllowed ? 'block' : 'none';\n",
              "\n",
              "      async function convertToInteractive(key) {\n",
              "        const element = document.querySelector('#df-2beeb62d-09e4-4913-ab42-029e79179c42');\n",
              "        const dataTable =\n",
              "          await google.colab.kernel.invokeFunction('convertToInteractive',\n",
              "                                                    [key], {});\n",
              "        if (!dataTable) return;\n",
              "\n",
              "        const docLinkHtml = 'Like what you see? Visit the ' +\n",
              "          '<a target=\"_blank\" href=https://colab.research.google.com/notebooks/data_table.ipynb>data table notebook</a>'\n",
              "          + ' to learn more about interactive tables.';\n",
              "        element.innerHTML = '';\n",
              "        dataTable['output_type'] = 'display_data';\n",
              "        await google.colab.output.renderOutput(dataTable, element);\n",
              "        const docLink = document.createElement('div');\n",
              "        docLink.innerHTML = docLinkHtml;\n",
              "        element.appendChild(docLink);\n",
              "      }\n",
              "    </script>\n",
              "  </div>\n",
              "\n",
              "\n",
              "<div id=\"df-83acf481-19d8-4475-a9dc-3bca09b0c887\">\n",
              "  <button class=\"colab-df-quickchart\" onclick=\"quickchart('df-83acf481-19d8-4475-a9dc-3bca09b0c887')\"\n",
              "            title=\"Suggest charts.\"\n",
              "            style=\"display:none;\">\n",
              "\n",
              "<svg xmlns=\"http://www.w3.org/2000/svg\" height=\"24px\"viewBox=\"0 0 24 24\"\n",
              "     width=\"24px\">\n",
              "    <g>\n",
              "        <path d=\"M19 3H5c-1.1 0-2 .9-2 2v14c0 1.1.9 2 2 2h14c1.1 0 2-.9 2-2V5c0-1.1-.9-2-2-2zM9 17H7v-7h2v7zm4 0h-2V7h2v10zm4 0h-2v-4h2v4z\"/>\n",
              "    </g>\n",
              "</svg>\n",
              "  </button>\n",
              "\n",
              "<style>\n",
              "  .colab-df-quickchart {\n",
              "      --bg-color: #E8F0FE;\n",
              "      --fill-color: #1967D2;\n",
              "      --hover-bg-color: #E2EBFA;\n",
              "      --hover-fill-color: #174EA6;\n",
              "      --disabled-fill-color: #AAA;\n",
              "      --disabled-bg-color: #DDD;\n",
              "  }\n",
              "\n",
              "  [theme=dark] .colab-df-quickchart {\n",
              "      --bg-color: #3B4455;\n",
              "      --fill-color: #D2E3FC;\n",
              "      --hover-bg-color: #434B5C;\n",
              "      --hover-fill-color: #FFFFFF;\n",
              "      --disabled-bg-color: #3B4455;\n",
              "      --disabled-fill-color: #666;\n",
              "  }\n",
              "\n",
              "  .colab-df-quickchart {\n",
              "    background-color: var(--bg-color);\n",
              "    border: none;\n",
              "    border-radius: 50%;\n",
              "    cursor: pointer;\n",
              "    display: none;\n",
              "    fill: var(--fill-color);\n",
              "    height: 32px;\n",
              "    padding: 0;\n",
              "    width: 32px;\n",
              "  }\n",
              "\n",
              "  .colab-df-quickchart:hover {\n",
              "    background-color: var(--hover-bg-color);\n",
              "    box-shadow: 0 1px 2px rgba(60, 64, 67, 0.3), 0 1px 3px 1px rgba(60, 64, 67, 0.15);\n",
              "    fill: var(--button-hover-fill-color);\n",
              "  }\n",
              "\n",
              "  .colab-df-quickchart-complete:disabled,\n",
              "  .colab-df-quickchart-complete:disabled:hover {\n",
              "    background-color: var(--disabled-bg-color);\n",
              "    fill: var(--disabled-fill-color);\n",
              "    box-shadow: none;\n",
              "  }\n",
              "\n",
              "  .colab-df-spinner {\n",
              "    border: 2px solid var(--fill-color);\n",
              "    border-color: transparent;\n",
              "    border-bottom-color: var(--fill-color);\n",
              "    animation:\n",
              "      spin 1s steps(1) infinite;\n",
              "  }\n",
              "\n",
              "  @keyframes spin {\n",
              "    0% {\n",
              "      border-color: transparent;\n",
              "      border-bottom-color: var(--fill-color);\n",
              "      border-left-color: var(--fill-color);\n",
              "    }\n",
              "    20% {\n",
              "      border-color: transparent;\n",
              "      border-left-color: var(--fill-color);\n",
              "      border-top-color: var(--fill-color);\n",
              "    }\n",
              "    30% {\n",
              "      border-color: transparent;\n",
              "      border-left-color: var(--fill-color);\n",
              "      border-top-color: var(--fill-color);\n",
              "      border-right-color: var(--fill-color);\n",
              "    }\n",
              "    40% {\n",
              "      border-color: transparent;\n",
              "      border-right-color: var(--fill-color);\n",
              "      border-top-color: var(--fill-color);\n",
              "    }\n",
              "    60% {\n",
              "      border-color: transparent;\n",
              "      border-right-color: var(--fill-color);\n",
              "    }\n",
              "    80% {\n",
              "      border-color: transparent;\n",
              "      border-right-color: var(--fill-color);\n",
              "      border-bottom-color: var(--fill-color);\n",
              "    }\n",
              "    90% {\n",
              "      border-color: transparent;\n",
              "      border-bottom-color: var(--fill-color);\n",
              "    }\n",
              "  }\n",
              "</style>\n",
              "\n",
              "  <script>\n",
              "    async function quickchart(key) {\n",
              "      const quickchartButtonEl =\n",
              "        document.querySelector('#' + key + ' button');\n",
              "      quickchartButtonEl.disabled = true;  // To prevent multiple clicks.\n",
              "      quickchartButtonEl.classList.add('colab-df-spinner');\n",
              "      try {\n",
              "        const charts = await google.colab.kernel.invokeFunction(\n",
              "            'suggestCharts', [key], {});\n",
              "      } catch (error) {\n",
              "        console.error('Error during call to suggestCharts:', error);\n",
              "      }\n",
              "      quickchartButtonEl.classList.remove('colab-df-spinner');\n",
              "      quickchartButtonEl.classList.add('colab-df-quickchart-complete');\n",
              "    }\n",
              "    (() => {\n",
              "      let quickchartButtonEl =\n",
              "        document.querySelector('#df-83acf481-19d8-4475-a9dc-3bca09b0c887 button');\n",
              "      quickchartButtonEl.style.display =\n",
              "        google.colab.kernel.accessAllowed ? 'block' : 'none';\n",
              "    })();\n",
              "  </script>\n",
              "</div>\n",
              "    </div>\n",
              "  </div>\n"
            ]
          },
          "metadata": {},
          "execution_count": 8
        }
      ]
    },
    {
      "cell_type": "code",
      "source": [
        "df_train.describe()"
      ],
      "metadata": {
        "papermill": {
          "duration": 0.042077,
          "end_time": "2022-10-21T18:40:09.768968",
          "exception": false,
          "start_time": "2022-10-21T18:40:09.726891",
          "status": "completed"
        },
        "tags": [],
        "execution": {
          "iopub.status.busy": "2023-03-14T07:42:23.881883Z",
          "iopub.execute_input": "2023-03-14T07:42:23.882463Z",
          "iopub.status.idle": "2023-03-14T07:42:23.907100Z",
          "shell.execute_reply.started": "2023-03-14T07:42:23.882427Z",
          "shell.execute_reply": "2023-03-14T07:42:23.905652Z"
        },
        "trusted": true,
        "id": "o5TcznVSso8q",
        "outputId": "3794d701-67a9-495e-9d26-850f9d027cf9",
        "colab": {
          "base_uri": "https://localhost:8080/",
          "height": 175
        }
      },
      "execution_count": 9,
      "outputs": [
        {
          "output_type": "execute_result",
          "data": {
            "text/plain": [
              "                                                headlines category\n",
              "count                                                4819     4819\n",
              "unique                                               4818        6\n",
              "top     প্রশ্ন শুনে বুঝা যায় বাংলাদেশের অধিকাংশ সাংবাদ...  sadness\n",
              "freq                                                    2      827"
            ],
            "text/html": [
              "\n",
              "  <div id=\"df-e5b13327-e634-4218-9e3e-b5c9b602119c\" class=\"colab-df-container\">\n",
              "    <div>\n",
              "<style scoped>\n",
              "    .dataframe tbody tr th:only-of-type {\n",
              "        vertical-align: middle;\n",
              "    }\n",
              "\n",
              "    .dataframe tbody tr th {\n",
              "        vertical-align: top;\n",
              "    }\n",
              "\n",
              "    .dataframe thead th {\n",
              "        text-align: right;\n",
              "    }\n",
              "</style>\n",
              "<table border=\"1\" class=\"dataframe\">\n",
              "  <thead>\n",
              "    <tr style=\"text-align: right;\">\n",
              "      <th></th>\n",
              "      <th>headlines</th>\n",
              "      <th>category</th>\n",
              "    </tr>\n",
              "  </thead>\n",
              "  <tbody>\n",
              "    <tr>\n",
              "      <th>count</th>\n",
              "      <td>4819</td>\n",
              "      <td>4819</td>\n",
              "    </tr>\n",
              "    <tr>\n",
              "      <th>unique</th>\n",
              "      <td>4818</td>\n",
              "      <td>6</td>\n",
              "    </tr>\n",
              "    <tr>\n",
              "      <th>top</th>\n",
              "      <td>প্রশ্ন শুনে বুঝা যায় বাংলাদেশের অধিকাংশ সাংবাদ...</td>\n",
              "      <td>sadness</td>\n",
              "    </tr>\n",
              "    <tr>\n",
              "      <th>freq</th>\n",
              "      <td>2</td>\n",
              "      <td>827</td>\n",
              "    </tr>\n",
              "  </tbody>\n",
              "</table>\n",
              "</div>\n",
              "    <div class=\"colab-df-buttons\">\n",
              "\n",
              "  <div class=\"colab-df-container\">\n",
              "    <button class=\"colab-df-convert\" onclick=\"convertToInteractive('df-e5b13327-e634-4218-9e3e-b5c9b602119c')\"\n",
              "            title=\"Convert this dataframe to an interactive table.\"\n",
              "            style=\"display:none;\">\n",
              "\n",
              "  <svg xmlns=\"http://www.w3.org/2000/svg\" height=\"24px\" viewBox=\"0 -960 960 960\">\n",
              "    <path d=\"M120-120v-720h720v720H120Zm60-500h600v-160H180v160Zm220 220h160v-160H400v160Zm0 220h160v-160H400v160ZM180-400h160v-160H180v160Zm440 0h160v-160H620v160ZM180-180h160v-160H180v160Zm440 0h160v-160H620v160Z\"/>\n",
              "  </svg>\n",
              "    </button>\n",
              "\n",
              "  <style>\n",
              "    .colab-df-container {\n",
              "      display:flex;\n",
              "      gap: 12px;\n",
              "    }\n",
              "\n",
              "    .colab-df-convert {\n",
              "      background-color: #E8F0FE;\n",
              "      border: none;\n",
              "      border-radius: 50%;\n",
              "      cursor: pointer;\n",
              "      display: none;\n",
              "      fill: #1967D2;\n",
              "      height: 32px;\n",
              "      padding: 0 0 0 0;\n",
              "      width: 32px;\n",
              "    }\n",
              "\n",
              "    .colab-df-convert:hover {\n",
              "      background-color: #E2EBFA;\n",
              "      box-shadow: 0px 1px 2px rgba(60, 64, 67, 0.3), 0px 1px 3px 1px rgba(60, 64, 67, 0.15);\n",
              "      fill: #174EA6;\n",
              "    }\n",
              "\n",
              "    .colab-df-buttons div {\n",
              "      margin-bottom: 4px;\n",
              "    }\n",
              "\n",
              "    [theme=dark] .colab-df-convert {\n",
              "      background-color: #3B4455;\n",
              "      fill: #D2E3FC;\n",
              "    }\n",
              "\n",
              "    [theme=dark] .colab-df-convert:hover {\n",
              "      background-color: #434B5C;\n",
              "      box-shadow: 0px 1px 3px 1px rgba(0, 0, 0, 0.15);\n",
              "      filter: drop-shadow(0px 1px 2px rgba(0, 0, 0, 0.3));\n",
              "      fill: #FFFFFF;\n",
              "    }\n",
              "  </style>\n",
              "\n",
              "    <script>\n",
              "      const buttonEl =\n",
              "        document.querySelector('#df-e5b13327-e634-4218-9e3e-b5c9b602119c button.colab-df-convert');\n",
              "      buttonEl.style.display =\n",
              "        google.colab.kernel.accessAllowed ? 'block' : 'none';\n",
              "\n",
              "      async function convertToInteractive(key) {\n",
              "        const element = document.querySelector('#df-e5b13327-e634-4218-9e3e-b5c9b602119c');\n",
              "        const dataTable =\n",
              "          await google.colab.kernel.invokeFunction('convertToInteractive',\n",
              "                                                    [key], {});\n",
              "        if (!dataTable) return;\n",
              "\n",
              "        const docLinkHtml = 'Like what you see? Visit the ' +\n",
              "          '<a target=\"_blank\" href=https://colab.research.google.com/notebooks/data_table.ipynb>data table notebook</a>'\n",
              "          + ' to learn more about interactive tables.';\n",
              "        element.innerHTML = '';\n",
              "        dataTable['output_type'] = 'display_data';\n",
              "        await google.colab.output.renderOutput(dataTable, element);\n",
              "        const docLink = document.createElement('div');\n",
              "        docLink.innerHTML = docLinkHtml;\n",
              "        element.appendChild(docLink);\n",
              "      }\n",
              "    </script>\n",
              "  </div>\n",
              "\n",
              "\n",
              "<div id=\"df-947df14e-88cd-46dc-91ec-19564c294a2f\">\n",
              "  <button class=\"colab-df-quickchart\" onclick=\"quickchart('df-947df14e-88cd-46dc-91ec-19564c294a2f')\"\n",
              "            title=\"Suggest charts.\"\n",
              "            style=\"display:none;\">\n",
              "\n",
              "<svg xmlns=\"http://www.w3.org/2000/svg\" height=\"24px\"viewBox=\"0 0 24 24\"\n",
              "     width=\"24px\">\n",
              "    <g>\n",
              "        <path d=\"M19 3H5c-1.1 0-2 .9-2 2v14c0 1.1.9 2 2 2h14c1.1 0 2-.9 2-2V5c0-1.1-.9-2-2-2zM9 17H7v-7h2v7zm4 0h-2V7h2v10zm4 0h-2v-4h2v4z\"/>\n",
              "    </g>\n",
              "</svg>\n",
              "  </button>\n",
              "\n",
              "<style>\n",
              "  .colab-df-quickchart {\n",
              "      --bg-color: #E8F0FE;\n",
              "      --fill-color: #1967D2;\n",
              "      --hover-bg-color: #E2EBFA;\n",
              "      --hover-fill-color: #174EA6;\n",
              "      --disabled-fill-color: #AAA;\n",
              "      --disabled-bg-color: #DDD;\n",
              "  }\n",
              "\n",
              "  [theme=dark] .colab-df-quickchart {\n",
              "      --bg-color: #3B4455;\n",
              "      --fill-color: #D2E3FC;\n",
              "      --hover-bg-color: #434B5C;\n",
              "      --hover-fill-color: #FFFFFF;\n",
              "      --disabled-bg-color: #3B4455;\n",
              "      --disabled-fill-color: #666;\n",
              "  }\n",
              "\n",
              "  .colab-df-quickchart {\n",
              "    background-color: var(--bg-color);\n",
              "    border: none;\n",
              "    border-radius: 50%;\n",
              "    cursor: pointer;\n",
              "    display: none;\n",
              "    fill: var(--fill-color);\n",
              "    height: 32px;\n",
              "    padding: 0;\n",
              "    width: 32px;\n",
              "  }\n",
              "\n",
              "  .colab-df-quickchart:hover {\n",
              "    background-color: var(--hover-bg-color);\n",
              "    box-shadow: 0 1px 2px rgba(60, 64, 67, 0.3), 0 1px 3px 1px rgba(60, 64, 67, 0.15);\n",
              "    fill: var(--button-hover-fill-color);\n",
              "  }\n",
              "\n",
              "  .colab-df-quickchart-complete:disabled,\n",
              "  .colab-df-quickchart-complete:disabled:hover {\n",
              "    background-color: var(--disabled-bg-color);\n",
              "    fill: var(--disabled-fill-color);\n",
              "    box-shadow: none;\n",
              "  }\n",
              "\n",
              "  .colab-df-spinner {\n",
              "    border: 2px solid var(--fill-color);\n",
              "    border-color: transparent;\n",
              "    border-bottom-color: var(--fill-color);\n",
              "    animation:\n",
              "      spin 1s steps(1) infinite;\n",
              "  }\n",
              "\n",
              "  @keyframes spin {\n",
              "    0% {\n",
              "      border-color: transparent;\n",
              "      border-bottom-color: var(--fill-color);\n",
              "      border-left-color: var(--fill-color);\n",
              "    }\n",
              "    20% {\n",
              "      border-color: transparent;\n",
              "      border-left-color: var(--fill-color);\n",
              "      border-top-color: var(--fill-color);\n",
              "    }\n",
              "    30% {\n",
              "      border-color: transparent;\n",
              "      border-left-color: var(--fill-color);\n",
              "      border-top-color: var(--fill-color);\n",
              "      border-right-color: var(--fill-color);\n",
              "    }\n",
              "    40% {\n",
              "      border-color: transparent;\n",
              "      border-right-color: var(--fill-color);\n",
              "      border-top-color: var(--fill-color);\n",
              "    }\n",
              "    60% {\n",
              "      border-color: transparent;\n",
              "      border-right-color: var(--fill-color);\n",
              "    }\n",
              "    80% {\n",
              "      border-color: transparent;\n",
              "      border-right-color: var(--fill-color);\n",
              "      border-bottom-color: var(--fill-color);\n",
              "    }\n",
              "    90% {\n",
              "      border-color: transparent;\n",
              "      border-bottom-color: var(--fill-color);\n",
              "    }\n",
              "  }\n",
              "</style>\n",
              "\n",
              "  <script>\n",
              "    async function quickchart(key) {\n",
              "      const quickchartButtonEl =\n",
              "        document.querySelector('#' + key + ' button');\n",
              "      quickchartButtonEl.disabled = true;  // To prevent multiple clicks.\n",
              "      quickchartButtonEl.classList.add('colab-df-spinner');\n",
              "      try {\n",
              "        const charts = await google.colab.kernel.invokeFunction(\n",
              "            'suggestCharts', [key], {});\n",
              "      } catch (error) {\n",
              "        console.error('Error during call to suggestCharts:', error);\n",
              "      }\n",
              "      quickchartButtonEl.classList.remove('colab-df-spinner');\n",
              "      quickchartButtonEl.classList.add('colab-df-quickchart-complete');\n",
              "    }\n",
              "    (() => {\n",
              "      let quickchartButtonEl =\n",
              "        document.querySelector('#df-947df14e-88cd-46dc-91ec-19564c294a2f button');\n",
              "      quickchartButtonEl.style.display =\n",
              "        google.colab.kernel.accessAllowed ? 'block' : 'none';\n",
              "    })();\n",
              "  </script>\n",
              "</div>\n",
              "    </div>\n",
              "  </div>\n"
            ]
          },
          "metadata": {},
          "execution_count": 9
        }
      ]
    },
    {
      "cell_type": "code",
      "source": [
        "df_train[\"category\"].value_counts().plot(kind=\"bar\")"
      ],
      "metadata": {
        "execution": {
          "iopub.status.busy": "2023-03-14T07:42:23.908797Z",
          "iopub.execute_input": "2023-03-14T07:42:23.909180Z",
          "iopub.status.idle": "2023-03-14T07:42:24.156870Z",
          "shell.execute_reply.started": "2023-03-14T07:42:23.909146Z",
          "shell.execute_reply": "2023-03-14T07:42:24.155539Z"
        },
        "trusted": true,
        "id": "JpN2u8ALso8q",
        "outputId": "95afb177-0e8f-4e4e-c60a-eee4e4482453",
        "colab": {
          "base_uri": "https://localhost:8080/",
          "height": 490
        }
      },
      "execution_count": 10,
      "outputs": [
        {
          "output_type": "execute_result",
          "data": {
            "text/plain": [
              "<Axes: >"
            ]
          },
          "metadata": {},
          "execution_count": 10
        },
        {
          "output_type": "display_data",
          "data": {
            "text/plain": [
              "<Figure size 640x480 with 1 Axes>"
            ],
            "image/png": "[encoded data removed]"
          },
          "metadata": {}
        }
      ]
    },
    {
      "cell_type": "code",
      "source": [
        "# sns.countplot(df_train.category)"
      ],
      "metadata": {
        "papermill": {
          "duration": 0.248036,
          "end_time": "2022-10-21T18:40:10.027927",
          "exception": false,
          "start_time": "2022-10-21T18:40:09.779891",
          "status": "completed"
        },
        "tags": [],
        "execution": {
          "iopub.status.busy": "2023-03-14T07:42:24.158335Z",
          "iopub.execute_input": "2023-03-14T07:42:24.158689Z",
          "iopub.status.idle": "2023-03-14T07:42:24.163516Z",
          "shell.execute_reply.started": "2023-03-14T07:42:24.158655Z",
          "shell.execute_reply": "2023-03-14T07:42:24.162619Z"
        },
        "trusted": true,
        "id": "SyYU_ICUso8q"
      },
      "execution_count": 11,
      "outputs": []
    },
    {
      "cell_type": "code",
      "source": [
        "df_train.isnull().sum()"
      ],
      "metadata": {
        "papermill": {
          "duration": 0.025136,
          "end_time": "2022-10-21T18:40:10.063954",
          "exception": false,
          "start_time": "2022-10-21T18:40:10.038818",
          "status": "completed"
        },
        "tags": [],
        "execution": {
          "iopub.status.busy": "2023-03-14T07:42:24.164740Z",
          "iopub.execute_input": "2023-03-14T07:42:24.165305Z",
          "iopub.status.idle": "2023-03-14T07:42:24.181966Z",
          "shell.execute_reply.started": "2023-03-14T07:42:24.165270Z",
          "shell.execute_reply": "2023-03-14T07:42:24.180784Z"
        },
        "trusted": true,
        "id": "7k8Cfn9jso8q",
        "outputId": "345948dd-8677-4257-9c05-7f07bfc7bced",
        "colab": {
          "base_uri": "https://localhost:8080/"
        }
      },
      "execution_count": 12,
      "outputs": [
        {
          "output_type": "execute_result",
          "data": {
            "text/plain": [
              "headlines    0\n",
              "category     0\n",
              "dtype: int64"
            ]
          },
          "metadata": {},
          "execution_count": 12
        }
      ]
    },
    {
      "cell_type": "code",
      "source": [
        "df_train = df_train.dropna()"
      ],
      "metadata": {
        "papermill": {
          "duration": 0.02543,
          "end_time": "2022-10-21T18:40:10.100018",
          "exception": false,
          "start_time": "2022-10-21T18:40:10.074588",
          "status": "completed"
        },
        "tags": [],
        "execution": {
          "iopub.status.busy": "2023-03-14T07:42:24.183279Z",
          "iopub.execute_input": "2023-03-14T07:42:24.183612Z",
          "iopub.status.idle": "2023-03-14T07:42:24.193352Z",
          "shell.execute_reply.started": "2023-03-14T07:42:24.183581Z",
          "shell.execute_reply": "2023-03-14T07:42:24.192031Z"
        },
        "trusted": true,
        "id": "iSdO6ikNso8r"
      },
      "execution_count": 13,
      "outputs": []
    },
    {
      "cell_type": "code",
      "source": [
        "df_train.category.value_counts()"
      ],
      "metadata": {
        "papermill": {
          "duration": 0.021782,
          "end_time": "2022-10-21T18:40:10.132703",
          "exception": false,
          "start_time": "2022-10-21T18:40:10.110921",
          "status": "completed"
        },
        "tags": [],
        "execution": {
          "iopub.status.busy": "2023-03-14T07:42:24.194978Z",
          "iopub.execute_input": "2023-03-14T07:42:24.195560Z",
          "iopub.status.idle": "2023-03-14T07:42:24.208973Z",
          "shell.execute_reply.started": "2023-03-14T07:42:24.195492Z",
          "shell.execute_reply": "2023-03-14T07:42:24.207670Z"
        },
        "trusted": true,
        "id": "qP9WSpcxso8r",
        "outputId": "ec3711d2-8899-4fd1-ecec-490d47799751",
        "colab": {
          "base_uri": "https://localhost:8080/"
        }
      },
      "execution_count": 14,
      "outputs": [
        {
          "output_type": "execute_result",
          "data": {
            "text/plain": [
              "sadness     827\n",
              "joy         818\n",
              "fear        802\n",
              "anger       801\n",
              "surprise    791\n",
              "disgust     780\n",
              "Name: category, dtype: int64"
            ]
          },
          "metadata": {},
          "execution_count": 14
        }
      ]
    },
    {
      "cell_type": "markdown",
      "source": [
        "### Functions for preprocessing text"
      ],
      "metadata": {
        "papermill": {
          "duration": 0.010479,
          "end_time": "2022-10-21T18:40:10.15375",
          "exception": false,
          "start_time": "2022-10-21T18:40:10.143271",
          "status": "completed"
        },
        "tags": [],
        "id": "KkKhr1tGso8r"
      }
    },
    {
      "cell_type": "code",
      "source": [
        "def remove_pattern(text):\n",
        "    emoji_pattern = re.compile(\"[\"\n",
        "                           u\"\\U0001F600-\\U0001F64F\"  # emoticons\n",
        "                           u\"\\U0001F300-\\U0001F5FF\"  # symbols & pictographs\n",
        "                           u\"\\U0001F680-\\U0001F6FF\"  # transport & map symbols\n",
        "                           u\"\\U0001F1E0-\\U0001F1FF\"  # flags (iOS)\n",
        "                           u\"\\U00002702-\\U000027B0\"\n",
        "                           u\"\\U000024C2-\\U0001F251\"\n",
        "                           u\"\\u00C0-\\u017F\"          #latin\n",
        "                           u\"\\u2000-\\u206F\"          #generalPunctuations\n",
        "\n",
        "                           \"]+\", flags=re.UNICODE)\n",
        "    english_pattern=re.compile('[a-zA-Z0-9]+', flags=re.I)\n",
        "\n",
        "    text=emoji_pattern.sub(r'', text)\n",
        "    text=english_pattern.sub(r'', text)\n",
        "\n",
        "    return text\n",
        "\n",
        "\n",
        "punc = '''```\u0012\u0010\u0002\b`\u0007\b£|¢|\u0007Ñ+-*/=EROero৳০১২৩৪৫৬৭৮৯012–34567•89।!()-[]{};:'\"“\\’,<>./?@#$%^&*_~‘—॥”‰✌�￰৷￰'''\n",
        "def remove_punc(text):\n",
        "    cleaned = \"\"\n",
        "    for char in text:\n",
        "        if char not in punc:\n",
        "            cleaned += char\n",
        "    return cleaned"
      ],
      "metadata": {
        "papermill": {
          "duration": 0.022583,
          "end_time": "2022-10-21T18:40:10.187065",
          "exception": false,
          "start_time": "2022-10-21T18:40:10.164482",
          "status": "completed"
        },
        "tags": [],
        "execution": {
          "iopub.status.busy": "2023-03-14T07:42:24.211326Z",
          "iopub.execute_input": "2023-03-14T07:42:24.211663Z",
          "iopub.status.idle": "2023-03-14T07:42:24.219140Z",
          "shell.execute_reply.started": "2023-03-14T07:42:24.211632Z",
          "shell.execute_reply": "2023-03-14T07:42:24.218139Z"
        },
        "trusted": true,
        "id": "j4vEBJjvso8r"
      },
      "execution_count": 15,
      "outputs": []
    },
    {
      "cell_type": "code",
      "source": [
        "def preprocess(text):\n",
        "    cleaned = remove_punc(remove_pattern(text))\n",
        "    return cleaned"
      ],
      "metadata": {
        "papermill": {
          "duration": 0.018511,
          "end_time": "2022-10-21T18:40:10.273704",
          "exception": false,
          "start_time": "2022-10-21T18:40:10.255193",
          "status": "completed"
        },
        "tags": [],
        "execution": {
          "iopub.status.busy": "2023-03-14T07:42:24.222890Z",
          "iopub.execute_input": "2023-03-14T07:42:24.223281Z",
          "iopub.status.idle": "2023-03-14T07:42:24.232698Z",
          "shell.execute_reply.started": "2023-03-14T07:42:24.223247Z",
          "shell.execute_reply": "2023-03-14T07:42:24.231337Z"
        },
        "trusted": true,
        "id": "XPeCrSDGso8r"
      },
      "execution_count": 16,
      "outputs": []
    },
    {
      "cell_type": "code",
      "source": [
        "df_train['cleaned'] = df_train['headlines'].apply(preprocess)"
      ],
      "metadata": {
        "papermill": {
          "duration": 0.612883,
          "end_time": "2022-10-21T18:40:10.897175",
          "exception": false,
          "start_time": "2022-10-21T18:40:10.284292",
          "status": "completed"
        },
        "tags": [],
        "execution": {
          "iopub.status.busy": "2023-03-14T07:42:24.240423Z",
          "iopub.execute_input": "2023-03-14T07:42:24.240802Z",
          "iopub.status.idle": "2023-03-14T07:42:24.333761Z",
          "shell.execute_reply.started": "2023-03-14T07:42:24.240767Z",
          "shell.execute_reply": "2023-03-14T07:42:24.332391Z"
        },
        "trusted": true,
        "id": "E-P4rKdqso8s"
      },
      "execution_count": 17,
      "outputs": []
    },
    {
      "cell_type": "code",
      "source": [
        "df_train.head()"
      ],
      "metadata": {
        "papermill": {
          "duration": 0.02777,
          "end_time": "2022-10-21T18:40:10.937071",
          "exception": false,
          "start_time": "2022-10-21T18:40:10.909301",
          "status": "completed"
        },
        "tags": [],
        "execution": {
          "iopub.status.busy": "2023-03-14T07:42:24.335375Z",
          "iopub.execute_input": "2023-03-14T07:42:24.335754Z",
          "iopub.status.idle": "2023-03-14T07:42:24.349416Z",
          "shell.execute_reply.started": "2023-03-14T07:42:24.335719Z",
          "shell.execute_reply": "2023-03-14T07:42:24.347994Z"
        },
        "trusted": true,
        "id": "sn5a3CPvso8s",
        "outputId": "c3f3e91c-13aa-44ad-9d35-906d2d7b6387",
        "colab": {
          "base_uri": "https://localhost:8080/",
          "height": 206
        }
      },
      "execution_count": 18,
      "outputs": [
        {
          "output_type": "execute_result",
          "data": {
            "text/plain": [
              "                                           headlines category  \\\n",
              "0  অই জায়গার ডাক্তাররা কি গু খায় কে পাগল কে সুস্থ...  disgust   \n",
              "1       অনেকদিন হলো তাকে দেখিনা মাঝে মাঝে কান্না আসে  sadness   \n",
              "2             অগণতান্ত্রিক একটি জঘন্য দেশে আমার বাস   disgust   \n",
              "3  অটো রিস্কা বন্ধ করতে হবে তা না হলে আরো সংকট বে...     fear   \n",
              "4       অটোরিকশা বন্ধ না করলে আরও সংকট হবে মনে হচ্ছে     fear   \n",
              "\n",
              "                                             cleaned  \n",
              "0  অই জায়গার ডাক্তাররা কি গু খায় কে পাগল কে সুস্থ...  \n",
              "1       অনেকদিন হলো তাকে দেখিনা মাঝে মাঝে কান্না আসে  \n",
              "2             অগণতান্ত্রিক একটি জঘন্য দেশে আমার বাস   \n",
              "3  অটো রিস্কা বন্ধ করতে হবে তা না হলে আরো সংকট বে...  \n",
              "4       অটোরিকশা বন্ধ না করলে আরও সংকট হবে মনে হচ্ছে  "
            ],
            "text/html": [
              "\n",
              "  <div id=\"df-91516913-78f9-4578-82b4-0856efbeed66\" class=\"colab-df-container\">\n",
              "    <div>\n",
              "<style scoped>\n",
              "    .dataframe tbody tr th:only-of-type {\n",
              "        vertical-align: middle;\n",
              "    }\n",
              "\n",
              "    .dataframe tbody tr th {\n",
              "        vertical-align: top;\n",
              "    }\n",
              "\n",
              "    .dataframe thead th {\n",
              "        text-align: right;\n",
              "    }\n",
              "</style>\n",
              "<table border=\"1\" class=\"dataframe\">\n",
              "  <thead>\n",
              "    <tr style=\"text-align: right;\">\n",
              "      <th></th>\n",
              "      <th>headlines</th>\n",
              "      <th>category</th>\n",
              "      <th>cleaned</th>\n",
              "    </tr>\n",
              "  </thead>\n",
              "  <tbody>\n",
              "    <tr>\n",
              "      <th>0</th>\n",
              "      <td>অই জায়গার ডাক্তাররা কি গু খায় কে পাগল কে সুস্থ...</td>\n",
              "      <td>disgust</td>\n",
              "      <td>অই জায়গার ডাক্তাররা কি গু খায় কে পাগল কে সুস্থ...</td>\n",
              "    </tr>\n",
              "    <tr>\n",
              "      <th>1</th>\n",
              "      <td>অনেকদিন হলো তাকে দেখিনা মাঝে মাঝে কান্না আসে</td>\n",
              "      <td>sadness</td>\n",
              "      <td>অনেকদিন হলো তাকে দেখিনা মাঝে মাঝে কান্না আসে</td>\n",
              "    </tr>\n",
              "    <tr>\n",
              "      <th>2</th>\n",
              "      <td>অগণতান্ত্রিক একটি জঘন্য দেশে আমার বাস</td>\n",
              "      <td>disgust</td>\n",
              "      <td>অগণতান্ত্রিক একটি জঘন্য দেশে আমার বাস</td>\n",
              "    </tr>\n",
              "    <tr>\n",
              "      <th>3</th>\n",
              "      <td>অটো রিস্কা বন্ধ করতে হবে তা না হলে আরো সংকট বে...</td>\n",
              "      <td>fear</td>\n",
              "      <td>অটো রিস্কা বন্ধ করতে হবে তা না হলে আরো সংকট বে...</td>\n",
              "    </tr>\n",
              "    <tr>\n",
              "      <th>4</th>\n",
              "      <td>অটোরিকশা বন্ধ না করলে আরও সংকট হবে মনে হচ্ছে</td>\n",
              "      <td>fear</td>\n",
              "      <td>অটোরিকশা বন্ধ না করলে আরও সংকট হবে মনে হচ্ছে</td>\n",
              "    </tr>\n",
              "  </tbody>\n",
              "</table>\n",
              "</div>\n",
              "    <div class=\"colab-df-buttons\">\n",
              "\n",
              "  <div class=\"colab-df-container\">\n",
              "    <button class=\"colab-df-convert\" onclick=\"convertToInteractive('df-91516913-78f9-4578-82b4-0856efbeed66')\"\n",
              "            title=\"Convert this dataframe to an interactive table.\"\n",
              "            style=\"display:none;\">\n",
              "\n",
              "  <svg xmlns=\"http://www.w3.org/2000/svg\" height=\"24px\" viewBox=\"0 -960 960 960\">\n",
              "    <path d=\"M120-120v-720h720v720H120Zm60-500h600v-160H180v160Zm220 220h160v-160H400v160Zm0 220h160v-160H400v160ZM180-400h160v-160H180v160Zm440 0h160v-160H620v160ZM180-180h160v-160H180v160Zm440 0h160v-160H620v160Z\"/>\n",
              "  </svg>\n",
              "    </button>\n",
              "\n",
              "  <style>\n",
              "    .colab-df-container {\n",
              "      display:flex;\n",
              "      gap: 12px;\n",
              "    }\n",
              "\n",
              "    .colab-df-convert {\n",
              "      background-color: #E8F0FE;\n",
              "      border: none;\n",
              "      border-radius: 50%;\n",
              "      cursor: pointer;\n",
              "      display: none;\n",
              "      fill: #1967D2;\n",
              "      height: 32px;\n",
              "      padding: 0 0 0 0;\n",
              "      width: 32px;\n",
              "    }\n",
              "\n",
              "    .colab-df-convert:hover {\n",
              "      background-color: #E2EBFA;\n",
              "      box-shadow: 0px 1px 2px rgba(60, 64, 67, 0.3), 0px 1px 3px 1px rgba(60, 64, 67, 0.15);\n",
              "      fill: #174EA6;\n",
              "    }\n",
              "\n",
              "    .colab-df-buttons div {\n",
              "      margin-bottom: 4px;\n",
              "    }\n",
              "\n",
              "    [theme=dark] .colab-df-convert {\n",
              "      background-color: #3B4455;\n",
              "      fill: #D2E3FC;\n",
              "    }\n",
              "\n",
              "    [theme=dark] .colab-df-convert:hover {\n",
              "      background-color: #434B5C;\n",
              "      box-shadow: 0px 1px 3px 1px rgba(0, 0, 0, 0.15);\n",
              "      filter: drop-shadow(0px 1px 2px rgba(0, 0, 0, 0.3));\n",
              "      fill: #FFFFFF;\n",
              "    }\n",
              "  </style>\n",
              "\n",
              "    <script>\n",
              "      const buttonEl =\n",
              "        document.querySelector('#df-91516913-78f9-4578-82b4-0856efbeed66 button.colab-df-convert');\n",
              "      buttonEl.style.display =\n",
              "        google.colab.kernel.accessAllowed ? 'block' : 'none';\n",
              "\n",
              "      async function convertToInteractive(key) {\n",
              "        const element = document.querySelector('#df-91516913-78f9-4578-82b4-0856efbeed66');\n",
              "        const dataTable =\n",
              "          await google.colab.kernel.invokeFunction('convertToInteractive',\n",
              "                                                    [key], {});\n",
              "        if (!dataTable) return;\n",
              "\n",
              "        const docLinkHtml = 'Like what you see? Visit the ' +\n",
              "          '<a target=\"_blank\" href=https://colab.research.google.com/notebooks/data_table.ipynb>data table notebook</a>'\n",
              "          + ' to learn more about interactive tables.';\n",
              "        element.innerHTML = '';\n",
              "        dataTable['output_type'] = 'display_data';\n",
              "        await google.colab.output.renderOutput(dataTable, element);\n",
              "        const docLink = document.createElement('div');\n",
              "        docLink.innerHTML = docLinkHtml;\n",
              "        element.appendChild(docLink);\n",
              "      }\n",
              "    </script>\n",
              "  </div>\n",
              "\n",
              "\n",
              "<div id=\"df-3a990de6-944a-431a-bef9-b20c506ac6b2\">\n",
              "  <button class=\"colab-df-quickchart\" onclick=\"quickchart('df-3a990de6-944a-431a-bef9-b20c506ac6b2')\"\n",
              "            title=\"Suggest charts.\"\n",
              "            style=\"display:none;\">\n",
              "\n",
              "<svg xmlns=\"http://www.w3.org/2000/svg\" height=\"24px\"viewBox=\"0 0 24 24\"\n",
              "     width=\"24px\">\n",
              "    <g>\n",
              "        <path d=\"M19 3H5c-1.1 0-2 .9-2 2v14c0 1.1.9 2 2 2h14c1.1 0 2-.9 2-2V5c0-1.1-.9-2-2-2zM9 17H7v-7h2v7zm4 0h-2V7h2v10zm4 0h-2v-4h2v4z\"/>\n",
              "    </g>\n",
              "</svg>\n",
              "  </button>\n",
              "\n",
              "<style>\n",
              "  .colab-df-quickchart {\n",
              "      --bg-color: #E8F0FE;\n",
              "      --fill-color: #1967D2;\n",
              "      --hover-bg-color: #E2EBFA;\n",
              "      --hover-fill-color: #174EA6;\n",
              "      --disabled-fill-color: #AAA;\n",
              "      --disabled-bg-color: #DDD;\n",
              "  }\n",
              "\n",
              "  [theme=dark] .colab-df-quickchart {\n",
              "      --bg-color: #3B4455;\n",
              "      --fill-color: #D2E3FC;\n",
              "      --hover-bg-color: #434B5C;\n",
              "      --hover-fill-color: #FFFFFF;\n",
              "      --disabled-bg-color: #3B4455;\n",
              "      --disabled-fill-color: #666;\n",
              "  }\n",
              "\n",
              "  .colab-df-quickchart {\n",
              "    background-color: var(--bg-color);\n",
              "    border: none;\n",
              "    border-radius: 50%;\n",
              "    cursor: pointer;\n",
              "    display: none;\n",
              "    fill: var(--fill-color);\n",
              "    height: 32px;\n",
              "    padding: 0;\n",
              "    width: 32px;\n",
              "  }\n",
              "\n",
              "  .colab-df-quickchart:hover {\n",
              "    background-color: var(--hover-bg-color);\n",
              "    box-shadow: 0 1px 2px rgba(60, 64, 67, 0.3), 0 1px 3px 1px rgba(60, 64, 67, 0.15);\n",
              "    fill: var(--button-hover-fill-color);\n",
              "  }\n",
              "\n",
              "  .colab-df-quickchart-complete:disabled,\n",
              "  .colab-df-quickchart-complete:disabled:hover {\n",
              "    background-color: var(--disabled-bg-color);\n",
              "    fill: var(--disabled-fill-color);\n",
              "    box-shadow: none;\n",
              "  }\n",
              "\n",
              "  .colab-df-spinner {\n",
              "    border: 2px solid var(--fill-color);\n",
              "    border-color: transparent;\n",
              "    border-bottom-color: var(--fill-color);\n",
              "    animation:\n",
              "      spin 1s steps(1) infinite;\n",
              "  }\n",
              "\n",
              "  @keyframes spin {\n",
              "    0% {\n",
              "      border-color: transparent;\n",
              "      border-bottom-color: var(--fill-color);\n",
              "      border-left-color: var(--fill-color);\n",
              "    }\n",
              "    20% {\n",
              "      border-color: transparent;\n",
              "      border-left-color: var(--fill-color);\n",
              "      border-top-color: var(--fill-color);\n",
              "    }\n",
              "    30% {\n",
              "      border-color: transparent;\n",
              "      border-left-color: var(--fill-color);\n",
              "      border-top-color: var(--fill-color);\n",
              "      border-right-color: var(--fill-color);\n",
              "    }\n",
              "    40% {\n",
              "      border-color: transparent;\n",
              "      border-right-color: var(--fill-color);\n",
              "      border-top-color: var(--fill-color);\n",
              "    }\n",
              "    60% {\n",
              "      border-color: transparent;\n",
              "      border-right-color: var(--fill-color);\n",
              "    }\n",
              "    80% {\n",
              "      border-color: transparent;\n",
              "      border-right-color: var(--fill-color);\n",
              "      border-bottom-color: var(--fill-color);\n",
              "    }\n",
              "    90% {\n",
              "      border-color: transparent;\n",
              "      border-bottom-color: var(--fill-color);\n",
              "    }\n",
              "  }\n",
              "</style>\n",
              "\n",
              "  <script>\n",
              "    async function quickchart(key) {\n",
              "      const quickchartButtonEl =\n",
              "        document.querySelector('#' + key + ' button');\n",
              "      quickchartButtonEl.disabled = true;  // To prevent multiple clicks.\n",
              "      quickchartButtonEl.classList.add('colab-df-spinner');\n",
              "      try {\n",
              "        const charts = await google.colab.kernel.invokeFunction(\n",
              "            'suggestCharts', [key], {});\n",
              "      } catch (error) {\n",
              "        console.error('Error during call to suggestCharts:', error);\n",
              "      }\n",
              "      quickchartButtonEl.classList.remove('colab-df-spinner');\n",
              "      quickchartButtonEl.classList.add('colab-df-quickchart-complete');\n",
              "    }\n",
              "    (() => {\n",
              "      let quickchartButtonEl =\n",
              "        document.querySelector('#df-3a990de6-944a-431a-bef9-b20c506ac6b2 button');\n",
              "      quickchartButtonEl.style.display =\n",
              "        google.colab.kernel.accessAllowed ? 'block' : 'none';\n",
              "    })();\n",
              "  </script>\n",
              "</div>\n",
              "    </div>\n",
              "  </div>\n"
            ]
          },
          "metadata": {},
          "execution_count": 18
        }
      ]
    },
    {
      "cell_type": "markdown",
      "source": [
        "### Removing low length data"
      ],
      "metadata": {
        "papermill": {
          "duration": 0.010901,
          "end_time": "2022-10-21T18:40:10.959617",
          "exception": false,
          "start_time": "2022-10-21T18:40:10.948716",
          "status": "completed"
        },
        "tags": [],
        "id": "h0JwN_ESso8s"
      }
    },
    {
      "cell_type": "code",
      "source": [
        "df_train['length'] = df_train['cleaned'].str.split().str.len()\n",
        "df_train = df_train.loc[df_train['length']>=2]"
      ],
      "metadata": {
        "papermill": {
          "duration": 0.113829,
          "end_time": "2022-10-21T18:40:11.084416",
          "exception": false,
          "start_time": "2022-10-21T18:40:10.970587",
          "status": "completed"
        },
        "tags": [],
        "execution": {
          "iopub.status.busy": "2023-03-14T07:42:24.351461Z",
          "iopub.execute_input": "2023-03-14T07:42:24.351796Z",
          "iopub.status.idle": "2023-03-14T07:42:24.375369Z",
          "shell.execute_reply.started": "2023-03-14T07:42:24.351764Z",
          "shell.execute_reply": "2023-03-14T07:42:24.374114Z"
        },
        "trusted": true,
        "id": "0WkQDX3Vso8s"
      },
      "execution_count": 19,
      "outputs": []
    },
    {
      "cell_type": "code",
      "source": [
        "# df_train=[\"\"]"
      ],
      "metadata": {
        "execution": {
          "iopub.status.busy": "2023-03-14T07:42:24.377180Z",
          "iopub.execute_input": "2023-03-14T07:42:24.377599Z",
          "iopub.status.idle": "2023-03-14T07:42:24.383224Z",
          "shell.execute_reply.started": "2023-03-14T07:42:24.377562Z",
          "shell.execute_reply": "2023-03-14T07:42:24.381916Z"
        },
        "trusted": true,
        "id": "EAY6H2W3so8s"
      },
      "execution_count": 20,
      "outputs": []
    },
    {
      "cell_type": "markdown",
      "source": [
        "### Train Dataset summary"
      ],
      "metadata": {
        "papermill": {
          "duration": 0.010586,
          "end_time": "2022-10-21T18:40:11.106182",
          "exception": false,
          "start_time": "2022-10-21T18:40:11.095596",
          "status": "completed"
        },
        "tags": [],
        "id": "B2aHz58rso8s"
      }
    },
    {
      "cell_type": "code",
      "source": [
        "def show_summary(dataset):\n",
        "\n",
        "    documents = []\n",
        "    words = []\n",
        "    u_words = []\n",
        "    total_u_words = [word.strip().lower() for t in list(dataset.cleaned) for word in t.strip().split()]\n",
        "    class_label= [k for k,v in dataset.category.value_counts().to_dict().items()]\n",
        "  # find word list\n",
        "    for label in class_label:\n",
        "        word_list = [word.strip().lower() for t in list(dataset[dataset.category==label].cleaned) for word in t.strip().split()]\n",
        "        counts = dict()\n",
        "        for word in word_list:\n",
        "                counts[word] = counts.get(word, 0)+1\n",
        "        # sort the dictionary of word list\n",
        "        ordered = sorted(counts.items(), key= lambda item: item[1],reverse = True)\n",
        "        # Documents per class\n",
        "        documents.append(len(list(dataset[dataset.category ==label].cleaned)))\n",
        "        # Total Word per class\n",
        "        words.append(len(word_list))\n",
        "        # Unique words per class\n",
        "        u_words.append(len(np.unique(word_list)))\n",
        "\n",
        "        print(\"\\nClass Name : \",label)\n",
        "        print(\"Number of Headlines:{}\".format(len(list(dataset[dataset.category==label].cleaned))))\n",
        "        print(\"Number of Words:{}\".format(len(word_list)))\n",
        "        print(\"Number of Unique Words:{}\".format(len(np.unique(word_list))))\n",
        "        print(\"Most Frequent Words:\\n\")\n",
        "        for k,v in ordered[:10]:\n",
        "              print(\"{}\\t{}\".format(k,v))\n",
        "    print(\"Total Number of Unique Words:{}\".format(len(np.unique(total_u_words))))\n",
        "\n",
        "    return documents,words,u_words,class_label\n",
        "\n",
        "documents,words,u_words,class_names = show_summary(df_train)"
      ],
      "metadata": {
        "papermill": {
          "duration": 0.964709,
          "end_time": "2022-10-21T18:40:12.081608",
          "exception": false,
          "start_time": "2022-10-21T18:40:11.116899",
          "status": "completed"
        },
        "tags": [],
        "execution": {
          "iopub.status.busy": "2023-03-14T07:42:24.385255Z",
          "iopub.execute_input": "2023-03-14T07:42:24.385761Z",
          "iopub.status.idle": "2023-03-14T07:42:24.570210Z",
          "shell.execute_reply.started": "2023-03-14T07:42:24.385716Z",
          "shell.execute_reply": "2023-03-14T07:42:24.568840Z"
        },
        "trusted": true,
        "id": "1VnXdU8Qso8t",
        "outputId": "77d256bf-16fa-4e0e-9dc1-bd882dcc1f5c",
        "colab": {
          "base_uri": "https://localhost:8080/"
        }
      },
      "execution_count": 21,
      "outputs": [
        {
          "output_type": "stream",
          "name": "stdout",
          "text": [
            "\n",
            "Class Name :  sadness\n",
            "Number of Headlines:827\n",
            "Number of Words:7619\n",
            "Number of Unique Words:2256\n",
            "Most Frequent Words:\n",
            "\n",
            "কষ্ট\t171\n",
            "না\t145\n",
            "তার\t142\n",
            "আমার\t122\n",
            "আমি\t111\n",
            "সে\t79\n",
            "আমাকে\t77\n",
            "করে\t74\n",
            "দুঃখের\t70\n",
            "খারাপ\t65\n",
            "\n",
            "Class Name :  joy\n",
            "Number of Headlines:818\n",
            "Number of Words:6875\n",
            "Number of Unique Words:1976\n",
            "Most Frequent Words:\n",
            "\n",
            "ধন্যবাদ\t208\n",
            "জন্য\t119\n",
            "আপনার\t111\n",
            "অনেক\t99\n",
            "ভাই\t92\n",
            "ভাল\t84\n",
            "আপনাদের\t84\n",
            "পুলিশ\t83\n",
            "এই\t78\n",
            "ভালো\t71\n",
            "\n",
            "Class Name :  fear\n",
            "Number of Headlines:802\n",
            "Number of Words:6101\n",
            "Number of Unique Words:1354\n",
            "Most Frequent Words:\n",
            "\n",
            "ভয়\t530\n",
            "না\t163\n",
            "সে\t150\n",
            "তার\t139\n",
            "আমি\t116\n",
            "হয়\t109\n",
            "তাকে\t109\n",
            "তাই\t105\n",
            "আমার\t94\n",
            "হচ্ছে\t92\n",
            "\n",
            "Class Name :  anger\n",
            "Number of Headlines:801\n",
            "Number of Words:8132\n",
            "Number of Unique Words:2573\n",
            "Most Frequent Words:\n",
            "\n",
            "রাগ\t202\n",
            "না\t187\n",
            "আমার\t133\n",
            "তার\t124\n",
            "সে\t111\n",
            "করে\t110\n",
            "এই\t108\n",
            "আমি\t97\n",
            "তাই\t72\n",
            "আর\t68\n",
            "\n",
            "Class Name :  surprise\n",
            "Number of Headlines:791\n",
            "Number of Words:7696\n",
            "Number of Unique Words:1938\n",
            "Most Frequent Words:\n",
            "\n",
            "আমি\t327\n",
            "এই\t185\n",
            "আশ্চর্য\t184\n",
            "না\t135\n",
            "বিস্মিত\t119\n",
            "কি\t109\n",
            "একটি\t108\n",
            "এটা\t91\n",
            "এটি\t82\n",
            "সত্যিই\t81\n",
            "\n",
            "Class Name :  disgust\n",
            "Number of Headlines:780\n",
            "Number of Words:7779\n",
            "Number of Unique Words:2719\n",
            "Most Frequent Words:\n",
            "\n",
            "বিরক্ত\t131\n",
            "ছিঃ\t122\n",
            "না\t114\n",
            "এই\t109\n",
            "করে\t79\n",
            "কি\t74\n",
            "বিরক্তিকর\t72\n",
            "আমি\t70\n",
            "আর\t70\n",
            "সরকারের\t63\n",
            "Total Number of Unique Words:7737\n"
          ]
        }
      ]
    },
    {
      "cell_type": "code",
      "source": [
        "data_matrix = pd.DataFrame({'Total Comments':documents,\n",
        "                            'Total Words':words,\n",
        "                            'Unique Words':u_words,\n",
        "                            'Class Names':class_names})\n",
        "df = pd.melt(data_matrix, id_vars=\"Class Names\", var_name=\"Category\", value_name=\"Values\")\n",
        "plt.figure(figsize=(8, 6))\n",
        "ax = plt.subplot()\n",
        "\n",
        "sns.barplot(data=df,x='Class Names', y='Values' ,hue='Category')\n",
        "ax.set_xlabel('Class Names')\n",
        "ax.set_title('Data Statistics')\n",
        "\n",
        "ax.xaxis.set_ticklabels(class_names);"
      ],
      "metadata": {
        "papermill": {
          "duration": 0.276963,
          "end_time": "2022-10-21T18:40:12.370101",
          "exception": false,
          "start_time": "2022-10-21T18:40:12.093138",
          "status": "completed"
        },
        "tags": [],
        "execution": {
          "iopub.status.busy": "2023-03-14T07:42:24.572002Z",
          "iopub.execute_input": "2023-03-14T07:42:24.572573Z",
          "iopub.status.idle": "2023-03-14T07:42:24.957622Z",
          "shell.execute_reply.started": "2023-03-14T07:42:24.572537Z",
          "shell.execute_reply": "2023-03-14T07:42:24.956028Z"
        },
        "trusted": true,
        "id": "6MtUdHAFso8t",
        "outputId": "7a83193a-8e51-4332-c75f-6de570050203",
        "colab": {
          "base_uri": "https://localhost:8080/",
          "height": 564
        }
      },
      "execution_count": 22,
      "outputs": [
        {
          "output_type": "display_data",
          "data": {
            "text/plain": [
              "<Figure size 800x600 with 1 Axes>"
            ],
            "image/png": "[encoded data removed]"
          },
          "metadata": {}
        }
      ]
    },
    {
      "cell_type": "markdown",
      "source": [
        "### Frequency length distribution"
      ],
      "metadata": {
        "papermill": {
          "duration": 0.012545,
          "end_time": "2022-10-21T18:40:12.393873",
          "exception": false,
          "start_time": "2022-10-21T18:40:12.381328",
          "status": "completed"
        },
        "tags": [],
        "id": "lk43vGlSso8t"
      }
    },
    {
      "cell_type": "code",
      "source": [
        "frequency = dict()\n",
        "for i in df_train.length:\n",
        "    frequency[i] = frequency.get(i, 0)+1\n",
        "\n",
        "plt.bar(frequency.keys(), frequency.values())\n",
        "plt.xlim(1, 20)\n",
        "\n",
        "plt.xlabel('Length of the headlines')\n",
        "plt.ylabel('Frequency')\n",
        "plt.title('Length-Frequency Distribution')\n",
        "plt.show()\n",
        "print(f\"Maximum Length of a headlines: {max(df_train.length)}\")\n",
        "print(f\"Minimum Length of a headlines: {min(df_train.length)}\")\n",
        "print(f\"Average Length of a headlines: {round(np.mean(df_train.length),0)}\")\n"
      ],
      "metadata": {
        "papermill": {
          "duration": 0.331878,
          "end_time": "2022-10-21T18:40:12.736759",
          "exception": false,
          "start_time": "2022-10-21T18:40:12.404881",
          "status": "completed"
        },
        "tags": [],
        "execution": {
          "iopub.status.busy": "2023-03-14T07:42:24.959343Z",
          "iopub.execute_input": "2023-03-14T07:42:24.959838Z",
          "iopub.status.idle": "2023-03-14T07:42:25.223789Z",
          "shell.execute_reply.started": "2023-03-14T07:42:24.959787Z",
          "shell.execute_reply": "2023-03-14T07:42:25.222866Z"
        },
        "trusted": true,
        "id": "gj-W02piso8t",
        "outputId": "462fb871-95fa-4ae7-9e63-80cf38539748",
        "colab": {
          "base_uri": "https://localhost:8080/",
          "height": 526
        }
      },
      "execution_count": 23,
      "outputs": [
        {
          "output_type": "display_data",
          "data": {
            "text/plain": [
              "<Figure size 640x480 with 1 Axes>"
            ],
            "image/png": "[encoded data removed]"
          },
          "metadata": {}
        },
        {
          "output_type": "stream",
          "name": "stdout",
          "text": [
            "Maximum Length of a headlines: 21\n",
            "Minimum Length of a headlines: 3\n",
            "Average Length of a headlines: 9.0\n"
          ]
        }
      ]
    },
    {
      "cell_type": "markdown",
      "source": [
        "### Tokenizing text"
      ],
      "metadata": {
        "papermill": {
          "duration": 0.01633,
          "end_time": "2022-10-21T18:40:12.772205",
          "exception": false,
          "start_time": "2022-10-21T18:40:12.755875",
          "status": "completed"
        },
        "tags": [],
        "id": "ZZZYdhxXso8u"
      }
    },
    {
      "cell_type": "code",
      "source": [
        "max_words = 50000\n",
        "tokenizer = Tokenizer(num_words = max_words, filters='!\"#$%&()*+,-./:;<=>?@[\\\\]^_`{|}~\\t\\n-',\n",
        "                      split=' ', char_level=False, oov_token='<oov>', document_count=0)\n",
        "tokenizer.fit_on_texts(df_train['cleaned'])\n",
        "\n",
        "word_counts = tokenizer.word_counts\n",
        "word_docs = tokenizer.word_docs\n",
        "word_index = tokenizer.word_index\n",
        "document_count = tokenizer.document_count\n",
        "\n",
        "print(len(word_counts))"
      ],
      "metadata": {
        "papermill": {
          "duration": 1.253881,
          "end_time": "2022-10-21T18:40:14.042627",
          "exception": false,
          "start_time": "2022-10-21T18:40:12.788746",
          "status": "completed"
        },
        "tags": [],
        "execution": {
          "iopub.status.busy": "2023-03-14T07:42:25.225117Z",
          "iopub.execute_input": "2023-03-14T07:42:25.225665Z",
          "iopub.status.idle": "2023-03-14T07:42:25.351130Z",
          "shell.execute_reply.started": "2023-03-14T07:42:25.225628Z",
          "shell.execute_reply": "2023-03-14T07:42:25.349966Z"
        },
        "trusted": true,
        "id": "kQ-NOjNKso8u",
        "outputId": "709a46c3-0759-4ed1-a9b4-1665b2fad432",
        "colab": {
          "base_uri": "https://localhost:8080/"
        }
      },
      "execution_count": 24,
      "outputs": [
        {
          "output_type": "stream",
          "name": "stdout",
          "text": [
            "7737\n"
          ]
        }
      ]
    },
    {
      "cell_type": "code",
      "source": [
        "with open('tokenizer_7th.pickle','wb') as f:\n",
        "    pickle.dump(tokenizer,f,protocol=pickle.HIGHEST_PROTOCOL)"
      ],
      "metadata": {
        "papermill": {
          "duration": 0.060859,
          "end_time": "2022-10-21T18:40:14.11521",
          "exception": false,
          "start_time": "2022-10-21T18:40:14.054351",
          "status": "completed"
        },
        "tags": [],
        "execution": {
          "iopub.status.busy": "2023-03-14T07:42:25.352698Z",
          "iopub.execute_input": "2023-03-14T07:42:25.353107Z",
          "iopub.status.idle": "2023-03-14T07:42:25.367881Z",
          "shell.execute_reply.started": "2023-03-14T07:42:25.353068Z",
          "shell.execute_reply": "2023-03-14T07:42:25.366229Z"
        },
        "trusted": true,
        "id": "RuPxXB0bso8u"
      },
      "execution_count": 25,
      "outputs": []
    },
    {
      "cell_type": "code",
      "source": [
        "X_tr,X_tt,y_tr,y_tt=train_test_split(df_train[[\"cleaned\"]],df_train[[\"category\"]],test_size=0.1,shuffle=True,stratify=df_train[\"category\"],random_state=0)"
      ],
      "metadata": {
        "execution": {
          "iopub.status.busy": "2023-03-14T07:42:25.369467Z",
          "iopub.execute_input": "2023-03-14T07:42:25.370343Z",
          "iopub.status.idle": "2023-03-14T07:42:25.383444Z",
          "shell.execute_reply.started": "2023-03-14T07:42:25.370292Z",
          "shell.execute_reply": "2023-03-14T07:42:25.382471Z"
        },
        "trusted": true,
        "id": "pD3vIPrEso8u"
      },
      "execution_count": 26,
      "outputs": []
    },
    {
      "cell_type": "code",
      "source": [
        "# X_train"
      ],
      "metadata": {
        "execution": {
          "iopub.status.busy": "2023-03-14T07:42:25.384838Z",
          "iopub.execute_input": "2023-03-14T07:42:25.385610Z",
          "iopub.status.idle": "2023-03-14T07:42:25.391074Z",
          "shell.execute_reply.started": "2023-03-14T07:42:25.385561Z",
          "shell.execute_reply": "2023-03-14T07:42:25.389595Z"
        },
        "trusted": true,
        "id": "kKlmMtwoso8u"
      },
      "execution_count": 27,
      "outputs": []
    },
    {
      "cell_type": "code",
      "source": [
        "# df_train[\"cleaned\"]"
      ],
      "metadata": {
        "execution": {
          "iopub.status.busy": "2023-03-14T07:42:25.392586Z",
          "iopub.execute_input": "2023-03-14T07:42:25.393209Z",
          "iopub.status.idle": "2023-03-14T07:42:25.403282Z",
          "shell.execute_reply.started": "2023-03-14T07:42:25.393144Z",
          "shell.execute_reply": "2023-03-14T07:42:25.402004Z"
        },
        "trusted": true,
        "id": "R4dtBiNvso8u"
      },
      "execution_count": 28,
      "outputs": []
    },
    {
      "cell_type": "code",
      "source": [
        "X_train_sequences = tokenizer.texts_to_sequences(X_tr.cleaned)\n",
        "X_train_word_index = tokenizer.word_index\n",
        "\n",
        "max_len = 100\n",
        "X_train_corpus = pad_sequences(X_train_sequences, value=0, padding='post', maxlen= max_len)"
      ],
      "metadata": {
        "papermill": {
          "duration": 1.195382,
          "end_time": "2022-10-21T18:40:15.322447",
          "exception": false,
          "start_time": "2022-10-21T18:40:14.127065",
          "status": "completed"
        },
        "tags": [],
        "execution": {
          "iopub.status.busy": "2023-03-14T07:42:25.405049Z",
          "iopub.execute_input": "2023-03-14T07:42:25.405852Z",
          "iopub.status.idle": "2023-03-14T07:42:25.515898Z",
          "shell.execute_reply.started": "2023-03-14T07:42:25.405800Z",
          "shell.execute_reply": "2023-03-14T07:42:25.514768Z"
        },
        "trusted": true,
        "id": "viAbE8FOso8u"
      },
      "execution_count": 29,
      "outputs": []
    },
    {
      "cell_type": "code",
      "source": [
        "X_test_sequences = tokenizer.texts_to_sequences(X_tt.cleaned)\n",
        "X_test_word_index = tokenizer.word_index\n",
        "\n",
        "max_len = 100\n",
        "X_test_corpus = pad_sequences(X_test_sequences, value=0, padding='post', maxlen= max_len)"
      ],
      "metadata": {
        "execution": {
          "iopub.status.busy": "2023-03-14T07:42:25.517298Z",
          "iopub.execute_input": "2023-03-14T07:42:25.517786Z",
          "iopub.status.idle": "2023-03-14T07:42:25.539908Z",
          "shell.execute_reply.started": "2023-03-14T07:42:25.517731Z",
          "shell.execute_reply": "2023-03-14T07:42:25.538459Z"
        },
        "trusted": true,
        "id": "HZE-x8Uqso8v"
      },
      "execution_count": 30,
      "outputs": []
    },
    {
      "cell_type": "code",
      "source": [
        "# for i in range(5):\n",
        "#     print(f'Headline: {df_train.cleaned[i]} \\n Sequence: {sequences[i]} \\n padded sequence: \\n {corpus[i]} \\n')\n"
      ],
      "metadata": {
        "papermill": {
          "duration": 0.024756,
          "end_time": "2022-10-21T18:40:15.35966",
          "exception": false,
          "start_time": "2022-10-21T18:40:15.334904",
          "status": "completed"
        },
        "tags": [],
        "execution": {
          "iopub.status.busy": "2023-03-14T07:42:25.541237Z",
          "iopub.execute_input": "2023-03-14T07:42:25.541847Z",
          "iopub.status.idle": "2023-03-14T07:42:25.551598Z",
          "shell.execute_reply.started": "2023-03-14T07:42:25.541807Z",
          "shell.execute_reply": "2023-03-14T07:42:25.550377Z"
        },
        "trusted": true,
        "id": "Q9C_6ETFso8v"
      },
      "execution_count": 31,
      "outputs": []
    },
    {
      "cell_type": "code",
      "source": [],
      "metadata": {
        "trusted": true,
        "id": "cYTI4Ov2so8v"
      },
      "execution_count": 31,
      "outputs": []
    },
    {
      "cell_type": "code",
      "source": [
        "y_train = y_tr['category']\n",
        "X_train = X_train_corpus\n",
        "\n",
        "y_test = y_tt['category']\n",
        "X_test = X_test_corpus"
      ],
      "metadata": {
        "papermill": {
          "duration": 0.019648,
          "end_time": "2022-10-21T18:40:15.391116",
          "exception": false,
          "start_time": "2022-10-21T18:40:15.371468",
          "status": "completed"
        },
        "tags": [],
        "execution": {
          "iopub.status.busy": "2023-03-14T07:42:25.553255Z",
          "iopub.execute_input": "2023-03-14T07:42:25.553624Z",
          "iopub.status.idle": "2023-03-14T07:42:25.564216Z",
          "shell.execute_reply.started": "2023-03-14T07:42:25.553576Z",
          "shell.execute_reply": "2023-03-14T07:42:25.563204Z"
        },
        "trusted": true,
        "id": "Nti9C7rhso8v"
      },
      "execution_count": 32,
      "outputs": []
    },
    {
      "cell_type": "code",
      "source": [
        "from sklearn.preprocessing import LabelEncoder\n",
        "from sklearn.preprocessing import OneHotEncoder"
      ],
      "metadata": {
        "execution": {
          "iopub.status.busy": "2023-03-14T07:42:25.565528Z",
          "iopub.execute_input": "2023-03-14T07:42:25.566118Z",
          "iopub.status.idle": "2023-03-14T07:42:25.579313Z",
          "shell.execute_reply.started": "2023-03-14T07:42:25.566082Z",
          "shell.execute_reply": "2023-03-14T07:42:25.578095Z"
        },
        "trusted": true,
        "id": "fWg2YwG7so81"
      },
      "execution_count": 33,
      "outputs": []
    },
    {
      "cell_type": "code",
      "source": [
        "# onehotencoder = OneHotEncoder()"
      ],
      "metadata": {
        "execution": {
          "iopub.status.busy": "2023-03-14T07:42:25.580904Z",
          "iopub.execute_input": "2023-03-14T07:42:25.581558Z",
          "iopub.status.idle": "2023-03-14T07:42:25.590814Z",
          "shell.execute_reply.started": "2023-03-14T07:42:25.581520Z",
          "shell.execute_reply": "2023-03-14T07:42:25.589725Z"
        },
        "trusted": true,
        "id": "pzVT8ahUso81"
      },
      "execution_count": 34,
      "outputs": []
    },
    {
      "cell_type": "code",
      "source": [
        "# y_train = onehotencoder.fit_transform(y_train.values.reshape(-1,1)).toarray()"
      ],
      "metadata": {
        "execution": {
          "iopub.status.busy": "2023-03-14T07:42:25.592240Z",
          "iopub.execute_input": "2023-03-14T07:42:25.592886Z",
          "iopub.status.idle": "2023-03-14T07:42:25.603051Z",
          "shell.execute_reply.started": "2023-03-14T07:42:25.592834Z",
          "shell.execute_reply": "2023-03-14T07:42:25.602010Z"
        },
        "trusted": true,
        "id": "9dgJDW86so81"
      },
      "execution_count": 35,
      "outputs": []
    },
    {
      "cell_type": "code",
      "source": [
        "# le = LabelEncoder()\n",
        "# le.fit(y_train)\n",
        "# y_train_enc = le.transform(y_train)"
      ],
      "metadata": {
        "execution": {
          "iopub.status.busy": "2023-03-14T07:42:25.604607Z",
          "iopub.execute_input": "2023-03-14T07:42:25.605005Z",
          "iopub.status.idle": "2023-03-14T07:42:25.615775Z",
          "shell.execute_reply.started": "2023-03-14T07:42:25.604965Z",
          "shell.execute_reply": "2023-03-14T07:42:25.614792Z"
        },
        "trusted": true,
        "id": "Z_gzP1KVso81"
      },
      "execution_count": 36,
      "outputs": []
    },
    {
      "cell_type": "code",
      "source": [
        "# y_train_enc"
      ],
      "metadata": {
        "execution": {
          "iopub.status.busy": "2023-03-14T07:42:25.617114Z",
          "iopub.execute_input": "2023-03-14T07:42:25.617655Z",
          "iopub.status.idle": "2023-03-14T07:42:25.627447Z",
          "shell.execute_reply.started": "2023-03-14T07:42:25.617612Z",
          "shell.execute_reply": "2023-03-14T07:42:25.626402Z"
        },
        "trusted": true,
        "id": "eCOLElLWso81"
      },
      "execution_count": 37,
      "outputs": []
    },
    {
      "cell_type": "code",
      "source": [
        "# encode textual labels into corresponding numbers\n",
        "from keras.utils import np_utils\n",
        "encoder = LabelEncoder()\n",
        "encoder.fit(y_train)\n",
        "encoded_y_train = encoder.transform(y_train)\n",
        "dummy_y_train = np_utils.to_categorical(encoded_y_train) # convert integer\n",
        "\n",
        "encoded_y_test = encoder.transform(y_test)\n",
        "dummy_y_test = np_utils.to_categorical(encoded_y_test) # convert integer"
      ],
      "metadata": {
        "execution": {
          "iopub.status.busy": "2023-03-14T07:42:25.629118Z",
          "iopub.execute_input": "2023-03-14T07:42:25.629840Z",
          "iopub.status.idle": "2023-03-14T07:42:25.643136Z",
          "shell.execute_reply.started": "2023-03-14T07:42:25.629799Z",
          "shell.execute_reply": "2023-03-14T07:42:25.641691Z"
        },
        "trusted": true,
        "id": "4dLvMX4Qso81"
      },
      "execution_count": 38,
      "outputs": []
    },
    {
      "cell_type": "code",
      "source": [
        "encoder.classes_"
      ],
      "metadata": {
        "execution": {
          "iopub.status.busy": "2023-03-14T07:42:25.644856Z",
          "iopub.execute_input": "2023-03-14T07:42:25.645987Z",
          "iopub.status.idle": "2023-03-14T07:42:25.656552Z",
          "shell.execute_reply.started": "2023-03-14T07:42:25.645905Z",
          "shell.execute_reply": "2023-03-14T07:42:25.655439Z"
        },
        "trusted": true,
        "id": "208G3A11so82",
        "outputId": "1588bfdb-2251-4e06-a74a-d3e87d9db2fc",
        "colab": {
          "base_uri": "https://localhost:8080/"
        }
      },
      "execution_count": 39,
      "outputs": [
        {
          "output_type": "execute_result",
          "data": {
            "text/plain": [
              "array(['anger', 'disgust', 'fear', 'joy', 'sadness', 'surprise'],\n",
              "      dtype=object)"
            ]
          },
          "metadata": {},
          "execution_count": 39
        }
      ]
    },
    {
      "cell_type": "code",
      "source": [
        "encoder.inverse_transform(encoded_y_train)"
      ],
      "metadata": {
        "execution": {
          "iopub.status.busy": "2023-03-14T07:42:25.657890Z",
          "iopub.execute_input": "2023-03-14T07:42:25.659354Z",
          "iopub.status.idle": "2023-03-14T07:42:25.668357Z",
          "shell.execute_reply.started": "2023-03-14T07:42:25.659303Z",
          "shell.execute_reply": "2023-03-14T07:42:25.666891Z"
        },
        "trusted": true,
        "id": "bPs0NsEkso82",
        "outputId": "6ab4af62-3db0-47ea-a6b2-e3ab124875c3",
        "colab": {
          "base_uri": "https://localhost:8080/"
        }
      },
      "execution_count": 40,
      "outputs": [
        {
          "output_type": "execute_result",
          "data": {
            "text/plain": [
              "array(['surprise', 'joy', 'disgust', ..., 'sadness', 'joy', 'joy'],\n",
              "      dtype=object)"
            ]
          },
          "metadata": {},
          "execution_count": 40
        }
      ]
    },
    {
      "cell_type": "code",
      "source": [
        "dummy_y_train"
      ],
      "metadata": {
        "execution": {
          "iopub.status.busy": "2023-03-14T07:42:25.669673Z",
          "iopub.execute_input": "2023-03-14T07:42:25.670625Z",
          "iopub.status.idle": "2023-03-14T07:42:25.679062Z",
          "shell.execute_reply.started": "2023-03-14T07:42:25.670588Z",
          "shell.execute_reply": "2023-03-14T07:42:25.678006Z"
        },
        "trusted": true,
        "id": "V5ehBjO2so82",
        "outputId": "0189b125-c37f-420f-92c6-298dac227dcf",
        "colab": {
          "base_uri": "https://localhost:8080/"
        }
      },
      "execution_count": 41,
      "outputs": [
        {
          "output_type": "execute_result",
          "data": {
            "text/plain": [
              "array([[0., 0., 0., 0., 0., 1.],\n",
              "       [0., 0., 0., 1., 0., 0.],\n",
              "       [0., 1., 0., 0., 0., 0.],\n",
              "       ...,\n",
              "       [0., 0., 0., 0., 1., 0.],\n",
              "       [0., 0., 0., 1., 0., 0.],\n",
              "       [0., 0., 0., 1., 0., 0.]], dtype=float32)"
            ]
          },
          "metadata": {},
          "execution_count": 41
        }
      ]
    },
    {
      "cell_type": "markdown",
      "source": [
        "### Model Defination"
      ],
      "metadata": {
        "papermill": {
          "duration": 0.01159,
          "end_time": "2022-10-21T18:40:15.414589",
          "exception": false,
          "start_time": "2022-10-21T18:40:15.402999",
          "status": "completed"
        },
        "tags": [],
        "id": "iVClgJh1so82"
      }
    },
    {
      "cell_type": "code",
      "source": [
        "embedding_dim = 128\n",
        "\n",
        "#BiLSTM\n",
        "bilstm_in = Input(shape=(max_len,))\n",
        "bilstm_em_layer = Embedding(max_words,embedding_dim)(bilstm_in)\n",
        "bilstm_layer_1 = Bidirectional(LSTM(32,dropout= 0.1))(bilstm_em_layer)\n",
        "bilstm_dense_layer_1 = Dense(32,activation='relu')(bilstm_layer_1)\n",
        "bilstm_flatten1 = Flatten()(bilstm_dense_layer_1)\n",
        "bilstm_out = Dense(6,activation = 'softmax')(bilstm_flatten1)\n",
        "bilstm_model = Model(inputs=bilstm_in, outputs=bilstm_out)"
      ],
      "metadata": {
        "papermill": {
          "duration": 4.55959,
          "end_time": "2022-10-21T18:40:19.986083",
          "exception": false,
          "start_time": "2022-10-21T18:40:15.426493",
          "status": "completed"
        },
        "tags": [],
        "execution": {
          "iopub.status.busy": "2023-03-14T08:30:58.271212Z",
          "iopub.execute_input": "2023-03-14T08:30:58.271662Z",
          "iopub.status.idle": "2023-03-14T08:30:58.278636Z",
          "shell.execute_reply.started": "2023-03-14T08:30:58.271623Z",
          "shell.execute_reply": "2023-03-14T08:30:58.277269Z"
        },
        "trusted": true,
        "id": "ozwf_PKcso82"
      },
      "execution_count": 42,
      "outputs": []
    },
    {
      "cell_type": "code",
      "source": [
        "bilstm_model.compile(loss='categorical_crossentropy', optimizer='adam', metrics=['accuracy'])"
      ],
      "metadata": {
        "papermill": {
          "duration": 0.033141,
          "end_time": "2022-10-21T18:40:20.090475",
          "exception": false,
          "start_time": "2022-10-21T18:40:20.057334",
          "status": "completed"
        },
        "tags": [],
        "execution": {
          "iopub.status.busy": "2023-03-14T08:32:48.870560Z",
          "iopub.execute_input": "2023-03-14T08:32:48.871264Z",
          "iopub.status.idle": "2023-03-14T08:32:48.876432Z",
          "shell.execute_reply.started": "2023-03-14T08:32:48.871222Z",
          "shell.execute_reply": "2023-03-14T08:32:48.875018Z"
        },
        "trusted": true,
        "id": "tqaRsY53so83"
      },
      "execution_count": 43,
      "outputs": []
    },
    {
      "cell_type": "code",
      "source": [
        "bilstm_model.summary()"
      ],
      "metadata": {
        "papermill": {
          "duration": 0.025739,
          "end_time": "2022-10-21T18:40:20.127839",
          "exception": false,
          "start_time": "2022-10-21T18:40:20.1021",
          "status": "completed"
        },
        "tags": [],
        "execution": {
          "iopub.status.busy": "2023-03-14T08:32:49.109384Z",
          "iopub.execute_input": "2023-03-14T08:32:49.109785Z",
          "iopub.status.idle": "2023-03-14T08:32:49.163160Z",
          "shell.execute_reply.started": "2023-03-14T08:32:49.109748Z",
          "shell.execute_reply": "2023-03-14T08:32:49.161814Z"
        },
        "trusted": true,
        "id": "jLsf_S4Aso83",
        "outputId": "d9802a96-94f4-477d-cbe6-03e939ace51c",
        "colab": {
          "base_uri": "https://localhost:8080/"
        }
      },
      "execution_count": 44,
      "outputs": [
        {
          "output_type": "stream",
          "name": "stdout",
          "text": [
            "Model: \"model\"\n",
            "_________________________________________________________________\n",
            " Layer (type)                Output Shape              Param #   \n",
            "=================================================================\n",
            " input_1 (InputLayer)        [(None, 100)]             0         \n",
            "                                                                 \n",
            " embedding (Embedding)       (None, 100, 128)          6400000   \n",
            "                                                                 \n",
            " bidirectional (Bidirectiona  (None, 64)               41216     \n",
            " l)                                                              \n",
            "                                                                 \n",
            " dense (Dense)               (None, 32)                2080      \n",
            "                                                                 \n",
            " flatten (Flatten)           (None, 32)                0         \n",
            "                                                                 \n",
            " dense_1 (Dense)             (None, 6)                 198       \n",
            "                                                                 \n",
            "=================================================================\n",
            "Total params: 6,443,494\n",
            "Trainable params: 6,443,494\n",
            "Non-trainable params: 0\n",
            "_________________________________________________________________\n"
          ]
        }
      ]
    },
    {
      "cell_type": "code",
      "source": [
        "plot_model(bilstm_model, to_file='LF4_model.png', show_shapes=True, show_layer_names=True)"
      ],
      "metadata": {
        "papermill": {
          "duration": 1.216246,
          "end_time": "2022-10-21T18:40:21.355808",
          "exception": false,
          "start_time": "2022-10-21T18:40:20.139562",
          "status": "completed"
        },
        "tags": [],
        "execution": {
          "iopub.status.busy": "2023-03-14T08:32:49.326567Z",
          "iopub.execute_input": "2023-03-14T08:32:49.326994Z",
          "iopub.status.idle": "2023-03-14T08:32:50.194523Z",
          "shell.execute_reply.started": "2023-03-14T08:32:49.326959Z",
          "shell.execute_reply": "2023-03-14T08:32:50.192610Z"
        },
        "trusted": true,
        "id": "HcY1-pLCso83",
        "outputId": "c55c494f-181c-4d07-bb93-889a4e72d67b",
        "colab": {
          "base_uri": "https://localhost:8080/",
          "height": 644
        }
      },
      "execution_count": 45,
      "outputs": [
        {
          "output_type": "execute_result",
          "data": {
            "image/png": "[encoded data removed]",
            "text/plain": [
              "<IPython.core.display.Image object>"
            ]
          },
          "metadata": {},
          "execution_count": 45
        }
      ]
    },
    {
      "cell_type": "markdown",
      "source": [
        "### Defining custom callbacks"
      ],
      "metadata": {
        "papermill": {
          "duration": 0.015081,
          "end_time": "2022-10-21T18:40:21.386846",
          "exception": false,
          "start_time": "2022-10-21T18:40:21.371765",
          "status": "completed"
        },
        "tags": [],
        "id": "s-rzO6W-so84"
      }
    },
    {
      "cell_type": "code",
      "source": [
        "from keras.callbacks import ModelCheckpoint,EarlyStopping\n",
        "early_stp = EarlyStopping(\n",
        "    monitor=\"val_accuracy\",\n",
        "    patience=5,\n",
        "    verbose=0,\n",
        "    mode=\"auto\",\n",
        ")\n",
        "model_check = ModelCheckpoint('LF_Trio_stp.h5', monitor='val_accuracy', verbose=2, save_best_only=True,\n",
        "                                             save_weights_only=False, mode='max')\n",
        "callback_lst = [early_stp,model_check]"
      ],
      "metadata": {
        "papermill": {
          "duration": 0.025661,
          "end_time": "2022-10-21T18:40:21.427407",
          "exception": false,
          "start_time": "2022-10-21T18:40:21.401746",
          "status": "completed"
        },
        "tags": [],
        "execution": {
          "iopub.status.busy": "2023-03-14T08:32:50.197023Z",
          "iopub.execute_input": "2023-03-14T08:32:50.197410Z",
          "iopub.status.idle": "2023-03-14T08:32:50.206181Z",
          "shell.execute_reply.started": "2023-03-14T08:32:50.197373Z",
          "shell.execute_reply": "2023-03-14T08:32:50.204795Z"
        },
        "trusted": true,
        "id": "G6JP0OJVso84"
      },
      "execution_count": 46,
      "outputs": []
    },
    {
      "cell_type": "code",
      "source": [
        "dummy_y_train"
      ],
      "metadata": {
        "execution": {
          "iopub.status.busy": "2023-03-14T08:32:50.279174Z",
          "iopub.execute_input": "2023-03-14T08:32:50.279581Z",
          "iopub.status.idle": "2023-03-14T08:32:50.288638Z",
          "shell.execute_reply.started": "2023-03-14T08:32:50.279546Z",
          "shell.execute_reply": "2023-03-14T08:32:50.287640Z"
        },
        "trusted": true,
        "id": "aGOAAeaQso84",
        "outputId": "8cffb00d-b960-4fc3-f62c-a76dd4506e5b",
        "colab": {
          "base_uri": "https://localhost:8080/"
        }
      },
      "execution_count": 47,
      "outputs": [
        {
          "output_type": "execute_result",
          "data": {
            "text/plain": [
              "array([[0., 0., 0., 0., 0., 1.],\n",
              "       [0., 0., 0., 1., 0., 0.],\n",
              "       [0., 1., 0., 0., 0., 0.],\n",
              "       ...,\n",
              "       [0., 0., 0., 0., 1., 0.],\n",
              "       [0., 0., 0., 1., 0., 0.],\n",
              "       [0., 0., 0., 1., 0., 0.]], dtype=float32)"
            ]
          },
          "metadata": {},
          "execution_count": 47
        }
      ]
    },
    {
      "cell_type": "code",
      "source": [
        "# X_train.shape"
      ],
      "metadata": {
        "execution": {
          "iopub.status.busy": "2023-03-14T08:32:50.554985Z",
          "iopub.execute_input": "2023-03-14T08:32:50.555395Z",
          "iopub.status.idle": "2023-03-14T08:32:50.560550Z",
          "shell.execute_reply.started": "2023-03-14T08:32:50.555361Z",
          "shell.execute_reply": "2023-03-14T08:32:50.559275Z"
        },
        "trusted": true,
        "id": "nkCN85hQso84"
      },
      "execution_count": 48,
      "outputs": []
    },
    {
      "cell_type": "code",
      "source": [
        "bilstm_model"
      ],
      "metadata": {
        "execution": {
          "iopub.status.busy": "2023-03-14T08:32:50.837748Z",
          "iopub.execute_input": "2023-03-14T08:32:50.838614Z",
          "iopub.status.idle": "2023-03-14T08:32:50.846860Z",
          "shell.execute_reply.started": "2023-03-14T08:32:50.838564Z",
          "shell.execute_reply": "2023-03-14T08:32:50.845361Z"
        },
        "trusted": true,
        "id": "zPQKew3_so84",
        "outputId": "b6cf6906-95d9-4b4a-a3e7-b63a7faad917",
        "colab": {
          "base_uri": "https://localhost:8080/"
        }
      },
      "execution_count": 49,
      "outputs": [
        {
          "output_type": "execute_result",
          "data": {
            "text/plain": [
              "<keras.engine.functional.Functional at 0x7c79546c58d0>"
            ]
          },
          "metadata": {},
          "execution_count": 49
        }
      ]
    },
    {
      "cell_type": "code",
      "source": [
        "# history = bigru_model.fit(X_train,\n",
        "#                           dummy_y_train,\n",
        "#                           epochs = 30,\n",
        "#                           batch_size = 64,\n",
        "#                           verbose = 1,\n",
        "#                           validation_split = 0.3,\n",
        "#                           callbacks = callback_lst)"
      ],
      "metadata": {
        "execution": {
          "iopub.status.busy": "2023-03-14T08:32:51.134593Z",
          "iopub.execute_input": "2023-03-14T08:32:51.135788Z",
          "iopub.status.idle": "2023-03-14T08:32:51.140777Z",
          "shell.execute_reply.started": "2023-03-14T08:32:51.135737Z",
          "shell.execute_reply": "2023-03-14T08:32:51.139944Z"
        },
        "trusted": true,
        "id": "XcPsHHuuso84"
      },
      "execution_count": 50,
      "outputs": []
    },
    {
      "cell_type": "code",
      "source": [
        "history = bilstm_model.fit(X_train,\n",
        "                          dummy_y_train,\n",
        "                          epochs = 30,\n",
        "                          batch_size = 64,\n",
        "                          verbose = 1,\n",
        "                          validation_split = 0.1,\n",
        "                          callbacks = callback_lst,\n",
        "                       shuffle=True,)"
      ],
      "metadata": {
        "papermill": {
          "duration": 93.985913,
          "end_time": "2022-10-21T18:41:55.428481",
          "exception": false,
          "start_time": "2022-10-21T18:40:21.442568",
          "status": "completed"
        },
        "tags": [],
        "execution": {
          "iopub.status.busy": "2023-03-14T08:32:51.390123Z",
          "iopub.execute_input": "2023-03-14T08:32:51.390556Z",
          "iopub.status.idle": "2023-03-14T08:33:58.914244Z",
          "shell.execute_reply.started": "2023-03-14T08:32:51.390517Z",
          "shell.execute_reply": "2023-03-14T08:33:58.913148Z"
        },
        "trusted": true,
        "id": "iLSCpH4sso85",
        "outputId": "aa653613-b9fd-4687-a89a-2e51d4eedfad",
        "colab": {
          "base_uri": "https://localhost:8080/"
        }
      },
      "execution_count": 51,
      "outputs": [
        {
          "output_type": "stream",
          "name": "stdout",
          "text": [
            "Epoch 1/30\n",
            "61/61 [==============================] - ETA: 0s - loss: 1.6896 - accuracy: 0.3413\n",
            "Epoch 1: val_accuracy improved from -inf to 0.54378, saving model to LF_Trio_stp.h5\n",
            "61/61 [==============================] - 24s 283ms/step - loss: 1.6896 - accuracy: 0.3413 - val_loss: 1.3936 - val_accuracy: 0.5438\n",
            "Epoch 2/30\n",
            "61/61 [==============================] - ETA: 0s - loss: 1.0254 - accuracy: 0.6879\n",
            "Epoch 2: val_accuracy improved from 0.54378 to 0.67512, saving model to LF_Trio_stp.h5\n",
            "61/61 [==============================] - 16s 267ms/step - loss: 1.0254 - accuracy: 0.6879 - val_loss: 0.8965 - val_accuracy: 0.6751\n",
            "Epoch 3/30\n",
            "61/61 [==============================] - ETA: 0s - loss: 0.4353 - accuracy: 0.8978\n",
            "Epoch 3: val_accuracy improved from 0.67512 to 0.79954, saving model to LF_Trio_stp.h5\n",
            "61/61 [==============================] - 16s 260ms/step - loss: 0.4353 - accuracy: 0.8978 - val_loss: 0.6330 - val_accuracy: 0.7995\n",
            "Epoch 4/30\n",
            "61/61 [==============================] - ETA: 0s - loss: 0.1535 - accuracy: 0.9664\n",
            "Epoch 4: val_accuracy did not improve from 0.79954\n",
            "61/61 [==============================] - 15s 250ms/step - loss: 0.1535 - accuracy: 0.9664 - val_loss: 0.6743 - val_accuracy: 0.7903\n",
            "Epoch 5/30\n",
            "61/61 [==============================] - ETA: 0s - loss: 0.0644 - accuracy: 0.9882\n",
            "Epoch 5: val_accuracy did not improve from 0.79954\n",
            "61/61 [==============================] - 16s 262ms/step - loss: 0.0644 - accuracy: 0.9882 - val_loss: 0.7045 - val_accuracy: 0.7926\n",
            "Epoch 6/30\n",
            "61/61 [==============================] - ETA: 0s - loss: 0.0288 - accuracy: 0.9954\n",
            "Epoch 6: val_accuracy improved from 0.79954 to 0.80184, saving model to LF_Trio_stp.h5\n",
            "61/61 [==============================] - 16s 254ms/step - loss: 0.0288 - accuracy: 0.9954 - val_loss: 0.7340 - val_accuracy: 0.8018\n",
            "Epoch 7/30\n",
            "61/61 [==============================] - ETA: 0s - loss: 0.0173 - accuracy: 0.9980\n",
            "Epoch 7: val_accuracy did not improve from 0.80184\n",
            "61/61 [==============================] - 15s 253ms/step - loss: 0.0173 - accuracy: 0.9980 - val_loss: 0.8108 - val_accuracy: 0.7834\n",
            "Epoch 8/30\n",
            "61/61 [==============================] - ETA: 0s - loss: 0.0094 - accuracy: 0.9992\n",
            "Epoch 8: val_accuracy did not improve from 0.80184\n",
            "61/61 [==============================] - 15s 244ms/step - loss: 0.0094 - accuracy: 0.9992 - val_loss: 0.8272 - val_accuracy: 0.7880\n",
            "Epoch 9/30\n",
            "61/61 [==============================] - ETA: 0s - loss: 0.0083 - accuracy: 0.9990\n",
            "Epoch 9: val_accuracy did not improve from 0.80184\n",
            "61/61 [==============================] - 17s 273ms/step - loss: 0.0083 - accuracy: 0.9990 - val_loss: 0.8315 - val_accuracy: 0.7972\n",
            "Epoch 10/30\n",
            "61/61 [==============================] - ETA: 0s - loss: 0.0057 - accuracy: 0.9992\n",
            "Epoch 10: val_accuracy did not improve from 0.80184\n",
            "61/61 [==============================] - 15s 247ms/step - loss: 0.0057 - accuracy: 0.9992 - val_loss: 0.8912 - val_accuracy: 0.7903\n",
            "Epoch 11/30\n",
            "61/61 [==============================] - ETA: 0s - loss: 0.0038 - accuracy: 0.9997\n",
            "Epoch 11: val_accuracy did not improve from 0.80184\n",
            "61/61 [==============================] - 15s 251ms/step - loss: 0.0038 - accuracy: 0.9997 - val_loss: 0.9111 - val_accuracy: 0.7880\n"
          ]
        }
      ]
    },
    {
      "cell_type": "code",
      "source": [
        "train_accr = bilstm_model.evaluate(X_train,dummy_y_train)\n",
        "print('Train set\\n  Loss: {:0.3f}\\n  Accuracy: {:0.3f}'.format(train_accr[0],train_accr[1]))"
      ],
      "metadata": {
        "execution": {
          "iopub.status.busy": "2023-03-14T08:34:02.439042Z",
          "iopub.execute_input": "2023-03-14T08:34:02.439960Z",
          "iopub.status.idle": "2023-03-14T08:34:03.462876Z",
          "shell.execute_reply.started": "2023-03-14T08:34:02.439904Z",
          "shell.execute_reply": "2023-03-14T08:34:03.461562Z"
        },
        "trusted": true,
        "id": "S62eue9Tso85",
        "colab": {
          "base_uri": "https://localhost:8080/"
        },
        "outputId": "1355878e-ef3c-4582-d6ea-aa379f9130dc"
      },
      "execution_count": 52,
      "outputs": [
        {
          "output_type": "stream",
          "name": "stdout",
          "text": [
            "136/136 [==============================] - 5s 34ms/step - loss: 0.0937 - accuracy: 0.9786\n",
            "Train set\n",
            "  Loss: 0.094\n",
            "  Accuracy: 0.979\n"
          ]
        }
      ]
    },
    {
      "cell_type": "code",
      "source": [
        "test_accr = bilstm_model.evaluate(X_test,dummy_y_test)\n",
        "print('Test set\\n  Loss: {:0.3f}\\n  Accuracy: {:0.3f}'.format(test_accr[0],test_accr[1]))"
      ],
      "metadata": {
        "execution": {
          "iopub.status.busy": "2023-03-14T08:34:04.498196Z",
          "iopub.execute_input": "2023-03-14T08:34:04.498622Z",
          "iopub.status.idle": "2023-03-14T08:34:04.696409Z",
          "shell.execute_reply.started": "2023-03-14T08:34:04.498585Z",
          "shell.execute_reply": "2023-03-14T08:34:04.695277Z"
        },
        "trusted": true,
        "id": "gXQ5j8Gjso87",
        "colab": {
          "base_uri": "https://localhost:8080/"
        },
        "outputId": "4b450169-a1c9-4eb3-b87d-3ac3eda66470"
      },
      "execution_count": 53,
      "outputs": [
        {
          "output_type": "stream",
          "name": "stdout",
          "text": [
            "16/16 [==============================] - 0s 23ms/step - loss: 0.8043 - accuracy: 0.8382\n",
            "Test set\n",
            "  Loss: 0.804\n",
            "  Accuracy: 0.838\n"
          ]
        }
      ]
    },
    {
      "cell_type": "code",
      "source": [
        "from sklearn.metrics import confusion_matrix"
      ],
      "metadata": {
        "execution": {
          "iopub.status.busy": "2023-03-14T08:34:09.350072Z",
          "iopub.execute_input": "2023-03-14T08:34:09.350545Z",
          "iopub.status.idle": "2023-03-14T08:34:09.355833Z",
          "shell.execute_reply.started": "2023-03-14T08:34:09.350502Z",
          "shell.execute_reply": "2023-03-14T08:34:09.354741Z"
        },
        "trusted": true,
        "id": "NX3NEqdVso87"
      },
      "execution_count": 54,
      "outputs": []
    },
    {
      "cell_type": "code",
      "source": [
        "y_pred =bilstm_model.predict(X_test)"
      ],
      "metadata": {
        "execution": {
          "iopub.status.busy": "2023-03-14T08:34:09.912547Z",
          "iopub.execute_input": "2023-03-14T08:34:09.913193Z",
          "iopub.status.idle": "2023-03-14T08:34:10.186734Z",
          "shell.execute_reply.started": "2023-03-14T08:34:09.913155Z",
          "shell.execute_reply": "2023-03-14T08:34:10.185620Z"
        },
        "trusted": true,
        "id": "RRwdkfTeso87",
        "colab": {
          "base_uri": "https://localhost:8080/"
        },
        "outputId": "1cf9189e-778a-49f8-cc15-e1e24a897b0a"
      },
      "execution_count": 55,
      "outputs": [
        {
          "output_type": "stream",
          "name": "stdout",
          "text": [
            "16/16 [==============================] - 1s 24ms/step\n"
          ]
        }
      ]
    },
    {
      "cell_type": "code",
      "source": [
        "# y_pred = model.predict(X_test)\n",
        "y_pred = np.argmax(y_pred, axis=1)\n",
        "\n",
        "conf_mat = confusion_matrix(encoded_y_test, y_pred)"
      ],
      "metadata": {
        "execution": {
          "iopub.status.busy": "2023-03-14T08:34:11.265286Z",
          "iopub.execute_input": "2023-03-14T08:34:11.265713Z",
          "iopub.status.idle": "2023-03-14T08:34:11.273772Z",
          "shell.execute_reply.started": "2023-03-14T08:34:11.265676Z",
          "shell.execute_reply": "2023-03-14T08:34:11.272372Z"
        },
        "trusted": true,
        "id": "EgrXsxdoso87"
      },
      "execution_count": 56,
      "outputs": []
    },
    {
      "cell_type": "code",
      "source": [
        "\n",
        "conf_mat"
      ],
      "metadata": {
        "execution": {
          "iopub.status.busy": "2023-03-14T08:34:12.076079Z",
          "iopub.execute_input": "2023-03-14T08:34:12.076769Z",
          "iopub.status.idle": "2023-03-14T08:34:12.082420Z",
          "shell.execute_reply.started": "2023-03-14T08:34:12.076729Z",
          "shell.execute_reply": "2023-03-14T08:34:12.081607Z"
        },
        "trusted": true,
        "id": "XJ5brlGGso87",
        "colab": {
          "base_uri": "https://localhost:8080/"
        },
        "outputId": "a3d50dd6-a277-4b3a-fdad-baec5e1fd76d"
      },
      "execution_count": 57,
      "outputs": [
        {
          "output_type": "execute_result",
          "data": {
            "text/plain": [
              "array([[64,  6,  4,  1,  2,  3],\n",
              "       [ 8, 59,  0,  3,  5,  3],\n",
              "       [ 2,  0, 73,  1,  3,  1],\n",
              "       [ 2,  2,  1, 72,  3,  2],\n",
              "       [ 0,  6,  5,  8, 63,  1],\n",
              "       [ 2,  0,  0,  3,  1, 73]])"
            ]
          },
          "metadata": {},
          "execution_count": 57
        }
      ]
    },
    {
      "cell_type": "code",
      "source": [
        "df_cm = pd.DataFrame(conf_mat, index=encoder.classes_, columns=encoder.classes_)\n",
        "# plt.figure(figsize=(10,7))\n",
        "sns.set(font_scale=1.4) # for label size\n",
        "sns.heatmap(df_cm, annot=True, annot_kws={\"size\": 16}) # font size\n",
        "\n",
        "plt.show()"
      ],
      "metadata": {
        "execution": {
          "iopub.status.busy": "2023-03-14T08:34:12.440434Z",
          "iopub.execute_input": "2023-03-14T08:34:12.441199Z",
          "iopub.status.idle": "2023-03-14T08:34:12.881620Z",
          "shell.execute_reply.started": "2023-03-14T08:34:12.441157Z",
          "shell.execute_reply": "2023-03-14T08:34:12.880218Z"
        },
        "trusted": true,
        "id": "AjeOITqWso88",
        "colab": {
          "base_uri": "https://localhost:8080/",
          "height": 506
        },
        "outputId": "04874a0e-4d19-4a3b-e1df-357bdbb41383"
      },
      "execution_count": 58,
      "outputs": [
        {
          "output_type": "display_data",
          "data": {
            "text/plain": [
              "<Figure size 640x480 with 2 Axes>"
            ],
            "image/png": "[encoded data removed]"
          },
          "metadata": {}
        }
      ]
    },
    {
      "cell_type": "code",
      "source": [
        "from sklearn.metrics import classification_report\n",
        "target_names = encoder.classes_\n",
        "print(classification_report(encoded_y_test, y_pred, target_names=target_names))"
      ],
      "metadata": {
        "execution": {
          "iopub.status.busy": "2023-03-14T08:34:12.883695Z",
          "iopub.execute_input": "2023-03-14T08:34:12.884748Z",
          "iopub.status.idle": "2023-03-14T08:34:12.896446Z",
          "shell.execute_reply.started": "2023-03-14T08:34:12.884708Z",
          "shell.execute_reply": "2023-03-14T08:34:12.895003Z"
        },
        "trusted": true,
        "id": "hbnB6VY2so88",
        "colab": {
          "base_uri": "https://localhost:8080/"
        },
        "outputId": "bee564f2-c515-4a90-e1c6-7d56faad5ae0"
      },
      "execution_count": 59,
      "outputs": [
        {
          "output_type": "stream",
          "name": "stdout",
          "text": [
            "              precision    recall  f1-score   support\n",
            "\n",
            "       anger       0.82      0.80      0.81        80\n",
            "     disgust       0.81      0.76      0.78        78\n",
            "        fear       0.88      0.91      0.90        80\n",
            "         joy       0.82      0.88      0.85        82\n",
            "     sadness       0.82      0.76      0.79        83\n",
            "    surprise       0.88      0.92      0.90        79\n",
            "\n",
            "    accuracy                           0.84       482\n",
            "   macro avg       0.84      0.84      0.84       482\n",
            "weighted avg       0.84      0.84      0.84       482\n",
            "\n"
          ]
        }
      ]
    },
    {
      "cell_type": "code",
      "source": [
        "plt.title('Model Loss', fontsize=12)\n",
        "plt.plot(history.history['loss'], label='Training Loss')\n",
        "plt.plot(history.history['val_loss'], label='Validation Loss')\n",
        "plt.legend(fontsize=12)\n",
        "plt.grid(False)\n",
        "plt.xlabel('Epochs',fontsize=12)\n",
        "plt.ylabel('Loss',fontsize=12)\n",
        "plt.show();"
      ],
      "metadata": {
        "id": "TKwRnJa0AN_C",
        "colab": {
          "base_uri": "https://localhost:8080/",
          "height": 485
        },
        "outputId": "db406bed-f37d-4dec-9dc8-786a5ee96b7d"
      },
      "execution_count": 60,
      "outputs": [
        {
          "output_type": "display_data",
          "data": {
            "text/plain": [
              "<Figure size 640x480 with 1 Axes>"
            ],
            "image/png": "[encoded data removed]"
          },
          "metadata": {}
        }
      ]
    },
    {
      "cell_type": "code",
      "source": [
        "import matplotlib.pyplot as plt\n",
        "plt.title('Model Accuracy', fontsize=12)\n",
        "plt.plot(history.history['accuracy'], label='Training')\n",
        "plt.plot(history.history['val_accuracy'], label='Validation')\n",
        "plt.legend(fontsize=12)\n",
        "plt.grid(False)\n",
        "plt.xlabel('Epochs',fontsize=12)\n",
        "plt.ylabel('Accuracy',fontsize=12)\n",
        "plt.show();"
      ],
      "metadata": {
        "id": "zzHglSEHA9Xd",
        "colab": {
          "base_uri": "https://localhost:8080/",
          "height": 485
        },
        "outputId": "266900f3-a220-42c2-8f59-be9903084026"
      },
      "execution_count": 61,
      "outputs": [
        {
          "output_type": "display_data",
          "data": {
            "text/plain": [
              "<Figure size 640x480 with 1 Axes>"
            ],
            "image/png": "[encoded data removed]"
          },
          "metadata": {}
        }
      ]
    },
    {
      "cell_type": "code",
      "source": [
        "loss_values = history.history['loss']\n",
        "val_loss_values = history.history['val_loss']\n",
        "acc = history.history['accuracy']\n",
        "val_acc = history.history['val_accuracy']\n",
        "epochs = range(1, len(acc) + 1)\n",
        "\n",
        "plt.plot(epochs, acc, color='midnightblue', linewidth = 2,\n",
        "          marker='o', markersize=8,label='Training Accuracy')\n",
        "plt.plot(epochs, val_acc, color='darkred', linewidth = 2,\n",
        "          marker='o', markersize=8,label='Training Accuracy')\n",
        "plt.title('Training and validation accuracy',fontsize=12)\n",
        "plt.xlabel('Epochs',fontsize=12)\n",
        "plt.ylabel('Accuracy',fontsize=12)\n",
        "plt.legend(['Training Accuracy','Validation Accuracy'])\n",
        "plt.show()"
      ],
      "metadata": {
        "papermill": {
          "duration": 58.671792,
          "end_time": "2022-10-21T18:42:54.180163",
          "exception": false,
          "start_time": "2022-10-21T18:41:55.508371",
          "status": "completed"
        },
        "tags": [],
        "execution": {
          "iopub.status.busy": "2023-03-14T08:34:35.209491Z",
          "iopub.execute_input": "2023-03-14T08:34:35.210401Z",
          "iopub.status.idle": "2023-03-14T08:34:35.498603Z",
          "shell.execute_reply.started": "2023-03-14T08:34:35.210354Z",
          "shell.execute_reply": "2023-03-14T08:34:35.497395Z"
        },
        "trusted": true,
        "id": "_osflxsjso88",
        "colab": {
          "base_uri": "https://localhost:8080/",
          "height": 485
        },
        "outputId": "880c5011-11e0-4edd-a65a-1ddd8fe03341"
      },
      "execution_count": 62,
      "outputs": [
        {
          "output_type": "display_data",
          "data": {
            "text/plain": [
              "<Figure size 640x480 with 1 Axes>"
            ],
            "image/png": "[encoded data removed]"
          },
          "metadata": {}
        }
      ]
    },
    {
      "cell_type": "code",
      "source": [
        "plt.plot(epochs, loss_values, color='midnightblue', linewidth = 2,\n",
        "          marker='o', markersize=8,label='Training Accuracy')\n",
        "plt.plot(epochs, val_loss_values, color='darkred', linewidth = 2,\n",
        "          marker='o', markersize=8,label='Training Accuracy')\n",
        "plt.title('Training and validation Loss',fontsize=12)\n",
        "plt.xlabel('Epochs',fontsize=12)\n",
        "plt.ylabel('Loss',fontsize=12)\n",
        "plt.legend(['Training Loss','Validation Loss'])"
      ],
      "metadata": {
        "papermill": {
          "duration": 0.374506,
          "end_time": "2022-10-21T18:42:54.639587",
          "exception": false,
          "start_time": "2022-10-21T18:42:54.265081",
          "status": "completed"
        },
        "tags": [],
        "execution": {
          "iopub.status.busy": "2023-03-14T08:34:41.703577Z",
          "iopub.execute_input": "2023-03-14T08:34:41.704200Z",
          "iopub.status.idle": "2023-03-14T08:34:42.023211Z",
          "shell.execute_reply.started": "2023-03-14T08:34:41.704149Z",
          "shell.execute_reply": "2023-03-14T08:34:42.021814Z"
        },
        "trusted": true,
        "id": "YkfAG1p9so88",
        "colab": {
          "base_uri": "https://localhost:8080/",
          "height": 503
        },
        "outputId": "ea2f95c8-6b27-4b69-c7f7-d7d419b85150"
      },
      "execution_count": 63,
      "outputs": [
        {
          "output_type": "execute_result",
          "data": {
            "text/plain": [
              "<matplotlib.legend.Legend at 0x7c794f68bdc0>"
            ]
          },
          "metadata": {},
          "execution_count": 63
        },
        {
          "output_type": "display_data",
          "data": {
            "text/plain": [
              "<Figure size 640x480 with 1 Axes>"
            ],
            "image/png": "[encoded data removed]"
          },
          "metadata": {}
        }
      ]
    },
    {
      "cell_type": "markdown",
      "source": [
        "### Function for predicting Output"
      ],
      "metadata": {
        "papermill": {
          "duration": 0.086424,
          "end_time": "2022-10-21T18:42:54.812868",
          "exception": false,
          "start_time": "2022-10-21T18:42:54.726444",
          "status": "completed"
        },
        "tags": [],
        "id": "MOG7DDtEso88"
      }
    },
    {
      "cell_type": "code",
      "source": [
        "best_model = keras.models.load_model('./LF_Trio_stp.h5')\n",
        "def predict_res(sample):\n",
        "    processed_text = preprocess(sample)\n",
        "    with open('./tokenizer_7th.pickle', 'rb') as handle:\n",
        "        loaded_tokenizer = pickle.load(handle)\n",
        "    seq= loaded_tokenizer.texts_to_sequences([processed_text])\n",
        "    padded = pad_sequences(seq, value=0,padding='post', maxlen= 100)\n",
        "    pred = best_model.predict(padded)[0]\n",
        "#     pred_f = (pred>0.5).astype('int')\n",
        "    return pred"
      ],
      "metadata": {
        "papermill": {
          "duration": 2.211072,
          "end_time": "2022-10-21T18:42:57.109054",
          "exception": false,
          "start_time": "2022-10-21T18:42:54.897982",
          "status": "completed"
        },
        "tags": [],
        "execution": {
          "iopub.status.busy": "2023-03-14T08:34:43.847320Z",
          "iopub.execute_input": "2023-03-14T08:34:43.847979Z",
          "iopub.status.idle": "2023-03-14T08:34:44.097963Z",
          "shell.execute_reply.started": "2023-03-14T08:34:43.847910Z",
          "shell.execute_reply": "2023-03-14T08:34:44.096574Z"
        },
        "trusted": true,
        "id": "gq_xKjHzso89"
      },
      "execution_count": 64,
      "outputs": []
    },
    {
      "cell_type": "code",
      "source": [
        "encoder.classes_"
      ],
      "metadata": {
        "execution": {
          "iopub.status.busy": "2023-03-14T08:34:44.365722Z",
          "iopub.execute_input": "2023-03-14T08:34:44.366665Z",
          "iopub.status.idle": "2023-03-14T08:34:44.375064Z",
          "shell.execute_reply.started": "2023-03-14T08:34:44.366615Z",
          "shell.execute_reply": "2023-03-14T08:34:44.373470Z"
        },
        "trusted": true,
        "id": "AWWgXTBIso89",
        "colab": {
          "base_uri": "https://localhost:8080/"
        },
        "outputId": "8b61f2b0-926c-4e9d-cb4d-ebc00f2a291b"
      },
      "execution_count": 65,
      "outputs": [
        {
          "output_type": "execute_result",
          "data": {
            "text/plain": [
              "array(['anger', 'disgust', 'fear', 'joy', 'sadness', 'surprise'],\n",
              "      dtype=object)"
            ]
          },
          "metadata": {},
          "execution_count": 65
        }
      ]
    },
    {
      "cell_type": "code",
      "source": [
        "import operator\n",
        "def sentiment(text):\n",
        "    m=predict_res(text)\n",
        "    index, value = max(enumerate(m), key=operator.itemgetter(1))\n",
        "    return encoder.classes_[index]"
      ],
      "metadata": {
        "execution": {
          "iopub.status.busy": "2023-03-14T08:34:44.689568Z",
          "iopub.execute_input": "2023-03-14T08:34:44.690390Z",
          "iopub.status.idle": "2023-03-14T08:34:44.696543Z",
          "shell.execute_reply.started": "2023-03-14T08:34:44.690345Z",
          "shell.execute_reply": "2023-03-14T08:34:44.695374Z"
        },
        "trusted": true,
        "id": "F8fX40gdso89"
      },
      "execution_count": 66,
      "outputs": []
    },
    {
      "cell_type": "code",
      "source": [
        "sentiment('আমার ভয় করছে না জানে কি হয়')"
      ],
      "metadata": {
        "papermill": {
          "duration": 2.708218,
          "end_time": "2022-10-21T18:42:59.904649",
          "exception": false,
          "start_time": "2022-10-21T18:42:57.196431",
          "status": "completed"
        },
        "tags": [],
        "execution": {
          "iopub.status.busy": "2023-03-14T08:34:44.947699Z",
          "iopub.execute_input": "2023-03-14T08:34:44.948168Z",
          "iopub.status.idle": "2023-03-14T08:34:45.113606Z",
          "shell.execute_reply.started": "2023-03-14T08:34:44.948124Z",
          "shell.execute_reply": "2023-03-14T08:34:45.112179Z"
        },
        "trusted": true,
        "id": "gwzw097pso89",
        "colab": {
          "base_uri": "https://localhost:8080/",
          "height": 54
        },
        "outputId": "e56e627a-5b1f-42fc-c319-bc9214410b79"
      },
      "execution_count": 67,
      "outputs": [
        {
          "output_type": "stream",
          "name": "stdout",
          "text": [
            "1/1 [==============================] - 1s 889ms/step\n"
          ]
        },
        {
          "output_type": "execute_result",
          "data": {
            "text/plain": [
              "'fear'"
            ],
            "application/vnd.google.colaboratory.intrinsic+json": {
              "type": "string"
            }
          },
          "metadata": {},
          "execution_count": 67
        }
      ]
    },
    {
      "cell_type": "code",
      "source": [
        "sentiment('তুমি পরীক্ষায় এত ভালো করবে ভাবিনি')"
      ],
      "metadata": {
        "papermill": {
          "duration": 0.20157,
          "end_time": "2022-10-21T18:43:00.189756",
          "exception": false,
          "start_time": "2022-10-21T18:42:59.988186",
          "status": "completed"
        },
        "tags": [],
        "execution": {
          "iopub.status.busy": "2023-03-14T08:34:46.189611Z",
          "iopub.execute_input": "2023-03-14T08:34:46.190997Z",
          "iopub.status.idle": "2023-03-14T08:34:46.273642Z",
          "shell.execute_reply.started": "2023-03-14T08:34:46.190900Z",
          "shell.execute_reply": "2023-03-14T08:34:46.272282Z"
        },
        "trusted": true,
        "id": "i-r29paPso89",
        "colab": {
          "base_uri": "https://localhost:8080/",
          "height": 54
        },
        "outputId": "27a94b8b-7157-47e4-9800-4d81d01bea1e"
      },
      "execution_count": 68,
      "outputs": [
        {
          "output_type": "stream",
          "name": "stdout",
          "text": [
            "1/1 [==============================] - 0s 29ms/step\n"
          ]
        },
        {
          "output_type": "execute_result",
          "data": {
            "text/plain": [
              "'joy'"
            ],
            "application/vnd.google.colaboratory.intrinsic+json": {
              "type": "string"
            }
          },
          "metadata": {},
          "execution_count": 68
        }
      ]
    },
    {
      "cell_type": "code",
      "source": [
        "sentiment('তুমি পরীক্ষায় এত ভালো করবে ভাবিনি')"
      ],
      "metadata": {
        "execution": {
          "iopub.status.busy": "2023-03-14T08:34:47.461089Z",
          "iopub.execute_input": "2023-03-14T08:34:47.461518Z",
          "iopub.status.idle": "2023-03-14T08:34:47.546094Z",
          "shell.execute_reply.started": "2023-03-14T08:34:47.461479Z",
          "shell.execute_reply": "2023-03-14T08:34:47.544867Z"
        },
        "trusted": true,
        "id": "-k3-LLupso8-",
        "colab": {
          "base_uri": "https://localhost:8080/",
          "height": 54
        },
        "outputId": "0eba6d93-d025-4385-a4e9-5329de92b774"
      },
      "execution_count": 69,
      "outputs": [
        {
          "output_type": "stream",
          "name": "stdout",
          "text": [
            "1/1 [==============================] - 0s 31ms/step\n"
          ]
        },
        {
          "output_type": "execute_result",
          "data": {
            "text/plain": [
              "'joy'"
            ],
            "application/vnd.google.colaboratory.intrinsic+json": {
              "type": "string"
            }
          },
          "metadata": {},
          "execution_count": 69
        }
      ]
    },
    {
      "cell_type": "code",
      "source": [
        "sentiment('আহা কি আনন্দ আকাশে বাতাসে')"
      ],
      "metadata": {
        "id": "KxAyAprajKUC",
        "colab": {
          "base_uri": "https://localhost:8080/",
          "height": 54
        },
        "outputId": "313f5b6a-9ddb-4a12-d0ae-21e08cac2e2b"
      },
      "execution_count": 70,
      "outputs": [
        {
          "output_type": "stream",
          "name": "stdout",
          "text": [
            "1/1 [==============================] - 0s 34ms/step\n"
          ]
        },
        {
          "output_type": "execute_result",
          "data": {
            "text/plain": [
              "'joy'"
            ],
            "application/vnd.google.colaboratory.intrinsic+json": {
              "type": "string"
            }
          },
          "metadata": {},
          "execution_count": 70
        }
      ]
    }
  ]
}